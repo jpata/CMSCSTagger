{
 "cells": [
  {
   "cell_type": "code",
   "execution_count": 1,
   "metadata": {
    "collapsed": false
   },
   "outputs": [
    {
     "name": "stdout",
     "output_type": "stream",
     "text": [
      "/Users/joosep/Documents/btv/SuperTagger/python\n"
     ]
    }
   ],
   "source": [
    "cd /Users/joosep/Documents/btv/SuperTagger/python"
   ]
  },
  {
   "cell_type": "code",
   "execution_count": 98,
   "metadata": {
    "collapsed": false
   },
   "outputs": [],
   "source": [
    "import ROOT\n",
    "\n",
    "import root_numpy as rnpy\n",
    "import pandas as pd\n",
    "import numpy as np\n",
    "\n",
    "%matplotlib inline\n",
    "import matplotlib.pyplot as plt\n",
    "import seaborn"
   ]
  },
  {
   "cell_type": "code",
   "execution_count": 46,
   "metadata": {
    "collapsed": false
   },
   "outputs": [],
   "source": [
    "d1 = pd.DataFrame(rnpy.root2array(\n",
    "    \"/Users/joosep/Documents/btv/data/Oct24/job_0_out.root\",\n",
    "    treename=\"tagVars/ttree\"\n",
    "))"
   ]
  },
  {
   "cell_type": "code",
   "execution_count": 47,
   "metadata": {
    "collapsed": false
   },
   "outputs": [],
   "source": [
    "d2 = pd.DataFrame(rnpy.root2array(\n",
    "    \"/Users/joosep/Documents/btv/data/Oct24/job_0_out.root\",\n",
    "    treename=\"tagVars/ttree_track\"\n",
    "))"
   ]
  },
  {
   "cell_type": "code",
   "execution_count": 48,
   "metadata": {
    "collapsed": false
   },
   "outputs": [
    {
     "data": {
      "text/plain": [
       "['Jet_CSV',\n",
       " 'Jet_CSVIVF',\n",
       " 'Jet_JBP',\n",
       " 'Jet_JP',\n",
       " 'Jet_SoftEl',\n",
       " 'Jet_SoftMu',\n",
       " 'Jet_cMVA',\n",
       " 'Jet_eta',\n",
       " 'Jet_flavour',\n",
       " 'Jet_genpt',\n",
       " 'Jet_jetIndex',\n",
       " 'Jet_mass',\n",
       " 'Jet_nbHadrons',\n",
       " 'Jet_phi',\n",
       " 'Jet_pt',\n",
       " 'TagVarCSV_flightDistance2dSig',\n",
       " 'TagVarCSV_flightDistance2dVal',\n",
       " 'TagVarCSV_flightDistance3dSig',\n",
       " 'TagVarCSV_flightDistance3dVal',\n",
       " 'TagVarCSV_jetNSecondaryVertices',\n",
       " 'TagVarCSV_jetNTracks',\n",
       " 'TagVarCSV_jetNTracksEtaRel',\n",
       " 'TagVarCSV_trackDecayLenVal_0',\n",
       " 'TagVarCSV_trackDecayLenVal_1',\n",
       " 'TagVarCSV_trackDecayLenVal_2',\n",
       " 'TagVarCSV_trackDecayLenVal_3',\n",
       " 'TagVarCSV_trackDeltaR_0',\n",
       " 'TagVarCSV_trackDeltaR_1',\n",
       " 'TagVarCSV_trackDeltaR_2',\n",
       " 'TagVarCSV_trackDeltaR_3',\n",
       " 'TagVarCSV_trackEtaRel_0',\n",
       " 'TagVarCSV_trackEtaRel_1',\n",
       " 'TagVarCSV_trackEtaRel_2',\n",
       " 'TagVarCSV_trackEtaRel_3',\n",
       " 'TagVarCSV_trackJetDist_0',\n",
       " 'TagVarCSV_trackJetDist_1',\n",
       " 'TagVarCSV_trackJetDist_2',\n",
       " 'TagVarCSV_trackJetDist_3',\n",
       " 'TagVarCSV_trackPtRatio_0',\n",
       " 'TagVarCSV_trackPtRatio_1',\n",
       " 'TagVarCSV_trackPtRatio_2',\n",
       " 'TagVarCSV_trackPtRatio_3',\n",
       " 'TagVarCSV_trackPtRel_0',\n",
       " 'TagVarCSV_trackPtRel_1',\n",
       " 'TagVarCSV_trackPtRel_2',\n",
       " 'TagVarCSV_trackPtRel_3',\n",
       " 'TagVarCSV_trackSip2dSigAboveCharm',\n",
       " 'TagVarCSV_trackSip2dSig_0',\n",
       " 'TagVarCSV_trackSip2dSig_1',\n",
       " 'TagVarCSV_trackSip2dSig_2',\n",
       " 'TagVarCSV_trackSip2dSig_3',\n",
       " 'TagVarCSV_trackSip2dValAboveCharm',\n",
       " 'TagVarCSV_trackSip3dSigAboveCharm',\n",
       " 'TagVarCSV_trackSip3dSig_0',\n",
       " 'TagVarCSV_trackSip3dSig_1',\n",
       " 'TagVarCSV_trackSip3dSig_2',\n",
       " 'TagVarCSV_trackSip3dSig_3',\n",
       " 'TagVarCSV_trackSip3dValAboveCharm',\n",
       " 'TagVarCSV_trackSumJetDeltaR',\n",
       " 'TagVarCSV_trackSumJetEtRatio',\n",
       " 'TagVarCSV_vertexCategory',\n",
       " 'TagVarCSV_vertexEnergyRatio',\n",
       " 'TagVarCSV_vertexJetDeltaR',\n",
       " 'TagVarCSV_vertexMass',\n",
       " 'TagVarCSV_vertexNTracks']"
      ]
     },
     "execution_count": 48,
     "metadata": {},
     "output_type": "execute_result"
    }
   ],
   "source": [
    "sorted(d1.columns)"
   ]
  },
  {
   "cell_type": "code",
   "execution_count": 49,
   "metadata": {
    "collapsed": false
   },
   "outputs": [
    {
     "data": {
      "text/html": [
       "<div>\n",
       "<table border=\"1\" class=\"dataframe\">\n",
       "  <thead>\n",
       "    <tr style=\"text-align: right;\">\n",
       "      <th></th>\n",
       "      <th>Jet_jetIndex</th>\n",
       "      <th>Jet_pt</th>\n",
       "      <th>Jet_eta</th>\n",
       "      <th>Jet_phi</th>\n",
       "      <th>Jet_flavour</th>\n",
       "    </tr>\n",
       "  </thead>\n",
       "  <tbody>\n",
       "    <tr>\n",
       "      <th>0</th>\n",
       "      <td>0</td>\n",
       "      <td>152.416916</td>\n",
       "      <td>-0.501351</td>\n",
       "      <td>-2.177906</td>\n",
       "      <td>-5.0</td>\n",
       "    </tr>\n",
       "    <tr>\n",
       "      <th>1</th>\n",
       "      <td>1</td>\n",
       "      <td>135.050537</td>\n",
       "      <td>0.246850</td>\n",
       "      <td>1.081734</td>\n",
       "      <td>5.0</td>\n",
       "    </tr>\n",
       "    <tr>\n",
       "      <th>2</th>\n",
       "      <td>2</td>\n",
       "      <td>22.593838</td>\n",
       "      <td>1.810297</td>\n",
       "      <td>-1.081071</td>\n",
       "      <td>21.0</td>\n",
       "    </tr>\n",
       "    <tr>\n",
       "      <th>3</th>\n",
       "      <td>3</td>\n",
       "      <td>54.100124</td>\n",
       "      <td>0.035017</td>\n",
       "      <td>-1.578592</td>\n",
       "      <td>21.0</td>\n",
       "    </tr>\n",
       "  </tbody>\n",
       "</table>\n",
       "</div>"
      ],
      "text/plain": [
       "   Jet_jetIndex      Jet_pt   Jet_eta   Jet_phi  Jet_flavour\n",
       "0             0  152.416916 -0.501351 -2.177906         -5.0\n",
       "1             1  135.050537  0.246850  1.081734          5.0\n",
       "2             2   22.593838  1.810297 -1.081071         21.0\n",
       "3             3   54.100124  0.035017 -1.578592         21.0"
      ]
     },
     "execution_count": 49,
     "metadata": {},
     "output_type": "execute_result"
    }
   ],
   "source": [
    "d1[[\"Jet_jetIndex\", \"Jet_pt\", \"Jet_eta\", \"Jet_phi\", \"Jet_flavour\"]].head(4)"
   ]
  },
  {
   "cell_type": "code",
   "execution_count": 50,
   "metadata": {
    "collapsed": false
   },
   "outputs": [
    {
     "data": {
      "text/plain": [
       "['Track_IP',\n",
       " 'Track_IP2D',\n",
       " 'Track_IP2Derr',\n",
       " 'Track_IP2Dsig',\n",
       " 'Track_IPerr',\n",
       " 'Track_IPsig',\n",
       " 'Track_LongIP',\n",
       " 'Track_PV',\n",
       " 'Track_PVweight',\n",
       " 'Track_Proba',\n",
       " 'Track_SV',\n",
       " 'Track_SVweight',\n",
       " 'Track_category',\n",
       " 'Track_charge',\n",
       " 'Track_chi2',\n",
       " 'Track_dist',\n",
       " 'Track_distTau',\n",
       " 'Track_dxy',\n",
       " 'Track_dz',\n",
       " 'Track_eta',\n",
       " 'Track_history',\n",
       " 'Track_isHitL1',\n",
       " 'Track_isfromSV',\n",
       " 'Track_isfromV0',\n",
       " 'Track_jetIndex',\n",
       " 'Track_length',\n",
       " 'Track_lengthTau',\n",
       " 'Track_nHitAll',\n",
       " 'Track_nHitPXB',\n",
       " 'Track_nHitPXF',\n",
       " 'Track_nHitPixel',\n",
       " 'Track_nHitStrip',\n",
       " 'Track_nHitTEC',\n",
       " 'Track_nHitTIB',\n",
       " 'Track_nHitTID',\n",
       " 'Track_nHitTOB',\n",
       " 'Track_p',\n",
       " 'Track_phi',\n",
       " 'Track_pt']"
      ]
     },
     "execution_count": 50,
     "metadata": {},
     "output_type": "execute_result"
    }
   ],
   "source": [
    "sorted(d2.columns)"
   ]
  },
  {
   "cell_type": "code",
   "execution_count": 51,
   "metadata": {
    "collapsed": false
   },
   "outputs": [
    {
     "data": {
      "text/html": [
       "<div>\n",
       "<table border=\"1\" class=\"dataframe\">\n",
       "  <thead>\n",
       "    <tr style=\"text-align: right;\">\n",
       "      <th></th>\n",
       "      <th>Track_jetIndex</th>\n",
       "      <th>Track_pt</th>\n",
       "      <th>Track_eta</th>\n",
       "      <th>Track_phi</th>\n",
       "      <th>Track_IP</th>\n",
       "      <th>Track_IPerr</th>\n",
       "      <th>Track_IP2D</th>\n",
       "      <th>Track_IP2Derr</th>\n",
       "      <th>Track_length</th>\n",
       "      <th>Track_chi2</th>\n",
       "    </tr>\n",
       "  </thead>\n",
       "  <tbody>\n",
       "    <tr>\n",
       "      <th>0</th>\n",
       "      <td>0</td>\n",
       "      <td>6.769531</td>\n",
       "      <td>-0.453566</td>\n",
       "      <td>-2.115593</td>\n",
       "      <td>0.035535</td>\n",
       "      <td>0.002674</td>\n",
       "      <td>0.029434</td>\n",
       "      <td>0.002397</td>\n",
       "      <td>0.505877</td>\n",
       "      <td>0.0</td>\n",
       "    </tr>\n",
       "    <tr>\n",
       "      <th>1</th>\n",
       "      <td>0</td>\n",
       "      <td>24.765625</td>\n",
       "      <td>-0.472610</td>\n",
       "      <td>-2.163055</td>\n",
       "      <td>0.005908</td>\n",
       "      <td>0.001545</td>\n",
       "      <td>0.004541</td>\n",
       "      <td>0.001151</td>\n",
       "      <td>0.189045</td>\n",
       "      <td>0.0</td>\n",
       "    </tr>\n",
       "    <tr>\n",
       "      <th>2</th>\n",
       "      <td>0</td>\n",
       "      <td>2.529297</td>\n",
       "      <td>-0.484146</td>\n",
       "      <td>-2.093427</td>\n",
       "      <td>0.019765</td>\n",
       "      <td>0.005525</td>\n",
       "      <td>0.019629</td>\n",
       "      <td>0.005533</td>\n",
       "      <td>0.258014</td>\n",
       "      <td>1.0</td>\n",
       "    </tr>\n",
       "    <tr>\n",
       "      <th>3</th>\n",
       "      <td>0</td>\n",
       "      <td>26.109375</td>\n",
       "      <td>-0.496048</td>\n",
       "      <td>-2.195771</td>\n",
       "      <td>0.002096</td>\n",
       "      <td>0.001910</td>\n",
       "      <td>0.001482</td>\n",
       "      <td>0.001580</td>\n",
       "      <td>0.111160</td>\n",
       "      <td>1.0</td>\n",
       "    </tr>\n",
       "    <tr>\n",
       "      <th>4</th>\n",
       "      <td>0</td>\n",
       "      <td>3.316406</td>\n",
       "      <td>-0.520402</td>\n",
       "      <td>-2.239329</td>\n",
       "      <td>0.020030</td>\n",
       "      <td>0.006296</td>\n",
       "      <td>0.019521</td>\n",
       "      <td>0.006314</td>\n",
       "      <td>0.355308</td>\n",
       "      <td>0.0</td>\n",
       "    </tr>\n",
       "    <tr>\n",
       "      <th>5</th>\n",
       "      <td>0</td>\n",
       "      <td>4.054688</td>\n",
       "      <td>-0.613971</td>\n",
       "      <td>-2.058361</td>\n",
       "      <td>0.053840</td>\n",
       "      <td>0.003485</td>\n",
       "      <td>0.034521</td>\n",
       "      <td>0.003385</td>\n",
       "      <td>0.378343</td>\n",
       "      <td>0.0</td>\n",
       "    </tr>\n",
       "    <tr>\n",
       "      <th>6</th>\n",
       "      <td>1</td>\n",
       "      <td>1.375000</td>\n",
       "      <td>0.397717</td>\n",
       "      <td>1.112625</td>\n",
       "      <td>0.070068</td>\n",
       "      <td>0.006285</td>\n",
       "      <td>0.016348</td>\n",
       "      <td>0.006409</td>\n",
       "      <td>0.481522</td>\n",
       "      <td>2.0</td>\n",
       "    </tr>\n",
       "    <tr>\n",
       "      <th>7</th>\n",
       "      <td>1</td>\n",
       "      <td>1.421875</td>\n",
       "      <td>0.350841</td>\n",
       "      <td>1.047305</td>\n",
       "      <td>-0.008211</td>\n",
       "      <td>0.006775</td>\n",
       "      <td>-0.008193</td>\n",
       "      <td>0.006768</td>\n",
       "      <td>0.030645</td>\n",
       "      <td>0.0</td>\n",
       "    </tr>\n",
       "    <tr>\n",
       "      <th>8</th>\n",
       "      <td>1</td>\n",
       "      <td>2.167969</td>\n",
       "      <td>0.344798</td>\n",
       "      <td>1.122784</td>\n",
       "      <td>0.002400</td>\n",
       "      <td>0.007516</td>\n",
       "      <td>0.001793</td>\n",
       "      <td>0.006766</td>\n",
       "      <td>0.021439</td>\n",
       "      <td>1.0</td>\n",
       "    </tr>\n",
       "    <tr>\n",
       "      <th>9</th>\n",
       "      <td>1</td>\n",
       "      <td>5.214844</td>\n",
       "      <td>0.290231</td>\n",
       "      <td>1.099254</td>\n",
       "      <td>0.017501</td>\n",
       "      <td>0.004187</td>\n",
       "      <td>0.000136</td>\n",
       "      <td>0.002527</td>\n",
       "      <td>0.363713</td>\n",
       "      <td>0.0</td>\n",
       "    </tr>\n",
       "    <tr>\n",
       "      <th>10</th>\n",
       "      <td>1</td>\n",
       "      <td>21.546875</td>\n",
       "      <td>0.259285</td>\n",
       "      <td>1.086751</td>\n",
       "      <td>-0.001752</td>\n",
       "      <td>0.001223</td>\n",
       "      <td>-0.001752</td>\n",
       "      <td>0.001222</td>\n",
       "      <td>0.051719</td>\n",
       "      <td>0.0</td>\n",
       "    </tr>\n",
       "    <tr>\n",
       "      <th>11</th>\n",
       "      <td>1</td>\n",
       "      <td>6.128906</td>\n",
       "      <td>0.241890</td>\n",
       "      <td>1.038507</td>\n",
       "      <td>0.007867</td>\n",
       "      <td>0.004247</td>\n",
       "      <td>0.000205</td>\n",
       "      <td>0.002418</td>\n",
       "      <td>0.028061</td>\n",
       "      <td>1.0</td>\n",
       "    </tr>\n",
       "    <tr>\n",
       "      <th>12</th>\n",
       "      <td>1</td>\n",
       "      <td>27.953125</td>\n",
       "      <td>0.239143</td>\n",
       "      <td>1.110776</td>\n",
       "      <td>0.012672</td>\n",
       "      <td>0.001361</td>\n",
       "      <td>0.012246</td>\n",
       "      <td>0.001155</td>\n",
       "      <td>0.381285</td>\n",
       "      <td>0.0</td>\n",
       "    </tr>\n",
       "    <tr>\n",
       "      <th>13</th>\n",
       "      <td>1</td>\n",
       "      <td>11.664062</td>\n",
       "      <td>0.226508</td>\n",
       "      <td>1.070834</td>\n",
       "      <td>0.015842</td>\n",
       "      <td>0.004014</td>\n",
       "      <td>0.007549</td>\n",
       "      <td>0.001887</td>\n",
       "      <td>0.710436</td>\n",
       "      <td>0.0</td>\n",
       "    </tr>\n",
       "    <tr>\n",
       "      <th>14</th>\n",
       "      <td>2</td>\n",
       "      <td>1.138672</td>\n",
       "      <td>2.024293</td>\n",
       "      <td>-1.183541</td>\n",
       "      <td>-0.012771</td>\n",
       "      <td>0.017157</td>\n",
       "      <td>-0.012666</td>\n",
       "      <td>0.017176</td>\n",
       "      <td>0.068621</td>\n",
       "      <td>0.0</td>\n",
       "    </tr>\n",
       "    <tr>\n",
       "      <th>15</th>\n",
       "      <td>2</td>\n",
       "      <td>1.060547</td>\n",
       "      <td>1.981079</td>\n",
       "      <td>-1.104321</td>\n",
       "      <td>-0.015196</td>\n",
       "      <td>0.018231</td>\n",
       "      <td>-0.007681</td>\n",
       "      <td>0.018284</td>\n",
       "      <td>0.277067</td>\n",
       "      <td>1.0</td>\n",
       "    </tr>\n",
       "    <tr>\n",
       "      <th>16</th>\n",
       "      <td>2</td>\n",
       "      <td>3.695312</td>\n",
       "      <td>1.780023</td>\n",
       "      <td>-1.161068</td>\n",
       "      <td>-0.000363</td>\n",
       "      <td>0.005153</td>\n",
       "      <td>-0.000023</td>\n",
       "      <td>0.005118</td>\n",
       "      <td>0.005885</td>\n",
       "      <td>0.0</td>\n",
       "    </tr>\n",
       "    <tr>\n",
       "      <th>17</th>\n",
       "      <td>3</td>\n",
       "      <td>3.804688</td>\n",
       "      <td>0.290231</td>\n",
       "      <td>-1.566451</td>\n",
       "      <td>0.008481</td>\n",
       "      <td>0.005094</td>\n",
       "      <td>-0.001530</td>\n",
       "      <td>0.003391</td>\n",
       "      <td>0.033237</td>\n",
       "      <td>0.0</td>\n",
       "    </tr>\n",
       "    <tr>\n",
       "      <th>18</th>\n",
       "      <td>3</td>\n",
       "      <td>3.736328</td>\n",
       "      <td>0.168279</td>\n",
       "      <td>-1.526319</td>\n",
       "      <td>-0.005714</td>\n",
       "      <td>0.005324</td>\n",
       "      <td>-0.001142</td>\n",
       "      <td>0.002874</td>\n",
       "      <td>0.039708</td>\n",
       "      <td>1.0</td>\n",
       "    </tr>\n",
       "    <tr>\n",
       "      <th>19</th>\n",
       "      <td>3</td>\n",
       "      <td>2.041016</td>\n",
       "      <td>0.159307</td>\n",
       "      <td>-1.811281</td>\n",
       "      <td>-0.013596</td>\n",
       "      <td>0.008518</td>\n",
       "      <td>-0.005488</td>\n",
       "      <td>0.008162</td>\n",
       "      <td>0.041632</td>\n",
       "      <td>0.0</td>\n",
       "    </tr>\n",
       "  </tbody>\n",
       "</table>\n",
       "</div>"
      ],
      "text/plain": [
       "    Track_jetIndex   Track_pt  Track_eta  Track_phi  Track_IP  Track_IPerr  \\\n",
       "0                0   6.769531  -0.453566  -2.115593  0.035535     0.002674   \n",
       "1                0  24.765625  -0.472610  -2.163055  0.005908     0.001545   \n",
       "2                0   2.529297  -0.484146  -2.093427  0.019765     0.005525   \n",
       "3                0  26.109375  -0.496048  -2.195771  0.002096     0.001910   \n",
       "4                0   3.316406  -0.520402  -2.239329  0.020030     0.006296   \n",
       "5                0   4.054688  -0.613971  -2.058361  0.053840     0.003485   \n",
       "6                1   1.375000   0.397717   1.112625  0.070068     0.006285   \n",
       "7                1   1.421875   0.350841   1.047305 -0.008211     0.006775   \n",
       "8                1   2.167969   0.344798   1.122784  0.002400     0.007516   \n",
       "9                1   5.214844   0.290231   1.099254  0.017501     0.004187   \n",
       "10               1  21.546875   0.259285   1.086751 -0.001752     0.001223   \n",
       "11               1   6.128906   0.241890   1.038507  0.007867     0.004247   \n",
       "12               1  27.953125   0.239143   1.110776  0.012672     0.001361   \n",
       "13               1  11.664062   0.226508   1.070834  0.015842     0.004014   \n",
       "14               2   1.138672   2.024293  -1.183541 -0.012771     0.017157   \n",
       "15               2   1.060547   1.981079  -1.104321 -0.015196     0.018231   \n",
       "16               2   3.695312   1.780023  -1.161068 -0.000363     0.005153   \n",
       "17               3   3.804688   0.290231  -1.566451  0.008481     0.005094   \n",
       "18               3   3.736328   0.168279  -1.526319 -0.005714     0.005324   \n",
       "19               3   2.041016   0.159307  -1.811281 -0.013596     0.008518   \n",
       "\n",
       "    Track_IP2D  Track_IP2Derr  Track_length  Track_chi2  \n",
       "0     0.029434       0.002397      0.505877         0.0  \n",
       "1     0.004541       0.001151      0.189045         0.0  \n",
       "2     0.019629       0.005533      0.258014         1.0  \n",
       "3     0.001482       0.001580      0.111160         1.0  \n",
       "4     0.019521       0.006314      0.355308         0.0  \n",
       "5     0.034521       0.003385      0.378343         0.0  \n",
       "6     0.016348       0.006409      0.481522         2.0  \n",
       "7    -0.008193       0.006768      0.030645         0.0  \n",
       "8     0.001793       0.006766      0.021439         1.0  \n",
       "9     0.000136       0.002527      0.363713         0.0  \n",
       "10   -0.001752       0.001222      0.051719         0.0  \n",
       "11    0.000205       0.002418      0.028061         1.0  \n",
       "12    0.012246       0.001155      0.381285         0.0  \n",
       "13    0.007549       0.001887      0.710436         0.0  \n",
       "14   -0.012666       0.017176      0.068621         0.0  \n",
       "15   -0.007681       0.018284      0.277067         1.0  \n",
       "16   -0.000023       0.005118      0.005885         0.0  \n",
       "17   -0.001530       0.003391      0.033237         0.0  \n",
       "18   -0.001142       0.002874      0.039708         1.0  \n",
       "19   -0.005488       0.008162      0.041632         0.0  "
      ]
     },
     "execution_count": 51,
     "metadata": {},
     "output_type": "execute_result"
    }
   ],
   "source": [
    "d2[[\"Track_jetIndex\", \"Track_pt\", \"Track_eta\", \"Track_phi\", \"Track_IP\", \"Track_IPerr\", \"Track_IP2D\", \"Track_IP2Derr\", \"Track_length\", \"Track_chi2\"]].head(20)"
   ]
  },
  {
   "cell_type": "code",
   "execution_count": 124,
   "metadata": {
    "collapsed": false,
    "scrolled": false
   },
   "outputs": [],
   "source": [
    "jets_b = []\n",
    "jets_l = []\n",
    "jets_c = []\n",
    "\n",
    "for irow, row in d1.iterrows():\n",
    "    jetIndex = int(row.Jet_jetIndex)\n",
    "    flavour = int(row[\"Jet_flavour\"])\n",
    "    \n",
    "    #select matching tracks with full scan\n",
    "    sel = d2[\"Track_jetIndex\"] == jetIndex\n",
    "    \n",
    "    if abs(flavour) == 5:\n",
    "        jets = jets_b\n",
    "    elif abs(flavour) == 4:\n",
    "        jets = jets_c\n",
    "    else:\n",
    "        jets = jets_l\n",
    "        \n",
    "    #create jet tuple\n",
    "    jets += [(\n",
    "        (row[\"Jet_pt\"], row[\"Jet_eta\"], row[\"Jet_phi\"], row[\"Jet_mass\"]),\n",
    "        int(row[\"Jet_flavour\"]),\n",
    "        d2[sel][[\"Track_pt\", \"Track_eta\", \"Track_phi\", \"Track_dxy\", \"Track_dz\", \"Track_IP\", \"Track_IP2D\", \"Track_length\"]].as_matrix()\n",
    "    )]\n",
    "    if irow >= 10000:\n",
    "        break"
   ]
  },
  {
   "cell_type": "code",
   "execution_count": 125,
   "metadata": {
    "collapsed": false
   },
   "outputs": [
    {
     "data": {
      "text/plain": [
       "3382"
      ]
     },
     "execution_count": 125,
     "metadata": {},
     "output_type": "execute_result"
    }
   ],
   "source": [
    "len(jets_b)"
   ]
  },
  {
   "cell_type": "code",
   "execution_count": 126,
   "metadata": {
    "collapsed": false
   },
   "outputs": [],
   "source": [
    "def plot_tracks(jets):\n",
    "    ips = []\n",
    "    for jet in jets:\n",
    "        tracks_ip = jet[2][:,5]\n",
    "        ips += list(tracks_ip)\n",
    "    plt.hist(ips, bins=np.linspace(-0.5, 0.5, 100));\n",
    "    #plt.yscale(\"log\")"
   ]
  },
  {
   "cell_type": "code",
   "execution_count": 127,
   "metadata": {
    "collapsed": false,
    "scrolled": false
   },
   "outputs": [
    {
     "data": {
      "image/png": "[encoded data removed]",
      "text/plain": [
       "<matplotlib.figure.Figure at 0x142948510>"
      ]
     },
     "metadata": {},
     "output_type": "display_data"
    }
   ],
   "source": [
    "plot_tracks(jets_b)"
   ]
  },
  {
   "cell_type": "code",
   "execution_count": 128,
   "metadata": {
    "collapsed": false
   },
   "outputs": [
    {
     "data": {
      "image/png": "[encoded data removed]",
      "text/plain": [
       "<matplotlib.figure.Figure at 0x142948490>"
      ]
     },
     "metadata": {},
     "output_type": "display_data"
    }
   ],
   "source": [
    "plot_tracks(jets_c)"
   ]
  },
  {
   "cell_type": "code",
   "execution_count": 129,
   "metadata": {
    "collapsed": false
   },
   "outputs": [
    {
     "data": {
      "image/png": "[encoded data removed]",
      "text/plain": [
       "<matplotlib.figure.Figure at 0x142f98b10>"
      ]
     },
     "metadata": {},
     "output_type": "display_data"
    }
   ],
   "source": [
    "plot_tracks(jets_l)"
   ]
  }
 ],
 "metadata": {
  "kernelspec": {
   "display_name": "Python 2",
   "language": "python",
   "name": "python2"
  },
  "language_info": {
   "codemirror_mode": {
    "name": "ipython",
    "version": 2
   },
   "file_extension": ".py",
   "mimetype": "text/x-python",
   "name": "python",
   "nbconvert_exporter": "python",
   "pygments_lexer": "ipython2",
   "version": "2.7.12"
  }
 },
 "nbformat": 4,
 "nbformat_minor": 1
}
