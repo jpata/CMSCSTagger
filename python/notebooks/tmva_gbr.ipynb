{
 "cells": [
  {
   "cell_type": "code",
   "execution_count": 8,
   "metadata": {
    "collapsed": true
   },
   "outputs": [],
   "source": [
    "import ROOT, root_numpy, pandas"
   ]
  },
  {
   "cell_type": "code",
   "execution_count": 9,
   "metadata": {
    "collapsed": true
   },
   "outputs": [],
   "source": [
    "tf1 = \"/Users/joosep/Documents/btv/data/aug5_tmva_gbr/tmva.root\"\n",
    "tf2 = \"/Users/joosep/Documents/btv/data/aug5_tmva_gbr/gbr.root\""
   ]
  },
  {
   "cell_type": "code",
   "execution_count": 14,
   "metadata": {
    "collapsed": true
   },
   "outputs": [],
   "source": [
    "def get_table(tf):\n",
    "    d = root_numpy.root2rec(tf, \"btagana/ttree\", branches=[\"nJet\", \"Jet_CombMVA\", \"Jet_CombMVAV2\"])\n",
    "    return pandas.DataFrame(d)"
   ]
  },
  {
   "cell_type": "code",
   "execution_count": 17,
   "metadata": {
    "collapsed": false
   },
   "outputs": [],
   "source": [
    "a = get_table(tf1)\n",
    "b = get_table(tf2)"
   ]
  },
  {
   "cell_type": "code",
   "execution_count": 19,
   "metadata": {
    "collapsed": false
   },
   "outputs": [
    {
     "data": {
      "text/html": [
       "<div style=\"max-height:1000px;max-width:1500px;overflow:auto;\">\n",
       "<table border=\"1\" class=\"dataframe\">\n",
       "  <thead>\n",
       "    <tr style=\"text-align: right;\">\n",
       "      <th></th>\n",
       "      <th>nJet</th>\n",
       "      <th>Jet_CombMVA</th>\n",
       "      <th>Jet_CombMVAV2</th>\n",
       "    </tr>\n",
       "  </thead>\n",
       "  <tbody>\n",
       "    <tr>\n",
       "      <th>0</th>\n",
       "      <td>5</td>\n",
       "      <td>[0.968144, 0.583512, 0.162537, 0.696906, 0.285...</td>\n",
       "      <td>[0.99981, -0.963584, -0.984135, -0.412121, -0....</td>\n",
       "    </tr>\n",
       "    <tr>\n",
       "      <th>1</th>\n",
       "      <td>2</td>\n",
       "      <td>[0.465486, 0.359678]</td>\n",
       "      <td>[-0.597679, -0.957065]</td>\n",
       "    </tr>\n",
       "    <tr>\n",
       "      <th>2</th>\n",
       "      <td>4</td>\n",
       "      <td>[0.616637, 0.999852, 0.566816, 0.567574]</td>\n",
       "      <td>[-0.887853, 0.999941, -0.981252, -0.981682]</td>\n",
       "    </tr>\n",
       "    <tr>\n",
       "      <th>3</th>\n",
       "      <td>6</td>\n",
       "      <td>[0.114551, 0.316186, 0.405888, 0.239929, 0.544...</td>\n",
       "      <td>[-0.974934, -0.971849, -0.942127, -0.973609, -...</td>\n",
       "    </tr>\n",
       "    <tr>\n",
       "      <th>4</th>\n",
       "      <td>5</td>\n",
       "      <td>[0.999937, 0.882871, 0.230767, 0.442568, 0.20235]</td>\n",
       "      <td>[0.847928, 0.993175, -0.98013, -0.922003, -0.9...</td>\n",
       "    </tr>\n",
       "  </tbody>\n",
       "</table>\n",
       "</div>"
      ],
      "text/plain": [
       "   nJet                                        Jet_CombMVA  \\\n",
       "0     5  [0.968144, 0.583512, 0.162537, 0.696906, 0.285...   \n",
       "1     2                               [0.465486, 0.359678]   \n",
       "2     4           [0.616637, 0.999852, 0.566816, 0.567574]   \n",
       "3     6  [0.114551, 0.316186, 0.405888, 0.239929, 0.544...   \n",
       "4     5  [0.999937, 0.882871, 0.230767, 0.442568, 0.20235]   \n",
       "\n",
       "                                       Jet_CombMVAV2  \n",
       "0  [0.99981, -0.963584, -0.984135, -0.412121, -0....  \n",
       "1                             [-0.597679, -0.957065]  \n",
       "2        [-0.887853, 0.999941, -0.981252, -0.981682]  \n",
       "3  [-0.974934, -0.971849, -0.942127, -0.973609, -...  \n",
       "4  [0.847928, 0.993175, -0.98013, -0.922003, -0.9...  "
      ]
     },
     "execution_count": 19,
     "metadata": {},
     "output_type": "execute_result"
    }
   ],
   "source": [
    "a[:5]"
   ]
  },
  {
   "cell_type": "code",
   "execution_count": 20,
   "metadata": {
    "collapsed": false
   },
   "outputs": [
    {
     "data": {
      "text/html": [
       "<div style=\"max-height:1000px;max-width:1500px;overflow:auto;\">\n",
       "<table border=\"1\" class=\"dataframe\">\n",
       "  <thead>\n",
       "    <tr style=\"text-align: right;\">\n",
       "      <th></th>\n",
       "      <th>nJet</th>\n",
       "      <th>Jet_CombMVA</th>\n",
       "      <th>Jet_CombMVAV2</th>\n",
       "    </tr>\n",
       "  </thead>\n",
       "  <tbody>\n",
       "    <tr>\n",
       "      <th>0</th>\n",
       "      <td>5</td>\n",
       "      <td>[0.968144, 0.583512, 0.162537, 0.696906, 0.285...</td>\n",
       "      <td>[0.99981, -0.963584, -0.984135, -0.412121, -0....</td>\n",
       "    </tr>\n",
       "    <tr>\n",
       "      <th>1</th>\n",
       "      <td>2</td>\n",
       "      <td>[0.465486, 0.359678]</td>\n",
       "      <td>[-0.597679, -0.957065]</td>\n",
       "    </tr>\n",
       "    <tr>\n",
       "      <th>2</th>\n",
       "      <td>4</td>\n",
       "      <td>[0.616637, 0.999852, 0.566816, 0.567574]</td>\n",
       "      <td>[-0.887853, 0.999941, -0.981252, -0.981682]</td>\n",
       "    </tr>\n",
       "    <tr>\n",
       "      <th>3</th>\n",
       "      <td>6</td>\n",
       "      <td>[0.114551, 0.316186, 0.405888, 0.239929, 0.544...</td>\n",
       "      <td>[-0.974934, -0.971849, -0.942127, -0.973609, -...</td>\n",
       "    </tr>\n",
       "    <tr>\n",
       "      <th>4</th>\n",
       "      <td>5</td>\n",
       "      <td>[0.999937, 0.882871, 0.230767, 0.442568, 0.20235]</td>\n",
       "      <td>[0.847928, 0.993175, -0.98013, -0.922003, -0.9...</td>\n",
       "    </tr>\n",
       "  </tbody>\n",
       "</table>\n",
       "</div>"
      ],
      "text/plain": [
       "   nJet                                        Jet_CombMVA  \\\n",
       "0     5  [0.968144, 0.583512, 0.162537, 0.696906, 0.285...   \n",
       "1     2                               [0.465486, 0.359678]   \n",
       "2     4           [0.616637, 0.999852, 0.566816, 0.567574]   \n",
       "3     6  [0.114551, 0.316186, 0.405888, 0.239929, 0.544...   \n",
       "4     5  [0.999937, 0.882871, 0.230767, 0.442568, 0.20235]   \n",
       "\n",
       "                                       Jet_CombMVAV2  \n",
       "0  [0.99981, -0.963584, -0.984135, -0.412121, -0....  \n",
       "1                             [-0.597679, -0.957065]  \n",
       "2        [-0.887853, 0.999941, -0.981252, -0.981682]  \n",
       "3  [-0.974934, -0.971849, -0.942127, -0.973609, -...  \n",
       "4  [0.847928, 0.993175, -0.98013, -0.922003, -0.9...  "
      ]
     },
     "execution_count": 20,
     "metadata": {},
     "output_type": "execute_result"
    }
   ],
   "source": [
    "b[:5]"
   ]
  },
  {
   "cell_type": "code",
   "execution_count": null,
   "metadata": {
    "collapsed": true
   },
   "outputs": [],
   "source": []
  }
 ],
 "metadata": {
  "kernelspec": {
   "display_name": "Python 2",
   "language": "python",
   "name": "python2"
  },
  "language_info": {
   "codemirror_mode": {
    "name": "ipython",
    "version": 2
   },
   "file_extension": ".py",
   "mimetype": "text/x-python",
   "name": "python",
   "nbconvert_exporter": "python",
   "pygments_lexer": "ipython2",
   "version": "2.7.9"
  }
 },
 "nbformat": 4,
 "nbformat_minor": 0
}
