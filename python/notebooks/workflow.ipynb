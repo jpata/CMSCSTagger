{
 "cells": [
  {
   "cell_type": "markdown",
   "metadata": {},
   "source": [
    "# Full workflow"
   ]
  },
  {
   "cell_type": "markdown",
   "metadata": {},
   "source": [
    "We use the tag **7_4_X_v1.05** for the base of the BTagAnalyzer\n",
    "\n",
    "main git page: https://github.com/cms-btv-pog/RecoBTag-PerformanceMeasurement\n",
    "\n",
    "tag recipe: https://github.com/cms-btv-pog/RecoBTag-PerformanceMeasurements/tree/90dd4df8c3d160700c70397bfa1cf5382e743b00"
   ]
  },
  {
   "cell_type": "markdown",
   "metadata": {},
   "source": [
    "##### CMSSW recipe"
   ]
  },
  {
   "cell_type": "markdown",
   "metadata": {},
   "source": [
    "~~~\n",
    "export SCRAM_ARCH=slc6_amd64_gcc491\n",
    "cmsrel CMSSW_7_4_5\n",
    "cd CMSSW_7_4_5/src\n",
    "cmsenv\n",
    "git cms-init\n",
    "git remote add btv-cmssw https://github.com/cms-btv-pog/cmssw.git\n",
    "git fetch btv-cmssw\n",
    "git cms-merge-topic -u cms-btv-pog:BoostedDoubleSVTagger-WithWeightFiles-v2_from-CMSSW_7_4_1\n",
    "\n",
    "git clone -b V00-00-01 git://github.com/cms-btv-pog/cms-EventCounter.git MyAnalysis/EventCounter\n",
    "git clone -b 7_4_X_v1.05 git@github.com:cms-btv-pog/RecoBTag-PerformanceMeasurements.git RecoBTag/PerformanceMeasurements\n",
    "~~~"
   ]
  },
  {
   "cell_type": "markdown",
   "metadata": {},
   "source": [
    "We have added the cMVA to the pat jets, thus you need to merge"
   ]
  },
  {
   "cell_type": "markdown",
   "metadata": {},
   "source": [
    "~~~\n",
    "git remote add jpata git@github.com:jpata/cmssw.git\n",
    "git fetch -a jpata\n",
    "git checkout -b merge\n",
    "git merge jpata/cMVA-new\n",
    "~~~"
   ]
  },
  {
   "cell_type": "markdown",
   "metadata": {},
   "source": [
    "##### BTagAnalyzer"
   ]
  },
  {
   "cell_type": "markdown",
   "metadata": {},
   "source": [
    "The BTagAnalyzer with added cMVA is in the separate repository and must be merged."
   ]
  },
  {
   "cell_type": "markdown",
   "metadata": {},
   "source": [
    "~~~\n",
    "cd $CMSSW_BASE/src\n",
    "cd RecoBTag/PerformanceMeasurements\n",
    "git checkout -b merge\n",
    "git remote add jpata git@github.com:jpata/RecoBTag-PerformanceMeasurements.git\n",
    "git fetch -a jpata\n",
    "git merge jpata/cMVA-new\n",
    "~~~"
   ]
  },
  {
   "cell_type": "markdown",
   "metadata": {},
   "source": [
    "Now you have to manually fix any conflicts."
   ]
  },
  {
   "cell_type": "markdown",
   "metadata": {},
   "source": [
    "##### TagVarExtractor"
   ]
  },
  {
   "cell_type": "markdown",
   "metadata": {},
   "source": [
    "~~~\n",
    "cd $CMSSW_BASE/src\n",
    "git clone -b 7_4_X git@github.com:cms-btv-pog/RecoBTag-TagVarExtractor.git RecoBTag/TagVarExtractor\n",
    "cd RecoBTag/TagVarExtractor\n",
    "git remote add jpata git@github.com:jpata/RecoBTag-TagVarExtractor.git\n",
    "git fetch -a jpata\n",
    "git checkout -b merge\n",
    "git merge jpata/cMVA-new\n",
    "~~~ "
   ]
  },
  {
   "cell_type": "markdown",
   "metadata": {},
   "source": [
    "##### CMSCSTagger"
   ]
  },
  {
   "cell_type": "markdown",
   "metadata": {},
   "source": [
    "~~~\n",
    "cd $CMSSW_BASE/src\n",
    "git clone git@github.com:jpata/CMSCSTagger.git RecoBTag/CMSCSTagger\n",
    "~~~"
   ]
  },
  {
   "cell_type": "code",
   "execution_count": null,
   "metadata": {
    "collapsed": true
   },
   "outputs": [],
   "source": []
  }
 ],
 "metadata": {
  "kernelspec": {
   "display_name": "Python 2",
   "language": "python",
   "name": "python2"
  },
  "language_info": {
   "codemirror_mode": {
    "name": "ipython",
    "version": 2
   },
   "file_extension": ".py",
   "mimetype": "text/x-python",
   "name": "python",
   "nbconvert_exporter": "python",
   "pygments_lexer": "ipython2",
   "version": "2.7.9"
  }
 },
 "nbformat": 4,
 "nbformat_minor": 0
}
