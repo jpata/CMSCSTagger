{
 "cells": [
  {
   "cell_type": "code",
   "execution_count": 1,
   "metadata": {
    "collapsed": false
   },
   "outputs": [],
   "source": [
    "import sys\n",
    "sys.path.append(\"/Users/joosep/Documents/keras\")\n",
    "import keras\n",
    "import root_numpy as rnpy\n",
    "import numpy as np\n",
    "import pandas\n",
    "import matplotlib.pyplot as plt"
   ]
  },
  {
   "cell_type": "code",
   "execution_count": 2,
   "metadata": {
    "collapsed": true
   },
   "outputs": [],
   "source": [
    "%matplotlib inline"
   ]
  },
  {
   "cell_type": "code",
   "execution_count": 3,
   "metadata": {
    "collapsed": false
   },
   "outputs": [],
   "source": [
    "ptbins = np.linspace(20,620,11)\n",
    "etabins = np.linspace(0.5,11)\n",
    "def load_dataset(fn, treename, i):\n",
    "    arr = rnpy.root2rec(\n",
    "        fn,\n",
    "        selection=\"Jet_pt>20\",\n",
    "        #branches=[\"Jet_pt\", \"Jet_eta\", \"Jet_flavour\", \"Jet_CSV\", \"Jet_CSVIVF\", \"Jet_CombMVA\", \"Jet_SoftMu\", \"Jet_SoftEl\", \"Jet_JP\"],\n",
    "        treename=treename,\n",
    "        start=0,\n",
    "        stop=50000\n",
    "    )\n",
    "    df = pandas.DataFrame(arr)\n",
    "    df[\"id\"] = i\n",
    "    df[np.isnan(df)] = 0.0\n",
    "    df[np.isinf(df)] = 0.0\n",
    "    df[\"abs_eta\"] = df[\"Jet_eta\"].abs()\n",
    "    df[\"training\"] = 0\n",
    "    \n",
    "    perminds = np.random.permutation(df.index)\n",
    "    df.loc[perminds[:len(perminds)/2], \"training\"] = 1\n",
    "    df[\"ptbin\"] = map(lambda x: ptbins.searchsorted(x), df[\"Jet_pt\"])\n",
    "    df[\"etabin\"] = map(lambda x: ptbins.searchsorted(x), df[\"abs_eta\"])\n",
    "    df[\"w\"] = 1.0\n",
    "    return df"
   ]
  },
  {
   "cell_type": "code",
   "execution_count": 4,
   "metadata": {
    "collapsed": false
   },
   "outputs": [],
   "source": [
    "d1 = load_dataset(\"../data/jun8/ttjets.root\", \"tree_b\", 2)\n",
    "d2 = load_dataset(\"../data/jun8/ttjets.root\", \"tree_c\", 1)\n",
    "d3 = load_dataset(\"../data/jun8/ttjets.root\", \"tree_l\", 0)"
   ]
  },
  {
   "cell_type": "code",
   "execution_count": 5,
   "metadata": {
    "collapsed": true
   },
   "outputs": [],
   "source": [
    "d = pandas.concat((d1, d2, d3))"
   ]
  },
  {
   "cell_type": "code",
   "execution_count": 6,
   "metadata": {
    "collapsed": true
   },
   "outputs": [],
   "source": [
    "def normalize_col(d, col):\n",
    "    m = d[col].mean()\n",
    "    d[col] = d[col] - m\n",
    "    s = d[col].std()\n",
    "    d[col] = d[col] / s"
   ]
  },
  {
   "cell_type": "code",
   "execution_count": 7,
   "metadata": {
    "collapsed": false
   },
   "outputs": [
    {
     "name": "stdout",
     "output_type": "stream",
     "text": [
      "Jet_CSV -10.0 136.211 0.0181543292416 2.25194343379\n",
      "Jet_CSV -1.35943659615 11.6843069699 2.88006655561e-17 1.0\n",
      "Jet_CSVIVF -10.0 89.9273 0.0607947485247 2.23869528459\n",
      "Jet_CSVIVF 0.0 4.53819 0.514572887715 0.351684072496\n",
      "Jet_SoftMu -10.0 0.821025 -8.893729771 3.23514659366\n",
      "Jet_SoftMu -2.42344 -2.42344 -2.42343664169 0.00140798934877\n",
      "Jet_SoftEl -10.0 0.842238 -8.01953805703 4.01727841252\n",
      "Jet_SoftEl 0.0 0.0150188 0.00267610094427 0.00566004811901\n",
      "Jet_JP -0.0 3.25721 0.369343395736 0.41624654767\n",
      "Jet_JP -0.0 1.20184 0.351118709945 0.363107483093\n"
     ]
    }
   ],
   "source": [
    "trainvars3 = [\n",
    "    \"Jet_CSV\", \"Jet_CSVIVF\",\n",
    "    \"Jet_SoftMu\", \"Jet_SoftEl\", \"Jet_JP\",\n",
    "]\n",
    "\n",
    "\n",
    "for tv in trainvars3:\n",
    "    m =  d[tv].mean()\n",
    "    s = d[tv].std()\n",
    "    print tv, d[tv].min(), d[tv].max(), d[tv].mean(), d[tv].std()\n",
    "\n",
    "    if \"Jet\" in tv:\n",
    "        d.loc[d[tv]<= -9, tv] = 0\n",
    "    if \"TagVar\" in tv:\n",
    "        d.loc[d[tv]<= -98, tv] = 0\n",
    "\n",
    "    d.loc[d[tv]<(m-2*s), tv] = m-2*s\n",
    "    d.loc[d[tv]>(m+2*s), tv] = m+2*s\n",
    "    normalize_col(d, \"Jet_CSV\")\n",
    "    print tv, d[tv].min(), d[tv].max(), d[tv].mean(), d[tv].std()"
   ]
  },
  {
   "cell_type": "code",
   "execution_count": 8,
   "metadata": {
    "collapsed": true
   },
   "outputs": [],
   "source": [
    "d_training = d[d[\"training\"]==1]\n",
    "d_testing = d[d[\"training\"]==0]"
   ]
  },
  {
   "cell_type": "code",
   "execution_count": 9,
   "metadata": {
    "collapsed": true
   },
   "outputs": [],
   "source": [
    "# X_train = np.array(d_training[[\"Jet_CSV\", \"Jet_CSVIVF\", \"Jet_SoftMu\", \"Jet_SoftEl\", \"Jet_JP\"]])\n",
    "# y_train = np.array(d_training[\"id\"])"
   ]
  },
  {
   "cell_type": "code",
   "execution_count": 10,
   "metadata": {
    "collapsed": true
   },
   "outputs": [],
   "source": [
    "X_train = d_training[[\"Jet_CSV\", \"Jet_CSVIVF\", \"Jet_SoftMu\", \"Jet_SoftEl\", \"Jet_JP\"]].as_matrix()\n",
    "y_train = d_training[\"id\"].as_matrix()\n",
    "y_train2 = (d_training[\"id\"]==2).as_matrix()"
   ]
  },
  {
   "cell_type": "code",
   "execution_count": 11,
   "metadata": {
    "collapsed": true
   },
   "outputs": [],
   "source": [
    "X_test = d_testing[[\"Jet_CSV\", \"Jet_CSVIVF\", \"Jet_SoftMu\", \"Jet_SoftEl\", \"Jet_JP\"]].as_matrix()\n",
    "y_test = d_testing[\"id\"].as_matrix()\n",
    "y_test2 = (d_testing[\"id\"]==2).as_matrix()"
   ]
  },
  {
   "cell_type": "code",
   "execution_count": 12,
   "metadata": {
    "collapsed": false
   },
   "outputs": [
    {
     "data": {
      "text/plain": [
       "640"
      ]
     },
     "execution_count": 12,
     "metadata": {},
     "output_type": "execute_result"
    }
   ],
   "source": [
    "128+128 + 3*128"
   ]
  },
  {
   "cell_type": "code",
   "execution_count": 32,
   "metadata": {
    "collapsed": false,
    "scrolled": false
   },
   "outputs": [
    {
     "name": "stdout",
     "output_type": "stream",
     "text": [
      "Train on 75000 samples, validate on 75000 samples\n",
      "Epoch 0\n",
      "Epoch 0\n",
      "Epoch 0\n",
      "Epoch 0\n",
      "4s - loss: 0.2254 - acc.: 0.6610 - val. loss: 0.2222 - val. acc.: 0.6667\n",
      "4s - loss: 0.2254 - acc.: 0.6610 - val. loss: 0.2222 - val. acc.: 0.6667\n",
      "4s - loss: 0.2254 - acc.: 0.6610 - val. loss: 0.2222 - val. acc.: 0.6667\n",
      "4s - loss: 0.2254 - acc.: 0.6610 - val. loss: 0.2222 - val. acc.: 0.6667\n",
      "Epoch 1\n",
      "Epoch 1\n",
      "Epoch 1\n",
      "Epoch 1\n",
      "5s - loss: 0.2221 - acc.: 0.6667 - val. loss: 0.2219 - val. acc.: 0.6667\n",
      "5s - loss: 0.2221 - acc.: 0.6667 - val. loss: 0.2219 - val. acc.: 0.6667\n",
      "5s - loss: 0.2221 - acc.: 0.6667 - val. loss: 0.2219 - val. acc.: 0.6667\n",
      "5s - loss: 0.2221 - acc.: 0.6667 - val. loss: 0.2219 - val. acc.: 0.6667\n",
      "Epoch 2\n",
      "Epoch 2\n",
      "Epoch 2\n",
      "Epoch 2\n",
      "4s - loss: 0.2218 - acc.: 0.6667 - val. loss: 0.2216 - val. acc.: 0.6667\n",
      "4s - loss: 0.2218 - acc.: 0.6667 - val. loss: 0.2216 - val. acc.: 0.6667\n",
      "4s - loss: 0.2218 - acc.: 0.6667 - val. loss: 0.2216 - val. acc.: 0.6667\n",
      "4s - loss: 0.2218 - acc.: 0.6667 - val. loss: 0.2216 - val. acc.: 0.6667\n",
      "Epoch 3\n",
      "Epoch 3\n",
      "Epoch 3\n",
      "Epoch 3\n",
      "4s - loss: 0.2211 - acc.: 0.6667 - val. loss: 0.2196 - val. acc.: 0.6667\n",
      "4s - loss: 0.2211 - acc.: 0.6667 - val. loss: 0.2196 - val. acc.: 0.6667\n",
      "4s - loss: 0.2211 - acc.: 0.6667 - val. loss: 0.2196 - val. acc.: 0.6667\n",
      "4s - loss: 0.2211 - acc.: 0.6667 - val. loss: 0.2196 - val. acc.: 0.6667\n",
      "Epoch 4\n",
      "Epoch 4\n",
      "Epoch 4\n",
      "Epoch 4\n",
      "4s - loss: 0.2146 - acc.: 0.6668 - val. loss: 0.1895 - val. acc.: 0.6667\n",
      "4s - loss: 0.2146 - acc.: 0.6668 - val. loss: 0.1895 - val. acc.: 0.6667\n",
      "4s - loss: 0.2146 - acc.: 0.6668 - val. loss: 0.1895 - val. acc.: 0.6667\n",
      "4s - loss: 0.2146 - acc.: 0.6668 - val. loss: 0.1895 - val. acc.: 0.6667\n",
      "Epoch 5\n",
      "Epoch 5\n",
      "Epoch 5\n",
      "Epoch 5\n",
      "4s - loss: 0.1564 - acc.: 0.7881 - val. loss: 0.1421 - val. acc.: 0.8182\n",
      "4s - loss: 0.1564 - acc.: 0.7881 - val. loss: 0.1421 - val. acc.: 0.8182\n",
      "4s - loss: 0.1564 - acc.: 0.7881 - val. loss: 0.1421 - val. acc.: 0.8182\n",
      "4s - loss: 0.1564 - acc.: 0.7881 - val. loss: 0.1421 - val. acc.: 0.8182\n",
      "Epoch 6\n",
      "Epoch 6\n",
      "Epoch 6\n",
      "Epoch 6\n",
      "4s - loss: 0.1412 - acc.: 0.8202 - val. loss: 0.1361 - val. acc.: 0.8201\n",
      "4s - loss: 0.1412 - acc.: 0.8202 - val. loss: 0.1361 - val. acc.: 0.8201\n",
      "4s - loss: 0.1412 - acc.: 0.8202 - val. loss: 0.1361 - val. acc.: 0.8201\n",
      "4s - loss: 0.1412 - acc.: 0.8202 - val. loss: 0.1361 - val. acc.: 0.8201\n",
      "Epoch 7\n",
      "Epoch 7\n",
      "Epoch 7\n",
      "Epoch 7\n",
      "4s - loss: 0.1376 - acc.: 0.8207 - val. loss: 0.1336 - val. acc.: 0.8195\n",
      "4s - loss: 0.1376 - acc.: 0.8207 - val. loss: 0.1336 - val. acc.: 0.8195\n",
      "4s - loss: 0.1376 - acc.: 0.8207 - val. loss: 0.1336 - val. acc.: 0.8195\n",
      "4s - loss: 0.1376 - acc.: 0.8207 - val. loss: 0.1336 - val. acc.: 0.8195\n",
      "Epoch 8\n",
      "Epoch 8\n",
      "Epoch 8\n",
      "Epoch 8\n",
      "4s - loss: 0.1355 - acc.: 0.8202 - val. loss: 0.1317 - val. acc.: 0.8198\n",
      "4s - loss: 0.1355 - acc.: 0.8202 - val. loss: 0.1317 - val. acc.: 0.8198\n",
      "4s - loss: 0.1355 - acc.: 0.8202 - val. loss: 0.1317 - val. acc.: 0.8198\n",
      "4s - loss: 0.1355 - acc.: 0.8202 - val. loss: 0.1317 - val. acc.: 0.8198\n",
      "Epoch 9\n",
      "Epoch 9\n",
      "Epoch 9\n",
      "Epoch 9\n",
      "4s - loss: 0.1341 - acc.: 0.8188 - val. loss: 0.1306 - val. acc.: 0.8207\n",
      "4s - loss: 0.1341 - acc.: 0.8188 - val. loss: 0.1306 - val. acc.: 0.8207\n",
      "4s - loss: 0.1341 - acc.: 0.8188 - val. loss: 0.1306 - val. acc.: 0.8207\n",
      "4s - loss: 0.1341 - acc.: 0.8188 - val. loss: 0.1306 - val. acc.: 0.8207\n",
      "Epoch 10\n",
      "Epoch 10\n",
      "Epoch 10\n",
      "Epoch 10\n",
      "4s - loss: 0.1324 - acc.: 0.8208 - val. loss: 0.1297 - val. acc.: 0.8214\n",
      "4s - loss: 0.1324 - acc.: 0.8208 - val. loss: 0.1297 - val. acc.: 0.8214\n",
      "4s - loss: 0.1324 - acc.: 0.8208 - val. loss: 0.1297 - val. acc.: 0.8214\n",
      "4s - loss: 0.1324 - acc.: 0.8208 - val. loss: 0.1297 - val. acc.: 0.8214\n",
      "Epoch 11\n",
      "Epoch 11\n",
      "Epoch 11\n",
      "Epoch 11\n",
      "4s - loss: 0.1315 - acc.: 0.8207 - val. loss: 0.1297 - val. acc.: 0.8217\n",
      "4s - loss: 0.1315 - acc.: 0.8207 - val. loss: 0.1297 - val. acc.: 0.8217\n",
      "4s - loss: 0.1315 - acc.: 0.8207 - val. loss: 0.1297 - val. acc.: 0.8217\n",
      "4s - loss: 0.1315 - acc.: 0.8207 - val. loss: 0.1297 - val. acc.: 0.8217\n",
      "Epoch 12\n",
      "Epoch 12\n",
      "Epoch 12\n",
      "Epoch 12\n",
      "5s - loss: 0.1304 - acc.: 0.8229 - val. loss: 0.1293 - val. acc.: 0.8223\n",
      "5s - loss: 0.1304 - acc.: 0.8229 - val. loss: 0.1293 - val. acc.: 0.8223\n",
      "5s - loss: 0.1304 - acc.: 0.8229 - val. loss: 0.1293 - val. acc.: 0.8223\n",
      "5s - loss: 0.1304 - acc.: 0.8229 - val. loss: 0.1293 - val. acc.: 0.8223\n",
      "Epoch 13\n",
      "Epoch 13\n",
      "Epoch 13\n",
      "Epoch 13\n",
      "4s - loss: 0.1300 - acc.: 0.8238 - val. loss: 0.1289 - val. acc.: 0.8223\n",
      "4s - loss: 0.1300 - acc.: 0.8238 - val. loss: 0.1289 - val. acc.: 0.8223\n",
      "4s - loss: 0.1300 - acc.: 0.8238 - val. loss: 0.1289 - val. acc.: 0.8223\n",
      "4s - loss: 0.1300 - acc.: 0.8238 - val. loss: 0.1289 - val. acc.: 0.8223\n",
      "Epoch 14\n",
      "Epoch 14\n",
      "Epoch 14\n",
      "Epoch 14\n",
      "4s - loss: 0.1297 - acc.: 0.8236 - val. loss: 0.1312 - val. acc.: 0.8225\n",
      "4s - loss: 0.1297 - acc.: 0.8236 - val. loss: 0.1312 - val. acc.: 0.8225\n",
      "4s - loss: 0.1297 - acc.: 0.8236 - val. loss: 0.1312 - val. acc.: 0.8225\n",
      "4s - loss: 0.1297 - acc.: 0.8236 - val. loss: 0.1312 - val. acc.: 0.8225\n",
      "Epoch 15\n",
      "Epoch 15\n",
      "Epoch 15\n",
      "Epoch 15\n",
      "5s - loss: 0.1295 - acc.: 0.8244 - val. loss: 0.1286 - val. acc.: 0.8237\n",
      "5s - loss: 0.1295 - acc.: 0.8244 - val. loss: 0.1286 - val. acc.: 0.8237\n",
      "5s - loss: 0.1295 - acc.: 0.8244 - val. loss: 0.1286 - val. acc.: 0.8237\n",
      "5s - loss: 0.1295 - acc.: 0.8244 - val. loss: 0.1286 - val. acc.: 0.8237\n",
      "Epoch 16\n",
      "Epoch 16\n",
      "Epoch 16\n",
      "Epoch 16\n",
      "4s - loss: 0.1286 - acc.: 0.8257 - val. loss: 0.1284 - val. acc.: 0.8217\n",
      "4s - loss: 0.1286 - acc.: 0.8257 - val. loss: 0.1284 - val. acc.: 0.8217\n",
      "4s - loss: 0.1286 - acc.: 0.8257 - val. loss: 0.1284 - val. acc.: 0.8217\n",
      "4s - loss: 0.1286 - acc.: 0.8257 - val. loss: 0.1284 - val. acc.: 0.8217\n",
      "Epoch 17\n",
      "Epoch 17\n",
      "Epoch 17\n",
      "Epoch 17\n",
      "4s - loss: 0.1286 - acc.: 0.8262 - val. loss: 0.1279 - val. acc.: 0.8235\n",
      "4s - loss: 0.1286 - acc.: 0.8262 - val. loss: 0.1279 - val. acc.: 0.8235\n",
      "4s - loss: 0.1286 - acc.: 0.8262 - val. loss: 0.1279 - val. acc.: 0.8235\n",
      "4s - loss: 0.1286 - acc.: 0.8262 - val. loss: 0.1279 - val. acc.: 0.8235\n",
      "Epoch 18\n",
      "Epoch 18\n",
      "Epoch 18\n",
      "Epoch 18\n",
      "4s - loss: 0.1282 - acc.: 0.8267 - val. loss: 0.1272 - val. acc.: 0.8266\n",
      "4s - loss: 0.1282 - acc.: 0.8267 - val. loss: 0.1272 - val. acc.: 0.8266\n",
      "4s - loss: 0.1282 - acc.: 0.8267 - val. loss: 0.1272 - val. acc.: 0.8266\n",
      "4s - loss: 0.1282 - acc.: 0.8267 - val. loss: 0.1272 - val. acc.: 0.8266\n",
      "Epoch 19\n",
      "Epoch 19\n",
      "Epoch 19\n",
      "Epoch 19\n",
      "4s - loss: 0.1280 - acc.: 0.8263 - val. loss: 0.1273 - val. acc.: 0.8250\n",
      "4s - loss: 0.1280 - acc.: 0.8263 - val. loss: 0.1273 - val. acc.: 0.8250\n",
      "4s - loss: 0.1280 - acc.: 0.8263 - val. loss: 0.1273 - val. acc.: 0.8250\n",
      "4s - loss: 0.1280 - acc.: 0.8263 - val. loss: 0.1273 - val. acc.: 0.8250\n",
      "Epoch 20\n",
      "Epoch 20\n",
      "Epoch 20\n",
      "Epoch 20\n",
      "4s - loss: 0.1278 - acc.: 0.8277 - val. loss: 0.1291 - val. acc.: 0.8198\n",
      "4s - loss: 0.1278 - acc.: 0.8277 - val. loss: 0.1291 - val. acc.: 0.8198\n",
      "4s - loss: 0.1278 - acc.: 0.8277 - val. loss: 0.1291 - val. acc.: 0.8198\n",
      "4s - loss: 0.1278 - acc.: 0.8277 - val. loss: 0.1291 - val. acc.: 0.8198\n",
      "Epoch 21\n",
      "Epoch 21\n",
      "Epoch 21\n",
      "Epoch 21\n",
      "4s - loss: 0.1284 - acc.: 0.8255 - val. loss: 0.1267 - val. acc.: 0.8260\n",
      "4s - loss: 0.1284 - acc.: 0.8255 - val. loss: 0.1267 - val. acc.: 0.8260\n",
      "4s - loss: 0.1284 - acc.: 0.8255 - val. loss: 0.1267 - val. acc.: 0.8260\n",
      "4s - loss: 0.1284 - acc.: 0.8255 - val. loss: 0.1267 - val. acc.: 0.8260\n",
      "Epoch 22\n",
      "Epoch 22\n",
      "Epoch 22\n",
      "Epoch 22\n",
      "4s - loss: 0.1276 - acc.: 0.8269 - val. loss: 0.1276 - val. acc.: 0.8250\n",
      "4s - loss: 0.1276 - acc.: 0.8269 - val. loss: 0.1276 - val. acc.: 0.8250\n",
      "4s - loss: 0.1276 - acc.: 0.8269 - val. loss: 0.1276 - val. acc.: 0.8250\n",
      "4s - loss: 0.1276 - acc.: 0.8269 - val. loss: 0.1276 - val. acc.: 0.8250\n",
      "Epoch 23\n",
      "Epoch 23\n",
      "Epoch 23\n",
      "Epoch 23\n",
      "4s - loss: 0.1281 - acc.: 0.8269 - val. loss: 0.1270 - val. acc.: 0.8259\n",
      "4s - loss: 0.1281 - acc.: 0.8269 - val. loss: 0.1270 - val. acc.: 0.8259\n",
      "4s - loss: 0.1281 - acc.: 0.8269 - val. loss: 0.1270 - val. acc.: 0.8259\n",
      "4s - loss: 0.1281 - acc.: 0.8269 - val. loss: 0.1270 - val. acc.: 0.8259\n",
      "Epoch 24\n",
      "Epoch 24\n",
      "Epoch 24\n",
      "Epoch 24\n",
      "4s - loss: 0.1286 - acc.: 0.8260 - val. loss: 0.1265 - val. acc.: 0.8260\n",
      "4s - loss: 0.1286 - acc.: 0.8260 - val. loss: 0.1265 - val. acc.: 0.8260\n",
      "4s - loss: 0.1286 - acc.: 0.8260 - val. loss: 0.1265 - val. acc.: 0.8260\n",
      "4s - loss: 0.1286 - acc.: 0.8260 - val. loss: 0.1265 - val. acc.: 0.8260\n",
      "Epoch 25\n",
      "Epoch 25\n",
      "Epoch 25\n",
      "Epoch 25\n",
      "5s - loss: 0.1274 - acc.: 0.8273 - val. loss: 0.1268 - val. acc.: 0.8273\n",
      "5s - loss: 0.1274 - acc.: 0.8273 - val. loss: 0.1268 - val. acc.: 0.8273\n",
      "5s - loss: 0.1274 - acc.: 0.8273 - val. loss: 0.1268 - val. acc.: 0.8273\n",
      "5s - loss: 0.1274 - acc.: 0.8273 - val. loss: 0.1268 - val. acc.: 0.8273\n",
      "Epoch 26\n",
      "Epoch 26\n",
      "Epoch 26\n",
      "Epoch 26\n",
      "4s - loss: 0.1277 - acc.: 0.8270 - val. loss: 0.1264 - val. acc.: 0.8272\n",
      "4s - loss: 0.1277 - acc.: 0.8270 - val. loss: 0.1264 - val. acc.: 0.8272\n",
      "4s - loss: 0.1277 - acc.: 0.8270 - val. loss: 0.1264 - val. acc.: 0.8272\n",
      "4s - loss: 0.1277 - acc.: 0.8270 - val. loss: 0.1264 - val. acc.: 0.8272\n",
      "Epoch 27\n",
      "Epoch 27\n",
      "Epoch 27\n",
      "Epoch 27\n",
      "4s - loss: 0.1268 - acc.: 0.8288 - val. loss: 0.1262 - val. acc.: 0.8273\n",
      "4s - loss: 0.1268 - acc.: 0.8288 - val. loss: 0.1262 - val. acc.: 0.8273\n",
      "4s - loss: 0.1268 - acc.: 0.8288 - val. loss: 0.1262 - val. acc.: 0.8273\n",
      "4s - loss: 0.1268 - acc.: 0.8288 - val. loss: 0.1262 - val. acc.: 0.8273\n",
      "Epoch 28\n",
      "Epoch 28\n",
      "Epoch 28\n",
      "Epoch 28\n",
      "5s - loss: 0.1279 - acc.: 0.8266 - val. loss: 0.1264 - val. acc.: 0.8274\n",
      "5s - loss: 0.1279 - acc.: 0.8266 - val. loss: 0.1264 - val. acc.: 0.8274\n",
      "5s - loss: 0.1279 - acc.: 0.8266 - val. loss: 0.1264 - val. acc.: 0.8274\n",
      "5s - loss: 0.1279 - acc.: 0.8266 - val. loss: 0.1264 - val. acc.: 0.8274\n",
      "Epoch 29\n",
      "Epoch 29\n",
      "Epoch 29\n",
      "Epoch 29\n",
      "5s - loss: 0.1272 - acc.: 0.8277 - val. loss: 0.1285 - val. acc.: 0.8207\n",
      "5s - loss: 0.1272 - acc.: 0.8277 - val. loss: 0.1285 - val. acc.: 0.8207\n",
      "5s - loss: 0.1272 - acc.: 0.8277 - val. loss: 0.1285 - val. acc.: 0.8207\n",
      "5s - loss: 0.1272 - acc.: 0.8277 - val. loss: 0.1285 - val. acc.: 0.8207\n",
      "Epoch 30\n",
      "Epoch 30\n",
      "Epoch 30\n",
      "Epoch 30\n",
      "5s - loss: 0.1267 - acc.: 0.8269 - val. loss: 0.1269 - val. acc.: 0.8267\n",
      "5s - loss: 0.1267 - acc.: 0.8269 - val. loss: 0.1269 - val. acc.: 0.8267\n",
      "5s - loss: 0.1267 - acc.: 0.8269 - val. loss: 0.1269 - val. acc.: 0.8267\n",
      "5s - loss: 0.1267 - acc.: 0.8269 - val. loss: 0.1269 - val. acc.: 0.8267\n",
      "Epoch 31\n",
      "Epoch 31\n",
      "Epoch 31\n",
      "Epoch 31\n",
      "4s - loss: 0.1266 - acc.: 0.8288 - val. loss: 0.1262 - val. acc.: 0.8265\n",
      "4s - loss: 0.1266 - acc.: 0.8288 - val. loss: 0.1262 - val. acc.: 0.8265\n",
      "4s - loss: 0.1266 - acc.: 0.8288 - val. loss: 0.1262 - val. acc.: 0.8265\n",
      "4s - loss: 0.1266 - acc.: 0.8288 - val. loss: 0.1262 - val. acc.: 0.8265\n",
      "Epoch 32\n",
      "Epoch 32\n",
      "Epoch 32\n",
      "Epoch 32\n",
      "4s - loss: 0.1271 - acc.: 0.8271 - val. loss: 0.1304 - val. acc.: 0.8220\n",
      "4s - loss: 0.1271 - acc.: 0.8271 - val. loss: 0.1304 - val. acc.: 0.8220\n",
      "4s - loss: 0.1271 - acc.: 0.8271 - val. loss: 0.1304 - val. acc.: 0.8220\n",
      "4s - loss: 0.1271 - acc.: 0.8271 - val. loss: 0.1304 - val. acc.: 0.8220\n",
      "Epoch 33\n",
      "Epoch 33\n",
      "Epoch 33\n",
      "Epoch 33\n",
      "5s - loss: 0.1271 - acc.: 0.8275 - val. loss: 0.1268 - val. acc.: 0.8257\n",
      "5s - loss: 0.1271 - acc.: 0.8275 - val. loss: 0.1268 - val. acc.: 0.8257\n",
      "5s - loss: 0.1271 - acc.: 0.8275 - val. loss: 0.1268 - val. acc.: 0.8257\n",
      "5s - loss: 0.1271 - acc.: 0.8275 - val. loss: 0.1268 - val. acc.: 0.8257\n",
      "Epoch 34\n",
      "Epoch 34\n",
      "Epoch 34\n",
      "Epoch 34\n",
      "5s - loss: 0.1269 - acc.: 0.8277 - val. loss: 0.1258 - val. acc.: 0.8274\n",
      "5s - loss: 0.1269 - acc.: 0.8277 - val. loss: 0.1258 - val. acc.: 0.8274\n",
      "5s - loss: 0.1269 - acc.: 0.8277 - val. loss: 0.1258 - val. acc.: 0.8274\n",
      "5s - loss: 0.1269 - acc.: 0.8277 - val. loss: 0.1258 - val. acc.: 0.8274\n",
      "Epoch 35\n",
      "Epoch 35\n",
      "Epoch 35\n",
      "Epoch 35\n",
      "5s - loss: 0.1275 - acc.: 0.8265 - val. loss: 0.1268 - val. acc.: 0.8276\n",
      "5s - loss: 0.1275 - acc.: 0.8265 - val. loss: 0.1268 - val. acc.: 0.8276\n",
      "5s - loss: 0.1275 - acc.: 0.8265 - val. loss: 0.1268 - val. acc.: 0.8276\n",
      "5s - loss: 0.1275 - acc.: 0.8265 - val. loss: 0.1268 - val. acc.: 0.8276\n",
      "Epoch 36\n",
      "Epoch 36\n",
      "Epoch 36\n",
      "Epoch 36\n",
      "4s - loss: 0.1262 - acc.: 0.8291 - val. loss: 0.1322 - val. acc.: 0.8184\n",
      "4s - loss: 0.1262 - acc.: 0.8291 - val. loss: 0.1322 - val. acc.: 0.8184\n",
      "4s - loss: 0.1262 - acc.: 0.8291 - val. loss: 0.1322 - val. acc.: 0.8184\n",
      "4s - loss: 0.1262 - acc.: 0.8291 - val. loss: 0.1322 - val. acc.: 0.8184\n",
      "Epoch 37\n",
      "Epoch 37\n",
      "Epoch 37\n",
      "Epoch 37\n",
      "4s - loss: 0.1268 - acc.: 0.8285 - val. loss: 0.1259 - val. acc.: 0.8282\n",
      "4s - loss: 0.1268 - acc.: 0.8285 - val. loss: 0.1259 - val. acc.: 0.8282\n",
      "4s - loss: 0.1268 - acc.: 0.8285 - val. loss: 0.1259 - val. acc.: 0.8282\n",
      "4s - loss: 0.1268 - acc.: 0.8285 - val. loss: 0.1259 - val. acc.: 0.8282\n",
      "Epoch 38\n",
      "Epoch 38\n",
      "Epoch 38\n",
      "Epoch 38\n",
      "5s - loss: 0.1270 - acc.: 0.8273 - val. loss: 0.1258 - val. acc.: 0.8282\n",
      "5s - loss: 0.1270 - acc.: 0.8273 - val. loss: 0.1258 - val. acc.: 0.8282\n",
      "5s - loss: 0.1270 - acc.: 0.8273 - val. loss: 0.1258 - val. acc.: 0.8282\n",
      "5s - loss: 0.1270 - acc.: 0.8273 - val. loss: 0.1258 - val. acc.: 0.8282\n",
      "Epoch 39\n",
      "Epoch 39\n",
      "Epoch 39\n",
      "Epoch 39\n",
      "4s - loss: 0.1265 - acc.: 0.8283 - val. loss: 0.1253 - val. acc.: 0.8284\n",
      "4s - loss: 0.1265 - acc.: 0.8283 - val. loss: 0.1253 - val. acc.: 0.8284\n",
      "4s - loss: 0.1265 - acc.: 0.8283 - val. loss: 0.1253 - val. acc.: 0.8284\n",
      "4s - loss: 0.1265 - acc.: 0.8283 - val. loss: 0.1253 - val. acc.: 0.8284\n",
      "Epoch 40\n",
      "Epoch 40\n",
      "Epoch 40\n",
      "Epoch 40\n",
      "4s - loss: 0.1274 - acc.: 0.8265 - val. loss: 0.1269 - val. acc.: 0.8253\n",
      "4s - loss: 0.1274 - acc.: 0.8265 - val. loss: 0.1269 - val. acc.: 0.8253\n",
      "4s - loss: 0.1274 - acc.: 0.8265 - val. loss: 0.1269 - val. acc.: 0.8253\n",
      "4s - loss: 0.1274 - acc.: 0.8265 - val. loss: 0.1269 - val. acc.: 0.8253\n",
      "Epoch 41\n",
      "Epoch 41\n",
      "Epoch 41\n",
      "Epoch 41\n",
      "4s - loss: 0.1263 - acc.: 0.8285 - val. loss: 0.1259 - val. acc.: 0.8270\n",
      "4s - loss: 0.1263 - acc.: 0.8285 - val. loss: 0.1259 - val. acc.: 0.8270\n",
      "4s - loss: 0.1263 - acc.: 0.8285 - val. loss: 0.1259 - val. acc.: 0.8270\n",
      "4s - loss: 0.1263 - acc.: 0.8285 - val. loss: 0.1259 - val. acc.: 0.8270\n",
      "Epoch 42\n",
      "Epoch 42\n",
      "Epoch 42\n",
      "Epoch 42\n",
      "4s - loss: 0.1261 - acc.: 0.8291 - val. loss: 0.1253 - val. acc.: 0.8290\n",
      "4s - loss: 0.1261 - acc.: 0.8291 - val. loss: 0.1253 - val. acc.: 0.8290\n",
      "4s - loss: 0.1261 - acc.: 0.8291 - val. loss: 0.1253 - val. acc.: 0.8290\n",
      "4s - loss: 0.1261 - acc.: 0.8291 - val. loss: 0.1253 - val. acc.: 0.8290\n",
      "Epoch 43\n",
      "Epoch 43\n",
      "Epoch 43\n",
      "Epoch 43\n",
      "5s - loss: 0.1258 - acc.: 0.8301 - val. loss: 0.1246 - val. acc.: 0.8286\n",
      "5s - loss: 0.1258 - acc.: 0.8301 - val. loss: 0.1246 - val. acc.: 0.8286\n",
      "5s - loss: 0.1258 - acc.: 0.8301 - val. loss: 0.1246 - val. acc.: 0.8286\n",
      "5s - loss: 0.1258 - acc.: 0.8301 - val. loss: 0.1246 - val. acc.: 0.8286\n",
      "Epoch 44\n",
      "Epoch 44\n",
      "Epoch 44\n",
      "Epoch 44\n",
      "5s - loss: 0.1257 - acc.: 0.8303 - val. loss: 0.1251 - val. acc.: 0.8291\n",
      "5s - loss: 0.1257 - acc.: 0.8303 - val. loss: 0.1251 - val. acc.: 0.8291\n",
      "5s - loss: 0.1257 - acc.: 0.8303 - val. loss: 0.1251 - val. acc.: 0.8291\n",
      "5s - loss: 0.1257 - acc.: 0.8303 - val. loss: 0.1251 - val. acc.: 0.8291\n",
      "Epoch 45\n",
      "Epoch 45\n",
      "Epoch 45\n",
      "Epoch 45\n",
      "4s - loss: 0.1260 - acc.: 0.8297 - val. loss: 0.1250 - val. acc.: 0.8292\n",
      "4s - loss: 0.1260 - acc.: 0.8297 - val. loss: 0.1250 - val. acc.: 0.8292\n",
      "4s - loss: 0.1260 - acc.: 0.8297 - val. loss: 0.1250 - val. acc.: 0.8292\n",
      "4s - loss: 0.1260 - acc.: 0.8297 - val. loss: 0.1250 - val. acc.: 0.8292\n",
      "Epoch 46\n",
      "Epoch 46\n",
      "Epoch 46\n",
      "Epoch 46\n",
      "5s - loss: 0.1261 - acc.: 0.8288 - val. loss: 0.1269 - val. acc.: 0.8252\n",
      "5s - loss: 0.1261 - acc.: 0.8288 - val. loss: 0.1269 - val. acc.: 0.8252\n",
      "5s - loss: 0.1261 - acc.: 0.8288 - val. loss: 0.1269 - val. acc.: 0.8252\n",
      "5s - loss: 0.1261 - acc.: 0.8288 - val. loss: 0.1269 - val. acc.: 0.8252\n",
      "Epoch 47\n",
      "Epoch 47\n",
      "Epoch 47\n",
      "Epoch 47\n",
      "4s - loss: 0.1259 - acc.: 0.8289 - val. loss: 0.1262 - val. acc.: 0.8267\n",
      "4s - loss: 0.1259 - acc.: 0.8289 - val. loss: 0.1262 - val. acc.: 0.8267\n",
      "4s - loss: 0.1259 - acc.: 0.8289 - val. loss: 0.1262 - val. acc.: 0.8267\n",
      "4s - loss: 0.1259 - acc.: 0.8289 - val. loss: 0.1262 - val. acc.: 0.8267\n",
      "Epoch 48\n",
      "Epoch 48\n",
      "Epoch 48\n",
      "Epoch 48\n",
      "5s - loss: 0.1261 - acc.: 0.8289 - val. loss: 0.1284 - val. acc.: 0.8238\n",
      "5s - loss: 0.1261 - acc.: 0.8289 - val. loss: 0.1284 - val. acc.: 0.8238\n",
      "5s - loss: 0.1261 - acc.: 0.8289 - val. loss: 0.1284 - val. acc.: 0.8238\n",
      "5s - loss: 0.1261 - acc.: 0.8289 - val. loss: 0.1284 - val. acc.: 0.8238\n",
      "Epoch 49\n",
      "Epoch 49\n",
      "Epoch 49\n",
      "Epoch 49\n",
      "4s - loss: 0.1260 - acc.: 0.8289 - val. loss: 0.1252 - val. acc.: 0.8286\n",
      "4s - loss: 0.1260 - acc.: 0.8289 - val. loss: 0.1252 - val. acc.: 0.8286\n",
      "4s - loss: 0.1260 - acc.: 0.8289 - val. loss: 0.1252 - val. acc.: 0.8286\n",
      "4s - loss: 0.1260 - acc.: 0.8289 - val. loss: 0.1252 - val. acc.: 0.8286\n"
     ]
    }
   ],
   "source": [
    "from keras.models import Sequential\n",
    "from keras.layers.core import Dense, Dropout, Activation\n",
    "from keras.optimizers import SGD\n",
    "from keras.utils import np_utils, generic_utils\n",
    "from keras.layers.advanced_activations import PReLU\n",
    "from keras.layers.normalization import BatchNormalization\n",
    "\n",
    "dims = X_train.shape[1]\n",
    "nclasses = 2\n",
    "\n",
    "model = Sequential()\n",
    "model.add(Dense(dims, 128, init='glorot_uniform'))\n",
    "\n",
    "for ilayer in range(4):  \n",
    "    model.add(PReLU((128,)))\n",
    "    model.add(Dense(128, 128, init='glorot_uniform'))\n",
    "    model.add(Dropout(0.5))\n",
    "\n",
    "model.add(Dense(128, nclasses, init='glorot_uniform'))\n",
    "model.add(Activation('softmax'))\n",
    "\n",
    "\n",
    "sgd = SGD(lr=0.6, decay=1e-6, momentum=0.9, nesterov=True)\n",
    "model.compile(loss='mean_squared_error', optimizer=sgd)\n",
    "ret = model.fit(X_train, np_utils.to_categorical(y_train2), nb_epoch=50, batch_size=4096, verbose=2, validation_data=(X_test, np_utils.to_categorical(y_test2)),show_accuracy=True)"
   ]
  },
  {
   "cell_type": "code",
   "execution_count": 33,
   "metadata": {
    "collapsed": false
   },
   "outputs": [
    {
     "data": {
      "text/plain": [
       "[<matplotlib.lines.Line2D at 0x12186efd0>]"
      ]
     },
     "execution_count": 33,
     "metadata": {},
     "output_type": "execute_result"
    },
    {
     "data": {
      "image/png": "[encoded data removed]",
      "text/plain": [
       "<matplotlib.figure.Figure at 0x121823410>"
      ]
     },
     "metadata": {},
     "output_type": "display_data"
    }
   ],
   "source": [
    "plt.plot(ret.accuracy)\n",
    "plt.plot(ret.validation_accuracy)"
   ]
  },
  {
   "cell_type": "code",
   "execution_count": 34,
   "metadata": {
    "collapsed": false
   },
   "outputs": [
    {
     "data": {
      "text/plain": [
       "[<matplotlib.lines.Line2D at 0x12d7cd390>]"
      ]
     },
     "execution_count": 34,
     "metadata": {},
     "output_type": "execute_result"
    },
    {
     "data": {
      "image/png": "[encoded data removed]",
      "text/plain": [
       "<matplotlib.figure.Figure at 0x1218556d0>"
      ]
     },
     "metadata": {},
     "output_type": "display_data"
    }
   ],
   "source": [
    "plt.plot(ret.loss)\n",
    "plt.plot(ret.validation_loss)"
   ]
  },
  {
   "cell_type": "code",
   "execution_count": 25,
   "metadata": {
    "collapsed": true
   },
   "outputs": [],
   "source": [
    "from sklearn.ensemble import GradientBoostingClassifier\n",
    "cls = GradientBoostingClassifier(\n",
    "    n_estimators=100, learning_rate=0.05,\n",
    "    max_depth=3,\n",
    "    min_samples_split=100,\n",
    "    min_samples_leaf=100,\n",
    "    subsample=1.0,\n",
    "    verbose=True\n",
    ")"
   ]
  },
  {
   "cell_type": "code",
   "execution_count": 26,
   "metadata": {
    "collapsed": false
   },
   "outputs": [
    {
     "name": "stdout",
     "output_type": "stream",
     "text": [
      "      Iter       Train Loss   Remaining Time \n",
      "         1           1.2305            9.06s\n",
      "         2           1.1929            7.80s\n",
      "         3           1.1593            7.63s\n",
      "         4           1.1293            7.34s\n",
      "         5           1.1021            7.13s\n",
      "         6           1.0774            6.95s\n",
      "         7           1.0549            6.78s\n",
      "         8           1.0342            6.75s\n",
      "         9           1.0156            6.63s\n",
      "        10           0.9984            6.56s\n",
      "        20           0.8849            5.52s\n",
      "        30           0.8313            4.71s\n",
      "        40           0.8045            3.95s\n",
      "        50           0.7907            3.26s\n",
      "        60           0.7831            2.59s\n",
      "        70           0.7785            1.92s\n",
      "        80           0.7756            1.27s\n",
      "        90           0.7734            0.64s\n",
      "       100           0.7718            0.00s\n"
     ]
    },
    {
     "data": {
      "text/plain": [
       "GradientBoostingClassifier(init=None, learning_rate=0.05, loss='deviance',\n",
       "              max_depth=3, max_features=None, max_leaf_nodes=None,\n",
       "              min_samples_leaf=100, min_samples_split=100,\n",
       "              min_weight_fraction_leaf=0.0, n_estimators=100,\n",
       "              random_state=None, subsample=1.0, verbose=True,\n",
       "              warm_start=False)"
      ]
     },
     "execution_count": 26,
     "metadata": {},
     "output_type": "execute_result"
    }
   ],
   "source": [
    "cls.fit(X_train, y_train2)"
   ]
  },
  {
   "cell_type": "code",
   "execution_count": 35,
   "metadata": {
    "collapsed": false
   },
   "outputs": [
    {
     "name": "stdout",
     "output_type": "stream",
     "text": [
      "150000/150000 [==============================] - 2s     \n"
     ]
    }
   ],
   "source": [
    "d[\"p\"] = model.predict_proba(d[[\"Jet_CSV\", \"Jet_CSVIVF\", \"Jet_SoftMu\", \"Jet_SoftEl\", \"Jet_JP\"]])[:, 1]\n",
    "d[\"p2\"] = cls.predict_proba(d[[\"Jet_CSV\", \"Jet_CSVIVF\", \"Jet_SoftMu\", \"Jet_SoftEl\", \"Jet_JP\"]])[:, 1]\n",
    "\n",
    "d_training = d[d[\"training\"]==1]\n",
    "d_testing = d[d[\"training\"]==0]"
   ]
  },
  {
   "cell_type": "code",
   "execution_count": 36,
   "metadata": {
    "collapsed": true
   },
   "outputs": [],
   "source": [
    "def cumerr(arr, nb=100000):\n",
    "    h = np.histogram(\n",
    "        arr,\n",
    "        bins=np.linspace(-5,5,nb)\n",
    "    )\n",
    "    h = h[0]\n",
    "    hc = np.cumsum(h)\n",
    "    he = np.sqrt(np.cumsum(h))\n",
    "    hc = hc / float(np.sum(h))\n",
    "    he = he / float(np.sum(h))\n",
    "    return hc, he"
   ]
  },
  {
   "cell_type": "code",
   "execution_count": 37,
   "metadata": {
    "collapsed": true
   },
   "outputs": [],
   "source": [
    "def roc(d, sig, bkg, col, **kwargs):\n",
    "    ds = d[d.eval(sig)]\n",
    "    db = d[d.eval(bkg)]\n",
    "    c1, e1 = cumerr(ds[col], nb=10000)\n",
    "    c2, e2 = cumerr(db[col], nb=10000)\n",
    "    plt.plot(1.0 - c1, 1.0 - c2, **kwargs)"
   ]
  },
  {
   "cell_type": "code",
   "execution_count": 38,
   "metadata": {
    "collapsed": false
   },
   "outputs": [
    {
     "data": {
      "text/plain": [
       "(0.5, 1.0)"
      ]
     },
     "execution_count": 38,
     "metadata": {},
     "output_type": "execute_result"
    },
    {
     "data": {
      "image/png": "[encoded data removed]",
      "text/plain": [
       "<matplotlib.figure.Figure at 0x13052f3d0>"
      ]
     },
     "metadata": {},
     "output_type": "display_data"
    }
   ],
   "source": [
    "plt.figure(figsize=(10,10))\n",
    "plt.grid()\n",
    "roc(d, \"id==2\", \"id==0\", \"Jet_CSV\", color=\"red\")\n",
    "roc(d, \"id==2\", \"id==0\", \"Jet_CSVIVF\", color=\"blue\")\n",
    "roc(d, \"id==2\", \"id==0\", \"Jet_CombMVA\", color=\"orange\")\n",
    "roc(d_testing, \"id==2\", \"id==0\", \"p\", color=\"black\")\n",
    "roc(d_training, \"id==2\", \"id==0\", \"p\", color=\"black\", ls=\"--\")\n",
    "\n",
    "roc(d_testing, \"id==2\", \"id==0\", \"p2\", color=\"gray\")\n",
    "roc(d_training, \"id==2\", \"id==0\", \"p2\", color=\"gray\", ls=\"--\")\n",
    "\n",
    "\n",
    "roc(d, \"id==2\", \"id==1\", \"Jet_CSV\", color=\"red\", ls=\"-\")\n",
    "roc(d, \"id==2\", \"id==1\", \"Jet_CSVIVF\", color=\"blue\", ls=\"-\")\n",
    "roc(d, \"id==2\", \"id==1\", \"Jet_CombMVA\", color=\"orange\", ls=\"-\")\n",
    "roc(d_testing, \"id==2\", \"id==1\", \"p\", color=\"black\", ls=\"-\")\n",
    "roc(d_training, \"id==2\", \"id==1\", \"p\", color=\"black\", ls=\"--\")\n",
    "\n",
    "roc(d_testing, \"id==2\", \"id==1\", \"p2\", color=\"gray\", ls=\"-\")\n",
    "roc(d_training, \"id==2\", \"id==1\", \"p2\", color=\"gray\", ls=\"--\")\n",
    "\n",
    "\n",
    "plt.yscale(\"log\")\n",
    "plt.ylim(0.001, 1.0)\n",
    "plt.xlim(0.5, 1.0)"
   ]
  },
  {
   "cell_type": "code",
   "execution_count": null,
   "metadata": {
    "collapsed": true
   },
   "outputs": [],
   "source": []
  }
 ],
 "metadata": {
  "kernelspec": {
   "display_name": "Python 2",
   "language": "python",
   "name": "python2"
  },
  "language_info": {
   "codemirror_mode": {
    "name": "ipython",
    "version": 2
   },
   "file_extension": ".py",
   "mimetype": "text/x-python",
   "name": "python",
   "nbconvert_exporter": "python",
   "pygments_lexer": "ipython2",
   "version": "2.7.9"
  }
 },
 "nbformat": 4,
 "nbformat_minor": 0
}
