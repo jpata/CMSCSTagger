{
 "cells": [
  {
   "cell_type": "code",
   "execution_count": 1,
   "metadata": {
    "collapsed": true
   },
   "outputs": [],
   "source": [
    "import xgboost as xgb"
   ]
  },
  {
   "cell_type": "code",
   "execution_count": 3,
   "metadata": {
    "collapsed": true
   },
   "outputs": [],
   "source": [
    "import sys\n",
    "from collections import OrderedDict\n",
    "sys.path.append(\"/Users/joosep/Documents/btv/CMSSW_7_4_5/src/RecoBTag/CombinedMVA/python/\")\n",
    "sys.path.append(\"/Users/joosep/Documents/ROOTDataHelpers/\")\n",
    "\n",
    "#sys.path.append(\"/home/joosep/btv/CMSSW_7_4_1/src/RecoBTag/CombinedMVA/python/\")\n",
    "#sys.path.append(\"/home/joosep/btv/CMSSW_7_4_1/src/RecoBTag/ROOTDataHelpers/python/\")\n",
    "\n",
    "import numpy as np\n",
    "import root_numpy as rnpy\n",
    "import matplotlib.pyplot as plt\n",
    "import pandas\n",
    "import sklearn\n",
    "import sklearn_cls\n",
    "from sklearn_cls import SKLearnClassifier\n",
    "from matplotlib.colors import LogNorm\n",
    "import rootpy\n",
    "import rootpy.plotting\n",
    "from sklearn import metrics\n",
    "%matplotlib inline\n",
    "import ROOT"
   ]
  },
  {
   "cell_type": "code",
   "execution_count": 4,
   "metadata": {
    "collapsed": true
   },
   "outputs": [],
   "source": [
    "def load_dataset(fn, treename, i):\n",
    "    arr = rnpy.root2rec(\n",
    "        fn,\n",
    "        selection=\"Jet_pt>20\",\n",
    "        #branches=[\"Jet_pt\", \"Jet_eta\", \"Jet_flavour\"],\n",
    "        branches=[\"Jet_pt\", \"Jet_eta\", \"Jet_flavour\", \"Jet_CSV\", \"Jet_CSVIVF\", \"Jet_CombMVA\", \"Jet_CombMVANEW\", \"Jet_CombMVAETH\", \"Jet_SoftMu\", \"Jet_SoftEl\", \"Jet_JP\", \"Jet_JBP\", \"TagVarCSV_vertexCategory\"],\n",
    "        treename=treename,\n",
    "        start=0,\n",
    "        stop=5000000\n",
    "    )\n",
    "    df = pandas.DataFrame(arr)\n",
    "    df[\"id\"] = i\n",
    "    df[np.isnan(df)] = 0.0\n",
    "    df[np.isinf(df)] = 0.0\n",
    "    for c in [\"Jet_CSV\", \"Jet_CSVIVF\", \"Jet_SoftEl\", \"Jet_SoftMu\"]:\n",
    "        df.loc[df[c]<=0, c] = 0\n",
    "        df.loc[df[c]>=1, c] = 1\n",
    "    df[\"abs_eta\"] = df[\"Jet_eta\"].abs()\n",
    "    df[\"training\"] = 0\n",
    "    \n",
    "    perminds = np.random.permutation(df.index)\n",
    "    df.loc[perminds[:len(perminds)/2], \"training\"] = 1\n",
    "    df[\"w\"] = 1.0\n",
    "    return df"
   ]
  },
  {
   "cell_type": "code",
   "execution_count": 5,
   "metadata": {
    "collapsed": false
   },
   "outputs": [],
   "source": [
    "# d1 = load_dataset(\"../data/jul13/ttjets.root\", \"tree_b\", 2)\n",
    "# d2 = load_dataset(\"../data/jul13/ttjets.root\", \"tree_c\", 1)\n",
    "# d3 = load_dataset(\"../data/jul13/ttjets.root\", \"tree_l\", 0)\n",
    "\n",
    "d1 = load_dataset(\"../data/jul13/ttjets_b_2M.root\", \"tree_b\", 2)\n",
    "d2 = load_dataset(\"../data/jul13/ttjets_c_2M.root\", \"tree_c\", 1)\n",
    "d3 = load_dataset(\"../data/jul13/ttjets_l_2M.root\", \"tree_l\", 0)\n",
    "d = pandas.concat((d1, d2, d3))\n",
    "d_training = d[d[\"training\"]==1]\n",
    "d_testing = d[d[\"training\"]==0]\n",
    "\n",
    "dts = xgb.DMatrix(d_training[[\"Jet_JP\", \"Jet_CSVIVF\"]], label=(d_training[\"id\"]==2))\n",
    "dtr = xgb.DMatrix(d_testing[[\"Jet_JP\", \"Jet_CSVIVF\"]], label=(d_testing[\"id\"]==2))"
   ]
  },
  {
   "cell_type": "code",
   "execution_count": 13,
   "metadata": {
    "collapsed": false
   },
   "outputs": [],
   "source": [
    "param = {'bst:max_depth':4, 'bst:eta':0.5, 'silent':1, 'objective':'binary:logistic' }\n",
    "param['nthread'] = 4\n",
    "plst = param.items()\n",
    "plst += [('eval_metric', 'auc')] # Multiple evals can be handled in this way\n",
    "#plst += [('eval_metric', 'ams@0')]\n",
    "evallist  = [(dts,'eval'), (dtr,'train')]\n",
    "num_round = 50\n",
    "evald = dict()"
   ]
  },
  {
   "cell_type": "code",
   "execution_count": 14,
   "metadata": {
    "collapsed": false,
    "scrolled": false
   },
   "outputs": [
    {
     "name": "stderr",
     "output_type": "stream",
     "text": [
      "[0]\teval-auc:0.705586\ttrain-auc:0.706117\n",
      "[1]\teval-auc:0.705776\ttrain-auc:0.706318\n",
      "[2]\teval-auc:0.706039\ttrain-auc:0.706495\n",
      "[3]\teval-auc:0.706053\ttrain-auc:0.706511\n",
      "[4]\teval-auc:0.706145\ttrain-auc:0.706607\n",
      "[5]\teval-auc:0.706157\ttrain-auc:0.706622\n",
      "[6]\teval-auc:0.706159\ttrain-auc:0.706624\n",
      "[7]\teval-auc:0.706173\ttrain-auc:0.706638\n",
      "[8]\teval-auc:0.706173\ttrain-auc:0.706639\n",
      "[9]\teval-auc:0.706178\ttrain-auc:0.706645\n",
      "[10]\teval-auc:0.706173\ttrain-auc:0.706638\n",
      "[11]\teval-auc:0.706173\ttrain-auc:0.706639\n",
      "[12]\teval-auc:0.706194\ttrain-auc:0.706665\n",
      "[13]\teval-auc:0.706194\ttrain-auc:0.706671\n",
      "[14]\teval-auc:0.706196\ttrain-auc:0.706675\n",
      "[15]\teval-auc:0.706196\ttrain-auc:0.706675\n",
      "[16]\teval-auc:0.706196\ttrain-auc:0.706676\n",
      "[17]\teval-auc:0.706192\ttrain-auc:0.706679\n",
      "[18]\teval-auc:0.706194\ttrain-auc:0.706681\n",
      "[19]\teval-auc:0.706193\ttrain-auc:0.706684\n",
      "[20]\teval-auc:0.706192\ttrain-auc:0.706687\n",
      "[21]\teval-auc:0.706192\ttrain-auc:0.706687\n",
      "[22]\teval-auc:0.706193\ttrain-auc:0.706686\n",
      "[23]\teval-auc:0.706193\ttrain-auc:0.706687\n",
      "[24]\teval-auc:0.706195\ttrain-auc:0.706686\n",
      "[25]\teval-auc:0.706195\ttrain-auc:0.706686\n",
      "[26]\teval-auc:0.706193\ttrain-auc:0.706687\n",
      "[27]\teval-auc:0.706193\ttrain-auc:0.706687\n",
      "[28]\teval-auc:0.706192\ttrain-auc:0.706690\n",
      "[29]\teval-auc:0.706192\ttrain-auc:0.706691\n",
      "[30]\teval-auc:0.706193\ttrain-auc:0.706693\n",
      "[31]\teval-auc:0.706194\ttrain-auc:0.706695\n",
      "[32]\teval-auc:0.706194\ttrain-auc:0.706696\n",
      "[33]\teval-auc:0.706198\ttrain-auc:0.706699\n",
      "[34]\teval-auc:0.706199\ttrain-auc:0.706700\n",
      "[35]\teval-auc:0.706198\ttrain-auc:0.706701\n",
      "[36]\teval-auc:0.706199\ttrain-auc:0.706702\n",
      "[37]\teval-auc:0.706198\ttrain-auc:0.706702\n",
      "[38]\teval-auc:0.706196\ttrain-auc:0.706703\n",
      "[39]\teval-auc:0.706197\ttrain-auc:0.706701\n",
      "[40]\teval-auc:0.706198\ttrain-auc:0.706702\n",
      "[41]\teval-auc:0.706197\ttrain-auc:0.706702\n",
      "[42]\teval-auc:0.706194\ttrain-auc:0.706703\n",
      "[43]\teval-auc:0.706194\ttrain-auc:0.706703\n",
      "[44]\teval-auc:0.706194\ttrain-auc:0.706703\n",
      "[45]\teval-auc:0.706194\ttrain-auc:0.706703\n",
      "[46]\teval-auc:0.706194\ttrain-auc:0.706703\n",
      "[47]\teval-auc:0.706194\ttrain-auc:0.706704\n",
      "[48]\teval-auc:0.706194\ttrain-auc:0.706704\n",
      "[49]\teval-auc:0.706197\ttrain-auc:0.706705\n"
     ]
    }
   ],
   "source": [
    "bst = xgb.train( plst, dtr, num_round, evallist, evals_result=evald)"
   ]
  },
  {
   "cell_type": "code",
   "execution_count": 18,
   "metadata": {
    "collapsed": true
   },
   "outputs": [],
   "source": [
    "bst.dump_model(\"/Users/joosep/Desktop/model.txt\")"
   ]
  },
  {
   "cell_type": "code",
   "execution_count": 8,
   "metadata": {
    "collapsed": true
   },
   "outputs": [],
   "source": [
    "subd = d_testing[d_testing[\"id\"]==2]\n",
    "d1 = xgb.DMatrix(subd[[\"Jet_JP\", \"Jet_CSVIVF\"]], label=(subd[\"id\"]==2))\n",
    "\n",
    "subd = d_testing[d_testing[\"id\"]==1]\n",
    "d2 = xgb.DMatrix(subd[[\"Jet_JP\", \"Jet_CSVIVF\"]], label=(subd[\"id\"]==1))\n",
    "\n",
    "subd = d_testing[d_testing[\"id\"]==0]\n",
    "d3 = xgb.DMatrix(subd[[\"Jet_JP\", \"Jet_CSVIVF\"]], label=(subd[\"id\"]==0))\n",
    "\n",
    "\n",
    "\n",
    "subd = d_training[d_training[\"id\"]==2]\n",
    "d1tr = xgb.DMatrix(subd[[\"Jet_JP\", \"Jet_CSVIVF\"]], label=(subd[\"id\"]==2))\n",
    "\n",
    "subd = d_training[d_training[\"id\"]==1]\n",
    "d2tr = xgb.DMatrix(subd[[\"Jet_JP\", \"Jet_CSVIVF\"]], label=(subd[\"id\"]==1))\n",
    "\n",
    "subd = d_training[d_training[\"id\"]==0]\n",
    "d3tr = xgb.DMatrix(subd[[\"Jet_JP\", \"Jet_CSVIVF\"]], label=(subd[\"id\"]==0))\n"
   ]
  },
  {
   "cell_type": "code",
   "execution_count": 9,
   "metadata": {
    "collapsed": false
   },
   "outputs": [],
   "source": [
    "ypred1 = bst.predict(d1)\n",
    "ypred2 = bst.predict(d2)\n",
    "ypred3 = bst.predict(d3)\n",
    "\n",
    "ypred1tr = bst.predict(d1tr)\n",
    "ypred2tr = bst.predict(d2tr)\n",
    "ypred3tr = bst.predict(d3tr)"
   ]
  },
  {
   "cell_type": "code",
   "execution_count": 10,
   "metadata": {
    "collapsed": false
   },
   "outputs": [
    {
     "data": {
      "image/png": "[encoded data removed]",
      "text/plain": [
       "<matplotlib.figure.Figure at 0x106a7cf50>"
      ]
     },
     "metadata": {},
     "output_type": "display_data"
    }
   ],
   "source": [
    "plt.hist(ypred1, bins=np.linspace(0,1,25), normed=True, alpha=0.5, color=\"red\", lw=0);\n",
    "plt.hist(ypred2, bins=np.linspace(0,1,25), normed=True, alpha=0.5);\n",
    "plt.hist(ypred3, bins=np.linspace(0,1,25), normed=True, alpha=0.5);\n",
    "\n",
    "plt.hist(ypred1tr, bins=np.linspace(0,1,25), normed=True, alpha=0.5, color=\"red\", fill=False, lw=1, ls=\"dashed\");\n",
    "plt.hist(ypred2tr, bins=np.linspace(0,1,25), normed=True, alpha=0.5, color=\"green\", fill=False, lw=1, ls=\"dashed\");\n",
    "plt.hist(ypred3tr, bins=np.linspace(0,1,25), normed=True, alpha=0.5, color=\"blue\", fill=False, lw=1, ls=\"dashed\");\n",
    "\n",
    "#plt.hist(ypred2tr, bins=np.linspace(0,1,25), normed=True, alpha=0.5);\n",
    "#plt.hist(ypred3tr, bins=np.linspace(0,1,25), normed=True, alpha=0.5);"
   ]
  },
  {
   "cell_type": "code",
   "execution_count": 11,
   "metadata": {
    "collapsed": false,
    "scrolled": false
   },
   "outputs": [
    {
     "data": {
      "image/png": "[encoded data removed]",
      "text/plain": [
       "<matplotlib.figure.Figure at 0x106a7cf90>"
      ]
     },
     "metadata": {},
     "output_type": "display_data"
    }
   ],
   "source": [
    "plt.plot(evald[\"eval\"], label=\"test\")\n",
    "plt.plot(evald[\"train\"], label=\"train\")\n",
    "plt.legend(loc=\"best\")\n",
    "plt.xscale(\"log\")"
   ]
  },
  {
   "cell_type": "code",
   "execution_count": null,
   "metadata": {
    "collapsed": true
   },
   "outputs": [],
   "source": []
  }
 ],
 "metadata": {
  "kernelspec": {
   "display_name": "Python 2",
   "language": "python",
   "name": "python2"
  },
  "language_info": {
   "codemirror_mode": {
    "name": "ipython",
    "version": 2
   },
   "file_extension": ".py",
   "mimetype": "text/x-python",
   "name": "python",
   "nbconvert_exporter": "python",
   "pygments_lexer": "ipython2",
   "version": "2.7.9"
  }
 },
 "nbformat": 4,
 "nbformat_minor": 0
}
