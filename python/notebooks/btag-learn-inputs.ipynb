{
 "cells": [
  {
   "cell_type": "code",
   "execution_count": 1,
   "metadata": {
    "collapsed": true
   },
   "outputs": [],
   "source": [
    "import ROOT\n",
    "ROOT.gROOT.SetBatch(True)\n",
    "import rootpy\n",
    "import numpy as np\n",
    "%matplotlib inline\n",
    "from matplotlib import pyplot as plt\n",
    "from matplotlib.colors import LogNorm"
   ]
  },
  {
   "cell_type": "code",
   "execution_count": 27,
   "metadata": {
    "collapsed": true
   },
   "outputs": [],
   "source": [
    "fn0 = \"/Users/joosep/Documents/btv/data/ttjets.root\"\n",
    "\n",
    "fn1 = \"/Users/joosep/Documents/btv/data/ttjets_b_training.root\"\n",
    "fn2 = \"/Users/joosep/Documents/btv/data/qcd_b_training.root\""
   ]
  },
  {
   "cell_type": "code",
   "execution_count": 28,
   "metadata": {
    "collapsed": false
   },
   "outputs": [],
   "source": [
    "tfs = [ROOT.TFile(fn) for fn in [fn0, fn1, fn2]]"
   ]
  },
  {
   "cell_type": "code",
   "execution_count": 59,
   "metadata": {
    "collapsed": true
   },
   "outputs": [],
   "source": [
    "tf1 = ROOT.TFile(\"/Users/joosep/Documents/test_tree_b_training_pt_0_eta_0.root\")"
   ]
  },
  {
   "cell_type": "code",
   "execution_count": 91,
   "metadata": {
    "collapsed": false
   },
   "outputs": [],
   "source": [
    "tb = tf1.Get(\"tree_b\")"
   ]
  },
  {
   "cell_type": "code",
   "execution_count": 92,
   "metadata": {
    "collapsed": true
   },
   "outputs": [],
   "source": [
    "of = ROOT.TFile(\"out2.root\", \"RECREATE\")"
   ]
  },
  {
   "cell_type": "code",
   "execution_count": 93,
   "metadata": {
    "collapsed": true
   },
   "outputs": [],
   "source": [
    "tc = tb.CopyTree(\"pt>50 && pt<60\")"
   ]
  },
  {
   "cell_type": "code",
   "execution_count": 94,
   "metadata": {
    "collapsed": false
   },
   "outputs": [],
   "source": [
    "tc2 = tc.CopyTree(\"\", \"\", 10000, 15000)"
   ]
  },
  {
   "cell_type": "code",
   "execution_count": 95,
   "metadata": {
    "collapsed": false
   },
   "outputs": [
    {
     "data": {
      "text/plain": [
       "1323"
      ]
     },
     "execution_count": 95,
     "metadata": {},
     "output_type": "execute_result"
    }
   ],
   "source": [
    "tc2.Write()"
   ]
  },
  {
   "cell_type": "code",
   "execution_count": 96,
   "metadata": {
    "collapsed": true
   },
   "outputs": [],
   "source": [
    "of.Close()"
   ]
  },
  {
   "cell_type": "code",
   "execution_count": 60,
   "metadata": {
    "collapsed": true
   },
   "outputs": [],
   "source": [
    "tf2 = ROOT.TFile(\"/Users/joosep/Documents/test_tree_b_testing_pt_0_eta_0.root\")"
   ]
  },
  {
   "cell_type": "code",
   "execution_count": 69,
   "metadata": {
    "collapsed": false
   },
   "outputs": [
    {
     "data": {
      "text/plain": [
       "1180579L"
      ]
     },
     "execution_count": 69,
     "metadata": {},
     "output_type": "execute_result"
    }
   ],
   "source": [
    "ROOT.gROOT.cd()\n",
    "tf1.Get(\"tree_b\").Draw(\"bd_csv1 >> h1(100,0,1)\", \"bd_csv1>0\")"
   ]
  },
  {
   "cell_type": "code",
   "execution_count": 70,
   "metadata": {
    "collapsed": false
   },
   "outputs": [
    {
     "data": {
      "text/plain": [
       "1180579L"
      ]
     },
     "execution_count": 70,
     "metadata": {},
     "output_type": "execute_result"
    }
   ],
   "source": [
    "ROOT.gROOT.cd()\n",
    "tf2.Get(\"tree_b\").Draw(\"bd_csv1 >> h2(100,0,1)\", \"bd_csv1>0\")"
   ]
  },
  {
   "cell_type": "code",
   "execution_count": 73,
   "metadata": {
    "collapsed": false
   },
   "outputs": [],
   "source": [
    "h1 = rootpy.asrootpy(ROOT.gROOT.Get(\"h1\"))\n",
    "h2 = rootpy.asrootpy(ROOT.gROOT.Get(\"h2\"))"
   ]
  },
  {
   "cell_type": "code",
   "execution_count": 75,
   "metadata": {
    "collapsed": false
   },
   "outputs": [],
   "source": [
    "import sys\n",
    "sys.path.append(\"/Users/joosep/Documents/heplot\")\n",
    "import heplot"
   ]
  },
  {
   "cell_type": "code",
   "execution_count": 77,
   "metadata": {
    "collapsed": false
   },
   "outputs": [
    {
     "name": "stdout",
     "output_type": "stream",
     "text": [
      "1.0\n",
      "1.0\n"
     ]
    },
    {
     "data": {
      "text/plain": [
       "<Container object of 100 artists>"
      ]
     },
     "execution_count": 77,
     "metadata": {},
     "output_type": "execute_result"
    },
    {
     "data": {
      "image/png": "[encoded data removed]",
      "text/plain": [
       "<matplotlib.figure.Figure at 0x11c134fd0>"
      ]
     },
     "metadata": {},
     "output_type": "display_data"
    }
   ],
   "source": [
    "heplot.barhist(h1, color=\"red\")\n",
    "heplot.barhist(h2, color=\"blue\")"
   ]
  },
  {
   "cell_type": "code",
   "execution_count": 52,
   "metadata": {
    "collapsed": false
   },
   "outputs": [
    {
     "data": {
      "text/plain": [
       "638831L"
      ]
     },
     "execution_count": 52,
     "metadata": {},
     "output_type": "execute_result"
    }
   ],
   "source": [
    "ROOT.gROOT.cd()\n",
    "tfs[1].Get(\"tree_b\").Draw(\"bd_csv2:bd_csv1 >> hb(20,0,1,20,0,1)\", \"abs(flavour)==5 && abs(bd_csv1-bd_csv2)>0.00001\")"
   ]
  },
  {
   "cell_type": "code",
   "execution_count": 53,
   "metadata": {
    "collapsed": false
   },
   "outputs": [],
   "source": [
    "hb = ROOT.gROOT.Get(\"hb\")"
   ]
  },
  {
   "cell_type": "code",
   "execution_count": 54,
   "metadata": {
    "collapsed": false
   },
   "outputs": [],
   "source": [
    "def get_mat(h):\n",
    "    nx = h.GetNbinsX()\n",
    "    ny = h.GetNbinsY()\n",
    "    arr = np.zeros((h.GetNbinsX(), h.GetNbinsY()))\n",
    "    for i in range(nx):\n",
    "        for j in range(ny):\n",
    "            arr[i,j] = h.GetBinContent(i+1,j+1)\n",
    "    return arr"
   ]
  },
  {
   "cell_type": "code",
   "execution_count": 55,
   "metadata": {
    "collapsed": false
   },
   "outputs": [
    {
     "data": {
      "text/plain": [
       "0.011315835758996492"
      ]
     },
     "execution_count": 55,
     "metadata": {},
     "output_type": "execute_result"
    }
   ],
   "source": [
    "hb.GetCorrelationFactor()"
   ]
  },
  {
   "cell_type": "code",
   "execution_count": 56,
   "metadata": {
    "collapsed": false
   },
   "outputs": [],
   "source": [
    "arr = get_mat(hb)"
   ]
  },
  {
   "cell_type": "code",
   "execution_count": 57,
   "metadata": {
    "collapsed": false
   },
   "outputs": [],
   "source": [
    "def draw_corr(h, _title):\n",
    "    arr1 = get_mat(h)\n",
    "    plt.figure(figsize=(8,8))\n",
    "    plt.imshow(arr1, extent=[0,1,0,1], norm=LogNorm(vmin=1, vmax=np.max(arr1)), origin=\"lower\", interpolation=\"none\")\n",
    "    plt.colorbar()\n",
    "    plt.xlabel(\"CSV IVF\", fontsize=16)\n",
    "    plt.ylabel(\"CSV AVR\", fontsize=16)\n",
    "    c = h.GetCorrelationFactor()\n",
    "    plt.title(_title + \" corr={0:.2f}\".format(c), fontsize=20)"
   ]
  },
  {
   "cell_type": "code",
   "execution_count": 58,
   "metadata": {
    "collapsed": false
   },
   "outputs": [
    {
     "data": {
      "image/png": "[encoded data removed]",
      "text/plain": [
       "<matplotlib.figure.Figure at 0x11c31af50>"
      ]
     },
     "metadata": {},
     "output_type": "display_data"
    }
   ],
   "source": [
    "draw_corr(hb, \"b\")"
   ]
  },
  {
   "cell_type": "code",
   "execution_count": 17,
   "metadata": {
    "collapsed": false
   },
   "outputs": [
    {
     "data": {
      "text/plain": [
       "13464039L"
      ]
     },
     "execution_count": 17,
     "metadata": {},
     "output_type": "execute_result"
    }
   ],
   "source": [
    "ROOT.gROOT.cd()\n",
    "tfs[0].Get(\"tree\").Draw(\"abs(eta):pt >> h_pt_eta_b(81, 20.0, 820.0, 21, 0.0, 2.5)\", \"abs(flavour)==5\")\n",
    "tfs[0].Get(\"tree\").Draw(\"abs(eta):pt >> h_pt_eta_c(81, 20.0, 820.0, 21, 0.0, 2.5)\", \"abs(flavour)==4\")\n",
    "tfs[0].Get(\"tree\").Draw(\"abs(eta):pt >> h_pt_eta_l(81, 20.0, 820.0, 21, 0.0, 2.5)\", \"abs(flavour)!=4 && abs(flavour)!=5\")"
   ]
  },
  {
   "cell_type": "code",
   "execution_count": 18,
   "metadata": {
    "collapsed": true
   },
   "outputs": [],
   "source": [
    "hb = ROOT.gROOT.Get(\"h_pt_eta_b\")\n",
    "hc = ROOT.gROOT.Get(\"h_pt_eta_c\")\n",
    "hl = ROOT.gROOT.Get(\"h_pt_eta_l\")"
   ]
  },
  {
   "cell_type": "code",
   "execution_count": 19,
   "metadata": {
    "collapsed": false
   },
   "outputs": [
    {
     "data": {
      "text/plain": [
       "7669951.0"
      ]
     },
     "execution_count": 19,
     "metadata": {},
     "output_type": "execute_result"
    }
   ],
   "source": [
    "hb.Integral()"
   ]
  },
  {
   "cell_type": "code",
   "execution_count": 22,
   "metadata": {
    "collapsed": true
   },
   "outputs": [],
   "source": [
    "def draw_pt_eta(h, _title):\n",
    "    arr1 = get_mat(h)\n",
    "    plt.figure(figsize=(8,8))\n",
    "    plt.imshow(arr1, aspect=\"auto\", extent=[20,820,0,2.5], norm=LogNorm(vmin=100, vmax=np.max(arr1)), origin=\"lower\", interpolation=\"none\")\n",
    "    plt.colorbar()\n",
    "    plt.xlabel(\"pt\", fontsize=16)\n",
    "    plt.ylabel(\"eta\", fontsize=16)\n",
    "    c = h.GetCorrelationFactor()\n",
    "    plt.title(_title + \" corr={0:.2f}\".format(c), fontsize=20)"
   ]
  },
  {
   "cell_type": "code",
   "execution_count": 23,
   "metadata": {
    "collapsed": false
   },
   "outputs": [
    {
     "data": {
      "image/png": "[encoded data removed]",
      "text/plain": [
       "<matplotlib.figure.Figure at 0x11e8e1750>"
      ]
     },
     "metadata": {},
     "output_type": "display_data"
    }
   ],
   "source": [
    "draw_pt_eta(hb, \"b\")"
   ]
  },
  {
   "cell_type": "code",
   "execution_count": 24,
   "metadata": {
    "collapsed": false
   },
   "outputs": [
    {
     "data": {
      "image/png": "[encoded data removed]",
      "text/plain": [
       "<matplotlib.figure.Figure at 0x11e9a7510>"
      ]
     },
     "metadata": {},
     "output_type": "display_data"
    }
   ],
   "source": [
    "draw_pt_eta(hl, \"l\")"
   ]
  },
  {
   "cell_type": "code",
   "execution_count": 25,
   "metadata": {
    "collapsed": false
   },
   "outputs": [
    {
     "data": {
      "image/png": "[encoded data removed]",
      "text/plain": [
       "<matplotlib.figure.Figure at 0x11e8e12d0>"
      ]
     },
     "metadata": {},
     "output_type": "display_data"
    }
   ],
   "source": [
    "draw_pt_eta(hc, \"c\")"
   ]
  },
  {
   "cell_type": "code",
   "execution_count": null,
   "metadata": {
    "collapsed": true
   },
   "outputs": [],
   "source": [
    "*        0 * 41.526565 *\n",
    "*        1 * 40.942783 *\n",
    "*        2 * 40.690898 *\n",
    "*        3 * 40.077396 *\n",
    "*        4 * 41.067020 *\n",
    "*        5 * 40.707130 *\n",
    "\n",
    "*        0 * 40.953834 *\n",
    "*        1 * 41.675479 *\n",
    "*        2 * 40.501377 *\n",
    "*        3 * 40.412941 *\n",
    "*        4 * 41.557384 *\n",
    "*        5 * 40.231853 *"
   ]
  }
 ],
 "metadata": {
  "kernelspec": {
   "display_name": "Python 2",
   "language": "python",
   "name": "python2"
  },
  "language_info": {
   "codemirror_mode": {
    "name": "ipython",
    "version": 2
   },
   "file_extension": ".py",
   "mimetype": "text/x-python",
   "name": "python",
   "nbconvert_exporter": "python",
   "pygments_lexer": "ipython2",
   "version": "2.7.9"
  }
 },
 "nbformat": 4,
 "nbformat_minor": 0
}
