{
 "cells": [
  {
   "cell_type": "code",
   "execution_count": 1,
   "metadata": {
    "collapsed": true
   },
   "outputs": [],
   "source": [
    "location=\"phys\""
   ]
  },
  {
   "cell_type": "code",
   "execution_count": 2,
   "metadata": {
    "collapsed": false
   },
   "outputs": [],
   "source": [
    "import sys\n",
    "\n",
    "#remove problematic cmssw python packages\n",
    "newpath = []\n",
    "for x in sys.path:\n",
    "    if \"/cvmfs/cms.cern.ch/\" and \"pandas\" in x:\n",
    "        continue\n",
    "    newpath += [x]\n",
    "sys.path = newpath\n",
    "\n",
    "from collections import OrderedDict\n",
    "\n",
    "if location==\"jpata-macbook\":\n",
    "    sys.path.append(\"/Users/joosep/Documents/btv/CMSSW_7_4_5/src/RecoBTag/CombinedMVA/python/\")\n",
    "    sys.path.append(\"/Users/joosep/Documents/ROOTDataHelpers/python/\")\n",
    "elif location==\"phys\":\n",
    "    sys.path.append(\"/home/joosep/btv/CMSSW_7_4_5/src/RecoBTag/CombinedMVA/python/\")\n",
    "    sys.path.append(\"/home/joosep/btv/CMSSW_7_4_5/src/RecoBTag/ROOTDataHelpers/python/\")\n",
    "\n",
    "import numpy as np\n",
    "import root_numpy as rnpy\n",
    "import matplotlib.pyplot as plt\n",
    "import pandas\n",
    "import sklearn\n",
    "import sklearn_cls\n",
    "from sklearn_cls import SKLearnClassifier\n",
    "from matplotlib.colors import LogNorm\n",
    "import rootpy\n",
    "import rootpy.plotting\n",
    "from sklearn import metrics\n",
    "%matplotlib inline\n",
    "import ROOT"
   ]
  },
  {
   "cell_type": "code",
   "execution_count": 196,
   "metadata": {
    "collapsed": false
   },
   "outputs": [
    {
     "data": {
      "text/plain": [
       "'0.16.1'"
      ]
     },
     "execution_count": 196,
     "metadata": {},
     "output_type": "execute_result"
    }
   ],
   "source": [
    "sklearn.__version__"
   ]
  },
  {
   "cell_type": "code",
   "execution_count": 199,
   "metadata": {
    "collapsed": false
   },
   "outputs": [
    {
     "data": {
      "text/plain": [
       "'0.7.1'"
      ]
     },
     "execution_count": 199,
     "metadata": {},
     "output_type": "execute_result"
    }
   ],
   "source": [
    "rootpy.__version__"
   ]
  },
  {
   "cell_type": "code",
   "execution_count": 201,
   "metadata": {
    "collapsed": false
   },
   "outputs": [
    {
     "data": {
      "text/plain": [
       "'4.3.0.dev0'"
      ]
     },
     "execution_count": 201,
     "metadata": {},
     "output_type": "execute_result"
    }
   ],
   "source": [
    "rnpy.__version__"
   ]
  },
  {
   "cell_type": "code",
   "execution_count": 3,
   "metadata": {
    "collapsed": true
   },
   "outputs": [],
   "source": [
    "import rootpy.plotting.root2matplotlib as rplt"
   ]
  },
  {
   "cell_type": "markdown",
   "metadata": {},
   "source": [
    "Here we define the pt/eta binning for the kinematic weighting and for studying the pt/eta dependent performance of the tagger"
   ]
  },
  {
   "cell_type": "code",
   "execution_count": 4,
   "metadata": {
    "collapsed": false
   },
   "outputs": [],
   "source": [
    "ptbins = np.linspace(20, 620, 41)\n",
    "ptbins2 = np.array([20, 30, 40, 50, 60, 70, 80, 100, 120, 140, 160, 200, 240, 280, 320, 360])\n",
    "\n",
    "etabins = np.linspace(0, 2.5, 41)\n",
    "etabins2 = np.linspace(0, 2.5, 11)"
   ]
  },
  {
   "cell_type": "markdown",
   "metadata": {},
   "source": [
    "We load and pre-process the datasets. In particular, ***we clamp the CSV and SoftEl/SoftMu values between 0 and 1***."
   ]
  },
  {
   "cell_type": "code",
   "execution_count": 5,
   "metadata": {
    "collapsed": false
   },
   "outputs": [],
   "source": [
    "def load_dataset(fn, treename, i):\n",
    "    arr = rnpy.root2rec(\n",
    "        fn,\n",
    "        selection=\"Jet_pt>20\",\n",
    "        #branches=[\"Jet_pt\", \"Jet_eta\", \"Jet_flavour\"],\n",
    "        branches=[\"Jet_pt\", \"Jet_eta\", \"Jet_flavour\", \"Jet_CSV\", \"Jet_CSVIVF\", \"Jet_CombMVA\", \"Jet_CombMVANEW\", \"Jet_CombMVAETH\", \"Jet_SoftMu\", \"Jet_SoftEl\", \"Jet_JP\", \"Jet_JBP\", \"TagVarCSV_vertexCategory\"],\n",
    "        treename=treename,\n",
    "        #start=0,\n",
    "        #stop=50000 #load only this many events for testing\n",
    "    )\n",
    "    df = pandas.DataFrame(arr)\n",
    "    \n",
    "    df[\"id\"] = i\n",
    "    df[\"label\"] = 0\n",
    "    \n",
    "    df[np.isnan(df)] = 0.0\n",
    "    df[np.isinf(df)] = 0.0\n",
    "    for c in [\"Jet_CSV\", \"Jet_CSVIVF\", \"Jet_SoftEl\", \"Jet_SoftMu\"]:\n",
    "        df.loc[df[c]<=0, c] = 0\n",
    "        df.loc[df[c]>=1, c] = 1\n",
    "    df[\"abs_eta\"] = df[\"Jet_eta\"].abs()\n",
    "    df[\"training\"] = 0\n",
    "    \n",
    "    #shuffle jets randomly between testing and training with a 50% probability\n",
    "    perminds = np.random.permutation(df.index)\n",
    "    df.loc[perminds[:len(perminds)/2], \"training\"] = 1\n",
    "    df[\"ptbin\"] = map(lambda x: ptbins.searchsorted(x), df[\"Jet_pt\"])\n",
    "    df[\"ptbin2\"] = map(lambda x: ptbins2.searchsorted(x), df[\"Jet_pt\"])\n",
    "    df[\"etabin\"] = map(lambda x: etabins.searchsorted(x), df[\"abs_eta\"])\n",
    "    df[\"etabin2\"] = map(lambda x: etabins2.searchsorted(x), df[\"abs_eta\"])\n",
    "    df[\"w\"] = 1.0\n",
    "    return df"
   ]
  },
  {
   "cell_type": "markdown",
   "metadata": {},
   "source": [
    "Now we load all the datasets.\n",
    "We have defined the jet flavours as follows:\n",
    "  * flavour \"0\" - udsg\n",
    "  * flavour \"1\" - c\n",
    "  * flavour \"2\" - b"
   ]
  },
  {
   "cell_type": "code",
   "execution_count": 6,
   "metadata": {
    "collapsed": false
   },
   "outputs": [],
   "source": [
    "if location == \"jpata-macbook\":\n",
    "    path = \"../data/aug10/\"\n",
    "elif location == \"phys\":\n",
    "    path = \"/home/joosep/btv/CMSSW_7_4_5/src/RecoBTag/CombinedMVA/\"\n",
    "d1 = load_dataset(path + \"ttjets_b_10M.root\", \"tree_b\", 2)\n",
    "d2 = load_dataset(path + \"ttjets_c_10M.root\", \"tree_c\", 1)\n",
    "d3 = load_dataset(path + \"ttjets_l_10M.root\", \"tree_l\", 0)"
   ]
  },
  {
   "cell_type": "code",
   "execution_count": 7,
   "metadata": {
    "collapsed": false
   },
   "outputs": [],
   "source": [
    "d = pandas.concat((d1, d2, d3))"
   ]
  },
  {
   "cell_type": "code",
   "execution_count": 8,
   "metadata": {
    "collapsed": false
   },
   "outputs": [
    {
     "data": {
      "text/plain": [
       "(27077224, 22)"
      ]
     },
     "execution_count": 8,
     "metadata": {},
     "output_type": "execute_result"
    }
   ],
   "source": [
    "d.shape"
   ]
  },
  {
   "cell_type": "markdown",
   "metadata": {},
   "source": [
    "Set b-jets to have label (training output) to 1, other jets to 0."
   ]
  },
  {
   "cell_type": "code",
   "execution_count": 9,
   "metadata": {
    "collapsed": false
   },
   "outputs": [],
   "source": [
    "d.loc[d[\"id\"]==2, \"label\"] = 1"
   ]
  },
  {
   "cell_type": "markdown",
   "metadata": {},
   "source": [
    "Let's take a quick look at what we have."
   ]
  },
  {
   "cell_type": "code",
   "execution_count": 10,
   "metadata": {
    "collapsed": false
   },
   "outputs": [
    {
     "data": {
      "text/html": [
       "<div>\n",
       "<table border=\"1\" class=\"dataframe\">\n",
       "  <thead>\n",
       "    <tr style=\"text-align: right;\">\n",
       "      <th></th>\n",
       "      <th>Jet_pt</th>\n",
       "      <th>Jet_eta</th>\n",
       "      <th>Jet_flavour</th>\n",
       "      <th>Jet_CSV</th>\n",
       "      <th>Jet_CSVIVF</th>\n",
       "      <th>Jet_CombMVA</th>\n",
       "      <th>Jet_CombMVANEW</th>\n",
       "      <th>Jet_CombMVAETH</th>\n",
       "      <th>Jet_SoftMu</th>\n",
       "      <th>Jet_SoftEl</th>\n",
       "      <th>...</th>\n",
       "      <th>TagVarCSV_vertexCategory</th>\n",
       "      <th>id</th>\n",
       "      <th>label</th>\n",
       "      <th>abs_eta</th>\n",
       "      <th>training</th>\n",
       "      <th>ptbin</th>\n",
       "      <th>ptbin2</th>\n",
       "      <th>etabin</th>\n",
       "      <th>etabin2</th>\n",
       "      <th>w</th>\n",
       "    </tr>\n",
       "  </thead>\n",
       "  <tbody>\n",
       "    <tr>\n",
       "      <th>0</th>\n",
       "      <td>85.697235</td>\n",
       "      <td>-0.748034</td>\n",
       "      <td>-5</td>\n",
       "      <td>0.940766</td>\n",
       "      <td>0.997546</td>\n",
       "      <td>0.874445</td>\n",
       "      <td>0.920242</td>\n",
       "      <td>0.996999</td>\n",
       "      <td>0.0000</td>\n",
       "      <td>0.000000</td>\n",
       "      <td>...</td>\n",
       "      <td>0</td>\n",
       "      <td>2</td>\n",
       "      <td>1</td>\n",
       "      <td>0.748034</td>\n",
       "      <td>1</td>\n",
       "      <td>5</td>\n",
       "      <td>7</td>\n",
       "      <td>12</td>\n",
       "      <td>3</td>\n",
       "      <td>1</td>\n",
       "    </tr>\n",
       "    <tr>\n",
       "      <th>1</th>\n",
       "      <td>40.214520</td>\n",
       "      <td>0.974156</td>\n",
       "      <td>5</td>\n",
       "      <td>0.982968</td>\n",
       "      <td>0.932280</td>\n",
       "      <td>0.867366</td>\n",
       "      <td>0.900051</td>\n",
       "      <td>0.996791</td>\n",
       "      <td>0.0000</td>\n",
       "      <td>0.961287</td>\n",
       "      <td>...</td>\n",
       "      <td>0</td>\n",
       "      <td>2</td>\n",
       "      <td>1</td>\n",
       "      <td>0.974156</td>\n",
       "      <td>1</td>\n",
       "      <td>2</td>\n",
       "      <td>3</td>\n",
       "      <td>16</td>\n",
       "      <td>4</td>\n",
       "      <td>1</td>\n",
       "    </tr>\n",
       "    <tr>\n",
       "      <th>2</th>\n",
       "      <td>67.870689</td>\n",
       "      <td>0.875932</td>\n",
       "      <td>5</td>\n",
       "      <td>0.980145</td>\n",
       "      <td>0.996056</td>\n",
       "      <td>0.997501</td>\n",
       "      <td>0.968549</td>\n",
       "      <td>0.999658</td>\n",
       "      <td>0.5273</td>\n",
       "      <td>0.000000</td>\n",
       "      <td>...</td>\n",
       "      <td>0</td>\n",
       "      <td>2</td>\n",
       "      <td>1</td>\n",
       "      <td>0.875932</td>\n",
       "      <td>0</td>\n",
       "      <td>4</td>\n",
       "      <td>5</td>\n",
       "      <td>15</td>\n",
       "      <td>4</td>\n",
       "      <td>1</td>\n",
       "    </tr>\n",
       "    <tr>\n",
       "      <th>3</th>\n",
       "      <td>51.846420</td>\n",
       "      <td>2.362511</td>\n",
       "      <td>5</td>\n",
       "      <td>0.230944</td>\n",
       "      <td>0.230944</td>\n",
       "      <td>0.464971</td>\n",
       "      <td>0.361609</td>\n",
       "      <td>-0.944599</td>\n",
       "      <td>0.0000</td>\n",
       "      <td>0.000000</td>\n",
       "      <td>...</td>\n",
       "      <td>2</td>\n",
       "      <td>2</td>\n",
       "      <td>1</td>\n",
       "      <td>2.362511</td>\n",
       "      <td>1</td>\n",
       "      <td>3</td>\n",
       "      <td>4</td>\n",
       "      <td>38</td>\n",
       "      <td>10</td>\n",
       "      <td>1</td>\n",
       "    </tr>\n",
       "    <tr>\n",
       "      <th>4</th>\n",
       "      <td>64.102722</td>\n",
       "      <td>1.035905</td>\n",
       "      <td>5</td>\n",
       "      <td>0.995930</td>\n",
       "      <td>0.984237</td>\n",
       "      <td>0.999932</td>\n",
       "      <td>0.919411</td>\n",
       "      <td>0.999732</td>\n",
       "      <td>0.0000</td>\n",
       "      <td>0.206347</td>\n",
       "      <td>...</td>\n",
       "      <td>0</td>\n",
       "      <td>2</td>\n",
       "      <td>1</td>\n",
       "      <td>1.035905</td>\n",
       "      <td>1</td>\n",
       "      <td>3</td>\n",
       "      <td>5</td>\n",
       "      <td>17</td>\n",
       "      <td>5</td>\n",
       "      <td>1</td>\n",
       "    </tr>\n",
       "  </tbody>\n",
       "</table>\n",
       "<p>5 rows × 22 columns</p>\n",
       "</div>"
      ],
      "text/plain": [
       "      Jet_pt   Jet_eta  Jet_flavour   Jet_CSV  Jet_CSVIVF  Jet_CombMVA  \\\n",
       "0  85.697235 -0.748034           -5  0.940766    0.997546     0.874445   \n",
       "1  40.214520  0.974156            5  0.982968    0.932280     0.867366   \n",
       "2  67.870689  0.875932            5  0.980145    0.996056     0.997501   \n",
       "3  51.846420  2.362511            5  0.230944    0.230944     0.464971   \n",
       "4  64.102722  1.035905            5  0.995930    0.984237     0.999932   \n",
       "\n",
       "   Jet_CombMVANEW  Jet_CombMVAETH  Jet_SoftMu  Jet_SoftEl ...  \\\n",
       "0        0.920242        0.996999      0.0000    0.000000 ...   \n",
       "1        0.900051        0.996791      0.0000    0.961287 ...   \n",
       "2        0.968549        0.999658      0.5273    0.000000 ...   \n",
       "3        0.361609       -0.944599      0.0000    0.000000 ...   \n",
       "4        0.919411        0.999732      0.0000    0.206347 ...   \n",
       "\n",
       "   TagVarCSV_vertexCategory  id  label   abs_eta  training  ptbin  ptbin2  \\\n",
       "0                         0   2      1  0.748034         1      5       7   \n",
       "1                         0   2      1  0.974156         1      2       3   \n",
       "2                         0   2      1  0.875932         0      4       5   \n",
       "3                         2   2      1  2.362511         1      3       4   \n",
       "4                         0   2      1  1.035905         1      3       5   \n",
       "\n",
       "   etabin  etabin2  w  \n",
       "0      12        3  1  \n",
       "1      16        4  1  \n",
       "2      15        4  1  \n",
       "3      38       10  1  \n",
       "4      17        5  1  \n",
       "\n",
       "[5 rows x 22 columns]"
      ]
     },
     "execution_count": 10,
     "metadata": {},
     "output_type": "execute_result"
    }
   ],
   "source": [
    "d.head()"
   ]
  },
  {
   "cell_type": "markdown",
   "metadata": {},
   "source": [
    "Now we also load the QCD datasets."
   ]
  },
  {
   "cell_type": "code",
   "execution_count": 11,
   "metadata": {
    "collapsed": false
   },
   "outputs": [],
   "source": [
    "d1_qcd = load_dataset(path + \"qcd_b_10M.root\", \"tree_b\", 2)\n",
    "d2_qcd = load_dataset(path + \"qcd_c_10M.root\", \"tree_c\", 1)\n",
    "d3_qcd = load_dataset(path + \"qcd_l_10M.root\", \"tree_l\", 0)\n",
    "d_qcd = pandas.concat((d1_qcd, d2_qcd, d3_qcd))"
   ]
  },
  {
   "cell_type": "code",
   "execution_count": 12,
   "metadata": {
    "collapsed": false
   },
   "outputs": [],
   "source": [
    "# d_training_shuf.head(1000).to_csv(\"/Users/joosep/Desktop/data.csv\")"
   ]
  },
  {
   "cell_type": "code",
   "execution_count": 13,
   "metadata": {
    "collapsed": false
   },
   "outputs": [],
   "source": [
    "#d.to_csv(\"/Users/joosep/Desktop/data.csv\")"
   ]
  },
  {
   "cell_type": "markdown",
   "metadata": {},
   "source": [
    "We split to training and testing according to a jet-by-jet random shuffle defined when the datasets are loaded. "
   ]
  },
  {
   "cell_type": "code",
   "execution_count": 14,
   "metadata": {
    "collapsed": true
   },
   "outputs": [],
   "source": [
    "d_training = d[d[\"training\"]==1]\n",
    "d_testing = d[d[\"training\"]==0]"
   ]
  },
  {
   "cell_type": "markdown",
   "metadata": {},
   "source": [
    "Now we calculate the kinematic weights."
   ]
  },
  {
   "cell_type": "code",
   "execution_count": 15,
   "metadata": {
    "collapsed": false
   },
   "outputs": [],
   "source": [
    "ptbins_w = np.linspace(20, 620, 101)\n",
    "etabins_w = np.linspace(0, 2.5, 101)\n",
    "def get_weights(df):\n",
    "    vs, bx, by = np.histogram2d(\n",
    "        df[\"Jet_pt\"],\n",
    "        df[\"abs_eta\"],\n",
    "        bins=[ptbins_w, etabins_w]\n",
    "    )\n",
    "    vs = vs / float(np.sum(vs))\n",
    "    ws = 1.0/vs\n",
    "    ws[np.isnan(ws)]=0.0\n",
    "    ws[np.isnan(ws)]=0.0\n",
    "    ws[np.isinf(ws)]=1\n",
    "    ws[np.isinf(ws)]=1\n",
    "    return ws"
   ]
  },
  {
   "cell_type": "code",
   "execution_count": 16,
   "metadata": {
    "collapsed": false
   },
   "outputs": [],
   "source": [
    "weight_b = get_weights(d[d[\"id\"]==2])\n",
    "weight_c = get_weights(d[d[\"id\"]==1])\n",
    "weight_l = get_weights(d[d[\"id\"]==0])"
   ]
  },
  {
   "cell_type": "code",
   "execution_count": 190,
   "metadata": {
    "collapsed": false
   },
   "outputs": [
    {
     "data": {
      "image/png": "[encoded data removed]",
      "text/plain": [
       "<matplotlib.figure.Figure at 0x7f152d45f910>"
      ]
     },
     "metadata": {},
     "output_type": "display_data"
    }
   ],
   "source": [
    "plt.figure(figsize=(8,8))\n",
    "plt.title(\"$p_t$-$|\\eta|$ dependent weighting in $t\\\\bar{t}$ for udsg-jets\", fontsize=16)\n",
    "z = plt.imshow(weight_l, interpolation=\"none\",origin=\"lower\",norm=LogNorm(vmin=0.1,vmax=1000000.0), cmap=\"gist_heat\")\n",
    "plt.colorbar(z)\n",
    "plt.savefig(\"weights_light.pdf\")"
   ]
  },
  {
   "cell_type": "code",
   "execution_count": 191,
   "metadata": {
    "collapsed": false
   },
   "outputs": [
    {
     "data": {
      "image/png": "[encoded data removed]",
      "text/plain": [
       "<matplotlib.figure.Figure at 0x7f152d03ab10>"
      ]
     },
     "metadata": {},
     "output_type": "display_data"
    }
   ],
   "source": [
    "plt.figure(figsize=(8,8))\n",
    "plt.title(\"$p_t$-$|\\eta|$ dependent weighting in $t\\\\bar{t}$ for b-jets\", fontsize=16)\n",
    "z = plt.imshow(weight_b, interpolation=\"none\",origin=\"lower\",norm=LogNorm(vmin=0.1,vmax=1000000.0), cmap=\"gist_heat\")\n",
    "plt.colorbar(z)\n",
    "plt.savefig(\"weights_b.pdf\")"
   ]
  },
  {
   "cell_type": "code",
   "execution_count": 192,
   "metadata": {
    "collapsed": false
   },
   "outputs": [
    {
     "data": {
      "image/png": "[encoded data removed]",
      "text/plain": [
       "<matplotlib.figure.Figure at 0x7f151842a050>"
      ]
     },
     "metadata": {},
     "output_type": "display_data"
    }
   ],
   "source": [
    "plt.figure(figsize=(8,8))\n",
    "plt.title(\"$p_t$-$|\\eta|$ dependent weighting in $t\\\\bar{t}$ for c-jets\", fontsize=16)\n",
    "z = plt.imshow(weight_c, interpolation=\"none\",origin=\"lower\",norm=LogNorm(vmin=0.1,vmax=1000000.0), cmap=\"gist_heat\")\n",
    "plt.colorbar(z)\n",
    "plt.savefig(\"weights_charm.pdf\")"
   ]
  },
  {
   "cell_type": "code",
   "execution_count": 20,
   "metadata": {
    "collapsed": true
   },
   "outputs": [],
   "source": [
    "def weight(pt, eta, fl):\n",
    "    ibx = ptbins_w.searchsorted(pt) - 1\n",
    "    iby = etabins_w.searchsorted(abs(eta)) - 1\n",
    "    if ibx < 0:\n",
    "        ibx = 0\n",
    "    if iby < 0:\n",
    "        iby = 0\n",
    "    if ibx>=len(ptbins_w)-1:\n",
    "        ibx = len(ptbins_w)-2\n",
    "    if iby>=len(etabins_w)-1:\n",
    "        iby = len(etabins_w)-2\n",
    "        \n",
    "    if fl == 2:\n",
    "        ws = weight_b\n",
    "    elif fl == 1:\n",
    "        ws = weight_c\n",
    "    elif fl==0:\n",
    "        ws = weight_l\n",
    "    return ws[ibx, iby]  "
   ]
  },
  {
   "cell_type": "code",
   "execution_count": 21,
   "metadata": {
    "collapsed": false
   },
   "outputs": [],
   "source": [
    "d[\"w\"]  = map(\n",
    "    lambda _z: weight(_z[0], _z[1], _z[2]),\n",
    "    zip(d[\"Jet_pt\"], d[\"abs_eta\"], d[\"id\"])\n",
    ")\n",
    "\n",
    "d[\"w2\"] = 1\n",
    "d.loc[d[\"id\"]==0, \"w2\"] = 0.5\n",
    "d.loc[d[\"id\"]==1, \"w2\"] = 0.5"
   ]
  },
  {
   "cell_type": "code",
   "execution_count": 22,
   "metadata": {
    "collapsed": true
   },
   "outputs": [],
   "source": [
    "d_training_shuf = d_training.iloc[np.random.permutation(len(d_training))]"
   ]
  },
  {
   "cell_type": "code",
   "execution_count": 179,
   "metadata": {
    "collapsed": false
   },
   "outputs": [],
   "source": [
    "def draw_corr(data, v1, vn1, v2, vn2, title):\n",
    "\n",
    "    c = (np.abs(data[\"Jet_CSV\"] -\n",
    "         data[\"Jet_CSVIVF\"])>0.00000000001\n",
    "    )\n",
    "    hd = np.histogram2d(\n",
    "        data[c][v1],\n",
    "        data[c][v2],\n",
    "        bins=[np.linspace(0,1,21), np.linspace(0,1,21)]\n",
    "    )\n",
    "    hd = hd[0] / float(np.sum(hd[0]))\n",
    "    corr = np.corrcoef(\n",
    "        data[c][v1],\n",
    "        data[c][v2]\n",
    "    )\n",
    "\n",
    "    plt.figure(figsize=(6,5))\n",
    "    ax = plt.axes()\n",
    "    ret = ax.imshow(\n",
    "        hd,\n",
    "        cmap=\"hot\",\n",
    "        interpolation=\"none\",\n",
    "        origin=\"lower\",\n",
    "        aspect=\"auto\",\n",
    "        #vmin=0,\n",
    "        #vmax=60000,\n",
    "        extent=[\n",
    "            0,\n",
    "            1,\n",
    "            0,\n",
    "            1\n",
    "        ],\n",
    "        norm=LogNorm(vmin=0.000001, vmax=1)\n",
    "    )\n",
    "    plt.title(title + \" corr={0:.4f}\".format(corr[0,1]), fontsize=16)\n",
    "    plt.xlabel(vn1, fontsize=16)\n",
    "    plt.ylabel(vn2, fontsize=16)\n",
    "    plt.colorbar(ret)"
   ]
  },
  {
   "cell_type": "markdown",
   "metadata": {},
   "source": [
    "Pt distribution before and after reweighting."
   ]
  },
  {
   "cell_type": "code",
   "execution_count": 189,
   "metadata": {
    "collapsed": false
   },
   "outputs": [
    {
     "data": {
      "image/png": "[encoded data removed]",
      "text/plain": [
       "<matplotlib.figure.Figure at 0x7f152d474350>"
      ]
     },
     "metadata": {},
     "output_type": "display_data"
    }
   ],
   "source": [
    "h = rootpy.plotting.Hist(100, 20, 620)\n",
    "w = np.ones(len(d), dtype=\"float64\")\n",
    "h.FillN(len(d), np.array(d[\"Jet_pt\"]).astype(\"float64\"), w)\n",
    "h.Scale(1.0 / h.Integral())\n",
    "h.color=\"blue\"\n",
    "rplt.hist(h, color=\"blue\", label=\"before\")\n",
    "\n",
    "h2 = rootpy.plotting.Hist(100, 20, 620)\n",
    "h2.FillN(len(d), np.array(d[\"Jet_pt\"]).astype(\"float64\"), np.array(d[\"w\"]).astype(\"float64\"))\n",
    "h2.Scale(1.0 / h2.Integral())\n",
    "h2.color=\"red\"\n",
    "rplt.hist(h2, color=\"red\", label=\"after\")\n",
    "\n",
    "plt.yscale(\"log\")\n",
    "plt.ylim(10**-5, 1)\n",
    "plt.xlabel(\"jet $p_T$ [GeV]\", fontsize=16)\n",
    "plt.ylabel(\"fraction of jets\", fontsize=16)\n",
    "plt.legend()\n",
    "plt.title(\"$p_T-|\\eta|$ reweighting\")\n",
    "plt.savefig(\"pt_reweight.pdf\")"
   ]
  },
  {
   "cell_type": "markdown",
   "metadata": {},
   "source": [
    "Eta distribution before and after reweighting."
   ]
  },
  {
   "cell_type": "code",
   "execution_count": 178,
   "metadata": {
    "collapsed": false
   },
   "outputs": [
    {
     "data": {
      "text/plain": [
       "<matplotlib.text.Text at 0x7f152d3a8890>"
      ]
     },
     "execution_count": 178,
     "metadata": {},
     "output_type": "execute_result"
    },
    {
     "data": {
      "image/png": "[encoded data removed]",
      "text/plain": [
       "<matplotlib.figure.Figure at 0x7f152dd0ac10>"
      ]
     },
     "metadata": {},
     "output_type": "display_data"
    }
   ],
   "source": [
    "h = rootpy.plotting.Hist(100, -2.5, 2.5)\n",
    "w = np.ones(len(d), dtype=\"float64\")\n",
    "h.FillN(len(d), np.array(d[\"Jet_eta\"]).astype(\"float64\"), w)\n",
    "h.Scale(1.0 / h.Integral())\n",
    "h.color=\"blue\"\n",
    "rplt.hist(h, color=\"blue\", label=\"before\")\n",
    "\n",
    "h2 = rootpy.plotting.Hist(100, -2.5, 2.5)\n",
    "h2.FillN(len(d), np.array(d[\"Jet_eta\"]).astype(\"float64\"), np.array(d[\"w\"]).astype(\"float64\"))\n",
    "h2.Scale(1.0 / h2.Integral())\n",
    "h2.color=\"red\"\n",
    "rplt.hist(h2, color=\"red\", label=\"after\")\n",
    "\n",
    "#plt.yscale(\"log\")\n",
    "#plt.ylim(10**-5, 1)\n",
    "plt.xlabel(\"jet $\\eta$\", fontsize=16)\n",
    "plt.ylabel(\"fraction of jets\", fontsize=16)\n",
    "plt.legend()\n",
    "plt.title(\"$p_T-|\\eta|$ reweighting\")\n",
    "plt.savefig(\"eta_reweight.pdf\")"
   ]
  },
  {
   "cell_type": "code",
   "execution_count": 193,
   "metadata": {
    "collapsed": false
   },
   "outputs": [
    {
     "data": {
      "image/png": "[encoded data removed]",
      "text/plain": [
       "<matplotlib.figure.Figure at 0x7f151841e410>"
      ]
     },
     "metadata": {},
     "output_type": "display_data"
    }
   ],
   "source": [
    "draw_corr(d[d[\"id\"]==2], \"Jet_CSV\", \"CSV AVR\", \"Jet_CSVIVF\", \"CSV IVF\", \"ttjets b\")\n",
    "plt.savefig(\"corr_csv_avr_ivf_b.pdf\")"
   ]
  },
  {
   "cell_type": "code",
   "execution_count": 194,
   "metadata": {
    "collapsed": false
   },
   "outputs": [
    {
     "data": {
      "image/png": "[encoded data removed]",
      "text/plain": [
       "<matplotlib.figure.Figure at 0x7f152d248e90>"
      ]
     },
     "metadata": {},
     "output_type": "display_data"
    }
   ],
   "source": [
    "draw_corr(d[d[\"id\"]==1], \"Jet_CSV\", \"CSV AVR\", \"Jet_CSVIVF\", \"CSV IVF\", \"ttjets c\")\n",
    "plt.savefig(\"corr_csv_avr_ivf_charm.pdf\")"
   ]
  },
  {
   "cell_type": "code",
   "execution_count": 195,
   "metadata": {
    "collapsed": false
   },
   "outputs": [
    {
     "data": {
      "image/png": "[encoded data removed]",
      "text/plain": [
       "<matplotlib.figure.Figure at 0x7f1551455650>"
      ]
     },
     "metadata": {},
     "output_type": "display_data"
    }
   ],
   "source": [
    "draw_corr(d[d[\"id\"]==0], \"Jet_CSV\", \"CSV AVR\", \"Jet_CSVIVF\", \"CSV IVF\", \"ttjets l\")\n",
    "plt.savefig(\"corr_csv_avr_ivf_light.pdf\")"
   ]
  },
  {
   "cell_type": "code",
   "execution_count": 29,
   "metadata": {
    "collapsed": true
   },
   "outputs": [],
   "source": [
    "def cum(arr, nb=100000):\n",
    "    h = np.histogram(\n",
    "        arr,\n",
    "        bins=np.linspace(-1, 1, nb)\n",
    "    )\n",
    "    h = h[0]\n",
    "    h = h / float(np.sum(h))\n",
    "    h = np.cumsum(h)\n",
    "    return h"
   ]
  },
  {
   "cell_type": "code",
   "execution_count": 30,
   "metadata": {
    "collapsed": true
   },
   "outputs": [],
   "source": [
    "def cumerr(arr, nb=100000):\n",
    "    h = np.histogram(\n",
    "        arr,\n",
    "        bins=np.linspace(np.min(arr), np.max(arr),nb)\n",
    "    )\n",
    "    h = h[0]\n",
    "    hc = np.cumsum(h)\n",
    "    he = np.sqrt(np.cumsum(h))\n",
    "    hc = hc / float(np.sum(h))\n",
    "    he = he / float(np.sum(h))\n",
    "    return hc, he"
   ]
  },
  {
   "cell_type": "code",
   "execution_count": 31,
   "metadata": {
    "collapsed": true
   },
   "outputs": [],
   "source": [
    "md = {\n",
    "    \"b\":d_testing[d_testing[\"id\"]==2][:10000],\n",
    "    \"l\":d_testing[d_testing[\"id\"]==0][:10000],\n",
    "    \"c\":d_testing[d_testing[\"id\"]==1][:10000]\n",
    "}"
   ]
  },
  {
   "cell_type": "markdown",
   "metadata": {},
   "source": [
    "Set light-jet weight to 30% to give less emphasis to udgs.\n",
    "**Note: we de-emphasize the effect of light jets in the training**"
   ]
  },
  {
   "cell_type": "code",
   "execution_count": 183,
   "metadata": {
    "collapsed": false
   },
   "outputs": [],
   "source": [
    "d_training.loc[d_training[\"id\"]==0, \"w\"] *= 0.3"
   ]
  },
  {
   "cell_type": "code",
   "execution_count": 33,
   "metadata": {
    "collapsed": false
   },
   "outputs": [
    {
     "name": "stdout",
     "output_type": "stream",
     "text": [
      "      Iter       Train Loss   Remaining Time \n",
      "         1           1.1913           17.90m\n",
      "         2           1.1276           16.47m\n",
      "         3           1.0764           15.96m\n",
      "         4           1.0346           15.64m\n",
      "         5           0.9998           15.45m\n",
      "         6           0.9708           15.28m\n",
      "         7           0.9465           15.13m\n",
      "         8           0.9259           15.00m\n",
      "         9           0.9084           14.85m\n",
      "        10           0.8936           14.68m\n",
      "        20           0.8242           13.61m\n",
      "        30           0.8083           12.86m\n",
      "        40           0.8045           12.11m\n",
      "        50           0.8037           11.34m\n",
      "        60           0.8035           10.61m\n",
      "        70           0.8034            9.96m\n",
      "        80           0.8034            9.28m\n",
      "        90           0.8034            8.57m\n",
      "       100           0.8034            7.82m\n",
      "       200           0.8032            0.00s\n"
     ]
    }
   ],
   "source": [
    "cls_ca = SKLearnClassifier(\n",
    "    name=\"c1\",\n",
    "    data_name=\"ttjets\",\n",
    "    variables=[\"Jet_CSVIVF\"],\n",
    "    ntrees=200, label=\"label\"\n",
    ")\n",
    "cls_ca.add_data(d_training_shuf[d_training_shuf[\"id\"] == 2][:1000000], \"b\")\n",
    "cls_ca.add_data(d_training_shuf[d_training_shuf[\"id\"] == 1][:1000000], \"udsg\")\n",
    "cls_ca.add_data(d_training_shuf[d_training_shuf[\"id\"] == 0][:1000000], \"c\")\n",
    "\n",
    "cls_ca.prepare()\n",
    "cls_ca.train()"
   ]
  },
  {
   "cell_type": "code",
   "execution_count": 34,
   "metadata": {
    "collapsed": false
   },
   "outputs": [
    {
     "name": "stdout",
     "output_type": "stream",
     "text": [
      "      Iter       Train Loss   Remaining Time \n",
      "         1           1.1910           33.90m\n",
      "         2           1.1269           30.23m\n",
      "         3           1.0752           29.34m\n",
      "         4           1.0325           28.36m\n",
      "         5           0.9969           27.91m\n",
      "         6           0.9673           27.20m\n",
      "         7           0.9419           26.40m\n",
      "         8           0.9207           25.72m\n",
      "         9           0.9021           25.59m\n",
      "        10           0.8865           25.47m\n",
      "        20           0.8091           23.11m\n",
      "        30           0.7883           21.68m\n",
      "        40           0.7812           19.92m\n",
      "        50           0.7780           18.81m\n",
      "        60           0.7765           17.59m\n",
      "        70           0.7756           16.35m\n",
      "        80           0.7749           14.72m\n",
      "        90           0.7742           13.21m\n",
      "       100           0.7739           11.90m\n",
      "       200           0.7726            0.00s\n"
     ]
    }
   ],
   "source": [
    "cls_c0 = SKLearnClassifier(\n",
    "    name=\"c1\",\n",
    "    data_name=\"ttjets\",\n",
    "    variables=[\"Jet_CSVIVF\", \"Jet_SoftEl\", \"Jet_SoftMu\"],\n",
    "    ntrees=200, label=\"label\"\n",
    ")\n",
    "cls_c0.add_data(d_training_shuf[d_training_shuf[\"id\"] == 2][:1000000], \"b\")\n",
    "cls_c0.add_data(d_training_shuf[d_training_shuf[\"id\"] == 1][:1000000], \"udsg\")\n",
    "cls_c0.add_data(d_training_shuf[d_training_shuf[\"id\"] == 0][:1000000], \"c\")\n",
    "\n",
    "cls_c0.prepare()\n",
    "cls_c0.train()"
   ]
  },
  {
   "cell_type": "code",
   "execution_count": 35,
   "metadata": {
    "collapsed": false
   },
   "outputs": [
    {
     "name": "stdout",
     "output_type": "stream",
     "text": [
      "      Iter       Train Loss   Remaining Time \n",
      "         1           1.1905           43.73m\n",
      "         2           1.1257           37.90m\n",
      "         3           1.0736           36.05m\n",
      "         4           1.0304           35.00m\n",
      "         5           0.9948           34.14m\n",
      "         6           0.9643           33.63m\n",
      "         7           0.9385           33.24m\n",
      "         8           0.9166           32.93m\n",
      "         9           0.8978           32.74m\n",
      "        10           0.8815           32.43m\n",
      "        20           0.8013           30.05m\n",
      "        30           0.7788           28.12m\n",
      "        40           0.7710           26.20m\n",
      "        50           0.7668           24.26m\n",
      "        60           0.7649           22.43m\n",
      "        70           0.7635           20.57m\n",
      "        80           0.7627           18.82m\n",
      "        90           0.7620           17.14m\n",
      "       100           0.7615           15.50m\n",
      "       200           0.7590            0.00s\n"
     ]
    }
   ],
   "source": [
    "cls_c1 = SKLearnClassifier(\n",
    "    name=\"c1\",\n",
    "    variables=[\"Jet_CSVIVF\", \"Jet_JP\", \"Jet_SoftEl\", \"Jet_SoftMu\"],\n",
    "    ntrees=200, label=\"label\"\n",
    ")\n",
    "cls_c1.add_data(d_training_shuf[d_training_shuf[\"id\"] == 2][:1000000], \"b\")\n",
    "cls_c1.add_data(d_training_shuf[d_training_shuf[\"id\"] == 1][:1000000], \"udsg\")\n",
    "cls_c1.add_data(d_training_shuf[d_training_shuf[\"id\"] == 0][:1000000], \"c\")\n",
    "\n",
    "cls_c1.prepare()\n",
    "cls_c1.train()"
   ]
  },
  {
   "cell_type": "code",
   "execution_count": 36,
   "metadata": {
    "collapsed": false
   },
   "outputs": [
    {
     "name": "stdout",
     "output_type": "stream",
     "text": [
      "      Iter       Train Loss   Remaining Time \n",
      "         1           1.1905           39.36m\n",
      "         2           1.1260           34.12m\n",
      "         3           1.0735           32.23m\n",
      "         4           1.0305           30.89m\n",
      "         5           0.9943           30.42m\n",
      "         6           0.9644           29.94m\n",
      "         7           0.9385           29.57m\n",
      "         8           0.9164           29.56m\n",
      "         9           0.8975           29.39m\n",
      "        10           0.8811           29.39m\n",
      "        20           0.7987           27.75m\n",
      "        30           0.7755           26.79m\n",
      "        40           0.7668           25.31m\n",
      "        50           0.7623           23.72m\n",
      "        60           0.7602           22.48m\n",
      "        70           0.7589           21.30m\n",
      "        80           0.7579           20.11m\n",
      "        90           0.7572           18.70m\n",
      "       100           0.7565           17.19m\n",
      "       200           0.7527            0.00s\n"
     ]
    }
   ],
   "source": [
    "cls_c2 = SKLearnClassifier(\n",
    "    name=\"c2\",\n",
    "    variables=[\"Jet_CSV\", \"Jet_CSVIVF\", \"Jet_JP\", \"Jet_SoftMu\", \"Jet_SoftEl\"],\n",
    "    ntrees=200, label=\"label\"\n",
    ")\n",
    "cls_c2.add_data(d_training_shuf[d_training_shuf[\"id\"] == 2][:1000000], \"b\")\n",
    "cls_c2.add_data(d_training_shuf[d_training_shuf[\"id\"] == 0][:1000000], \"udsg\")\n",
    "cls_c2.add_data(d_training_shuf[d_training_shuf[\"id\"] == 1][:1000000], \"c\")\n",
    "\n",
    "cls_c2.prepare()\n",
    "cls_c2.train()"
   ]
  },
  {
   "cell_type": "code",
   "execution_count": 37,
   "metadata": {
    "collapsed": false
   },
   "outputs": [
    {
     "name": "stdout",
     "output_type": "stream",
     "text": [
      "      Iter       Train Loss   Remaining Time \n",
      "         1           1.1898           75.79m\n",
      "         2           1.1248           62.80m\n",
      "         3           1.0721           57.63m\n",
      "         4           1.0286           54.78m\n",
      "         5           0.9925           53.43m\n",
      "         6           0.9618           52.38m\n",
      "         7           0.9358           51.42m\n",
      "         8           0.9138           50.59m\n",
      "         9           0.8946           49.92m\n",
      "        10           0.8781           49.43m\n",
      "        20           0.7949           45.28m\n",
      "        30           0.7711           42.26m\n",
      "        40           0.7620           39.59m\n",
      "        50           0.7576           37.18m\n",
      "        60           0.7552           34.63m\n",
      "        70           0.7537           31.72m\n",
      "        80           0.7526           29.04m\n",
      "        90           0.7518           26.52m\n",
      "       100           0.7510           24.03m\n",
      "       200           0.7471            0.00s\n"
     ]
    }
   ],
   "source": [
    "cls_c3 = SKLearnClassifier(\n",
    "    name=\"c3\",\n",
    "    variables=[\"Jet_CSV\", \"Jet_CSVIVF\", \"Jet_JP\", \"Jet_JBP\", \"Jet_SoftMu\", \"Jet_SoftEl\"],\n",
    "    #weight=\"w\",\n",
    "    ntrees=200, label=\"label\"\n",
    ")\n",
    "#sel = d_training_shuf.eval(\"(Jet_CSV>=-10) & (Jet_CSVIVF>=-10) & (Jet_SoftEl>=-10) & (Jet_SoftMu>=-10) & (Jet_JP>=-10) & (Jet_JBP>=-10)\")\n",
    "cls_c3.add_data(d_training_shuf[d_training_shuf[\"id\"] == 2][:1000000], \"b\")\n",
    "cls_c3.add_data(d_training_shuf[d_training_shuf[\"id\"] == 0][:1000000], \"udsg\")\n",
    "cls_c3.add_data(d_training_shuf[d_training_shuf[\"id\"] == 1][:1000000], \"c\")\n",
    "\n",
    "cls_c3.prepare()\n",
    "cls_c3.train()"
   ]
  },
  {
   "cell_type": "markdown",
   "metadata": {},
   "source": [
    "## Classifier C4"
   ]
  },
  {
   "cell_type": "markdown",
   "metadata": {},
   "source": [
    "This is the main training. Train on 6 variables."
   ]
  },
  {
   "cell_type": "code",
   "execution_count": 38,
   "metadata": {
    "collapsed": false
   },
   "outputs": [
    {
     "name": "stdout",
     "output_type": "stream",
     "text": [
      "      Iter       Train Loss   Remaining Time \n",
      "         1           1.2296          287.11m\n",
      "         2           1.1599          238.13m\n",
      "         3           1.1030          221.46m\n",
      "         4           1.0559          213.15m\n",
      "         5           1.0163          205.52m\n",
      "         6           0.9828          199.73m\n",
      "         7           0.9543          196.49m\n",
      "         8           0.9301          193.66m\n",
      "         9           0.9090          191.01m\n",
      "        10           0.8905          188.35m\n",
      "        20           0.7988          164.16m\n",
      "        30           0.7723          149.26m\n",
      "        40           0.7625          139.60m\n",
      "        50           0.7575          128.79m\n",
      "        60           0.7551          118.54m\n",
      "        70           0.7536          109.15m\n",
      "        80           0.7524           99.62m\n",
      "        90           0.7517           90.32m\n",
      "       100           0.7509           80.98m\n",
      "       200           0.7468            0.00s\n"
     ]
    }
   ],
   "source": [
    "cls_c4 = SKLearnClassifier(\n",
    "    name=\"c4\",\n",
    "    variables=[\"Jet_CSV\", \"Jet_CSVIVF\", \"Jet_JP\", \"Jet_JBP\", \"Jet_SoftMu\", \"Jet_SoftEl\"],\n",
    "    weight=\"w\",\n",
    "    ntrees=200, label=\"label\"\n",
    ")\n",
    "cls_c4.add_data(d_training_shuf[d_training_shuf[\"id\"] == 2], \"b\")\n",
    "cls_c4.add_data(d_training_shuf[d_training_shuf[\"id\"] == 0], \"udsg\")\n",
    "cls_c4.add_data(d_training_shuf[d_training_shuf[\"id\"] == 1], \"c\")\n",
    "\n",
    "cls_c4.prepare()\n",
    "cls_c4.train()"
   ]
  },
  {
   "cell_type": "markdown",
   "metadata": {},
   "source": [
    "## Classifier C5"
   ]
  },
  {
   "cell_type": "markdown",
   "metadata": {},
   "source": [
    "As before, but train on the first 50k rows from each category."
   ]
  },
  {
   "cell_type": "code",
   "execution_count": 39,
   "metadata": {
    "collapsed": false
   },
   "outputs": [
    {
     "name": "stdout",
     "output_type": "stream",
     "text": [
      "      Iter       Train Loss   Remaining Time \n",
      "         1           1.1895            2.22m\n",
      "         2           1.1240            2.00m\n",
      "         3           1.0711            1.92m\n",
      "         4           1.0275            1.88m\n",
      "         5           0.9910            1.87m\n",
      "         6           0.9604            1.86m\n",
      "         7           0.9341            1.84m\n",
      "         8           0.9120            1.82m\n",
      "         9           0.8927            1.80m\n",
      "        10           0.8765            1.79m\n",
      "        20           0.7929            1.72m\n",
      "        30           0.7686            1.64m\n",
      "        40           0.7596            1.55m\n",
      "        50           0.7550            1.46m\n",
      "        60           0.7524            1.36m\n",
      "        70           0.7507            1.26m\n",
      "        80           0.7495            1.17m\n",
      "        90           0.7483            1.06m\n",
      "       100           0.7470           57.59s\n",
      "       200           0.7410            0.00s\n"
     ]
    }
   ],
   "source": [
    "cls_c5 = SKLearnClassifier(\n",
    "    name=\"c5\",\n",
    "    data_name=\"ttjets\",\n",
    "    variables=[\"Jet_CSV\", \"Jet_CSVIVF\", \"Jet_JP\", \"Jet_JBP\", \"Jet_SoftMu\", \"Jet_SoftEl\"],\n",
    "    weight=\"w\",\n",
    "    ntrees=200, label=\"label\"\n",
    ")\n",
    "cls_c5.add_data(d_training_shuf[d_training_shuf[\"id\"] == 2][:50000], \"b\")\n",
    "cls_c5.add_data(d_training_shuf[d_training_shuf[\"id\"] == 0][:50000], \"udsg\")\n",
    "cls_c5.add_data(d_training_shuf[d_training_shuf[\"id\"] == 1][:50000], \"c\")\n",
    "\n",
    "cls_c5.prepare()\n",
    "cls_c5.train()"
   ]
  },
  {
   "cell_type": "markdown",
   "metadata": {},
   "source": [
    "# Validation"
   ]
  },
  {
   "cell_type": "markdown",
   "metadata": {},
   "source": [
    "Now we separate test and training datasets as matrices."
   ]
  },
  {
   "cell_type": "code",
   "execution_count": 40,
   "metadata": {
    "collapsed": false
   },
   "outputs": [],
   "source": [
    "X_test = d_testing[cls_c4.variables]\n",
    "y_test = d_testing[\"id\"]\n",
    "\n",
    "X_train = d_training[cls_c4.variables]\n",
    "y_train = d_training[\"id\"]"
   ]
  },
  {
   "cell_type": "markdown",
   "metadata": {},
   "source": [
    "Now we calculate the loss function of the classifier on each stage of training."
   ]
  },
  {
   "cell_type": "code",
   "execution_count": 41,
   "metadata": {
    "collapsed": true
   },
   "outputs": [],
   "source": [
    "test_score = np.zeros((cls_c4.cls.n_estimators, ), dtype=np.float64)\n",
    "\n",
    "for i, y_pred in enumerate(cls_c4.cls.staged_decision_function(X_test)):\n",
    "    test_score[i] = cls_c4.cls.loss_(y_test, y_pred)"
   ]
  },
  {
   "cell_type": "code",
   "execution_count": 42,
   "metadata": {
    "collapsed": true
   },
   "outputs": [],
   "source": [
    "train_score = np.zeros((cls_c4.cls.n_estimators, ), dtype=np.float64)\n",
    "\n",
    "for i, y_pred in enumerate(cls_c4.cls.staged_decision_function(X_train)):\n",
    "    train_score[i] = cls_c4.cls.loss_(y_train, y_pred)"
   ]
  },
  {
   "cell_type": "markdown",
   "metadata": {},
   "source": [
    "We see that the loss function decreases (becomes better) upon more boosting iterations."
   ]
  },
  {
   "cell_type": "code",
   "execution_count": 187,
   "metadata": {
    "collapsed": false
   },
   "outputs": [
    {
     "data": {
      "image/png": "[encoded data removed]",
      "text/plain": [
       "<matplotlib.figure.Figure at 0x7f152d9e0fd0>"
      ]
     },
     "metadata": {},
     "output_type": "display_data"
    }
   ],
   "source": [
    "plt.plot(test_score, label=\"test\")\n",
    "plt.plot(train_score, label=\"train\")\n",
    "plt.legend(loc=\"best\")\n",
    "plt.xlabel(\"boosting step\", fontsize=16)\n",
    "plt.ylabel(\"loss function\", fontsize=16)\n",
    "plt.savefig(\"loss_test_train.pdf\")"
   ]
  },
  {
   "cell_type": "code",
   "execution_count": 188,
   "metadata": {
    "collapsed": false
   },
   "outputs": [
    {
     "data": {
      "image/png": "[encoded data removed]",
      "text/plain": [
       "<matplotlib.figure.Figure at 0x7f152d5a2550>"
      ]
     },
     "metadata": {},
     "output_type": "display_data"
    }
   ],
   "source": [
    "plt.plot(train_score - test_score)\n",
    "#plt.yscale(\"log\")\n",
    "plt.ylabel(\"$L_{train} - L_{test}$\", fontsize=16)\n",
    "plt.xlabel(\"boosting step\", fontsize=16)\n",
    "plt.grid()\n",
    "plt.savefig(\"lossdif_test_train.pdf\")"
   ]
  },
  {
   "cell_type": "code",
   "execution_count": 99,
   "metadata": {
    "collapsed": false
   },
   "outputs": [],
   "source": [
    "def calc_roc(h1, h2):\n",
    "    h1 = h1.Clone()\n",
    "    h2 = h2.Clone()\n",
    "    h1.Scale(1.0 / h1.Integral())\n",
    "    h2.Scale(1.0 / h2.Integral())\n",
    "    roc = np.zeros((h1.GetNbinsX()+2, 2))\n",
    "    err = np.zeros((h1.GetNbinsX()+2, 2))\n",
    "    e1 = ROOT.Double(0)\n",
    "    e2 = ROOT.Double(0)\n",
    "    for i in range(0, h1.GetNbinsX()+2):\n",
    "        I1 = h1.Integral(0, h1.GetNbinsX())\n",
    "        I2 = h2.Integral(0, h2.GetNbinsX())\n",
    "        if I1>0 and I2>0:\n",
    "            roc[i, 0] = float(h1.IntegralAndError(i, h1.GetNbinsX()+2, e1)) / I1\n",
    "            roc[i, 1] = float(h2.IntegralAndError(i, h1.GetNbinsX()+2, e2)) / I2\n",
    "            err[i, 0] = e1\n",
    "            err[i, 1] = e2\n",
    "    return roc, err\n",
    "def draw_rocs(pairs, **kwargs):\n",
    "    rebin = kwargs.get(\"rebin\", 1) \n",
    "    rs = []\n",
    "    es = []\n",
    "    for pair in pairs:\n",
    "        h1, h2, label, pl_args = pair\n",
    "        h1.rebin(rebin)\n",
    "        h2.rebin(rebin)\n",
    "        r, e = calc_roc(h1, h2)\n",
    "        rs += [r]\n",
    "        es += [e]\n",
    "\n",
    "    ret = []\n",
    "    for (r, e, pair) in zip(rs, es, pairs):\n",
    "        h1, h2, label, pl_args = pair\n",
    "        c1 = rootpy.asrootpy(h1.GetCumulative())\n",
    "        c2 = rootpy.asrootpy(h2.GetCumulative())\n",
    "        c1.Scale(1.0 / h1.Integral())\n",
    "        c2.Scale(1.0 / h2.Integral())\n",
    "        bx = list(c1.y())\n",
    "        by = list(c2.y())\n",
    "        a = 1.0 - sklearn.metrics.auc(bx, by)\n",
    "        #plt.errorbar(r[:, 0], r[:, 1], e[:, 0], e[:, 1], label=label)\n",
    "        r = plt.plot(r[:, 0], r[:, 1], label=label, **pl_args)\n",
    "        ret += [r]\n",
    "    return ret\n",
    "    plt.legend(loc=2)"
   ]
  },
  {
   "cell_type": "markdown",
   "metadata": {},
   "source": [
    "### Performance in $t\\bar{t}$ + jets."
   ]
  },
  {
   "cell_type": "code",
   "execution_count": null,
   "metadata": {
    "collapsed": false
   },
   "outputs": [],
   "source": [
    "md = {\"b\":d_testing[d_testing[\"id\"]==2], \"l\":d_testing[d_testing[\"id\"]==0], \"c\":d_testing[d_testing[\"id\"]==1]}\n",
    "md_tr = {\"b\":d_training[d_training[\"id\"]==2], \"l\":d_training[d_training[\"id\"]==0], \"c\":d_training[d_training[\"id\"]==1]}\n",
    "\n",
    "h01 = cls_c1.hists((250,0,1), md, lambda d: d[\"Jet_CSV\"].as_matrix(), lambda d: d[\"w\"].as_matrix())\n",
    "h02 = cls_c1.hists((250,0,1), md, lambda d: d[\"Jet_CSVIVF\"].as_matrix(), lambda d: d[\"w\"].as_matrix())\n",
    "#h03 = cls_c1.hists((250,0,1), md, lambda d: d[\"Jet_CombMVA\"].as_matrix(), lambda d: d[\"w\"].as_matrix())\n",
    "h04 = cls_c1.hists((250,0,1), md, lambda d: d[\"Jet_CombMVANEW\"].as_matrix(), lambda d: d[\"w\"].as_matrix())\n",
    "h05 = cls_c1.hists((250,-1,1), md, lambda d: d[\"Jet_CombMVAETH\"].as_matrix(), lambda d: d[\"w\"].as_matrix())\n",
    "\n",
    "ha = cls_ca.hists_cls((250,-1,1), md)\n",
    "h0 = cls_c0.hists_cls((250,-1,1), md)\n",
    "h1 = cls_c1.hists_cls((250,-1,1), md)\n",
    "h2 = cls_c2.hists_cls((250,-1,1), md)\n",
    "h3 = cls_c3.hists_cls((250,-1,1), md)\n",
    "h4 = cls_c4.hists_cls((250,-1,1), md)\n",
    "h5 = cls_c5.hists_cls((250,-1,1), md)"
   ]
  },
  {
   "cell_type": "code",
   "execution_count": null,
   "metadata": {
    "collapsed": false
   },
   "outputs": [],
   "source": [
    "#h_ts = cls_c1.hists((250,-1,1), lambda d: d[\"Jet_CombMVAETH\"].as_matrix(), lambda d: d[\"w\"].as_matrix(), md)\n",
    "#h_tr = cls_c1.hists((250,-1,1), lambda d: d[\"Jet_CombMVAETH\"].as_matrix(), lambda d: d[\"w\"].as_matrix(), md_tr)\n",
    "\n",
    "h_ts = cls_c4.hists_cls((100,-1,1), md)\n",
    "h_tr = cls_c4.hists_cls((100,-1,1), md_tr)"
   ]
  },
  {
   "cell_type": "markdown",
   "metadata": {},
   "source": [
    "We compare the test and training performances."
   ]
  },
  {
   "cell_type": "code",
   "execution_count": null,
   "metadata": {
    "collapsed": false
   },
   "outputs": [],
   "source": [
    "plt.figure(figsize=(6,6))\n",
    "ax = plt.axes()\n",
    "plt.grid()\n",
    "r = draw_rocs([\n",
    "    (h_ts[\"b\"], h_ts[\"l\"], \"testing\", {\"color\":\"red\"}),\n",
    "    (h_tr[\"b\"], h_tr[\"l\"], \"training\", {\"color\":\"green\", \"ls\": \"--\"}),\n",
    "])\n",
    "\n",
    "plt.legend(loc=4)\n",
    "r = draw_rocs([\n",
    "    (h_ts[\"b\"], h_ts[\"c\"], \"testing\", {\"color\":\"red\"}),\n",
    "    (h_tr[\"b\"], h_tr[\"c\"], \"training\", {\"color\":\"green\", \"ls\": \"--\"}),\n",
    "])\n",
    "\n",
    "plt.yscale(\"log\")\n",
    "\n",
    "a = [0.5, 1.0]\n",
    "a = [0.001, 0.005, 0.01, 0.05, 0.1] + list(a)\n",
    "plt.yticks(a, a)\n",
    "plt.xlim(0.4,1.0)\n",
    "plt.ylim(0.001,1.0)\n",
    "plt.axhline(0.01, color=\"black\", ls=\"--\")\n",
    "plt.axhline(0.1, color=\"black\", ls=\"--\")\n",
    "\n",
    "plt.xticks(np.linspace(0.4,1.0,7), fontsize=16)\n",
    "plt.ylabel(\"udsg(c)-jet efficiency\", fontsize=16)\n",
    "plt.xlabel(\"b jet efficiency\", fontsize=16)\n",
    "plt.title(u\"cMVA performance in $t\\\\bar{t}$+jets\", fontsize=14)\n",
    "ax.set_yticklabels(\n",
    "    [\"$10^{-3}$\", \"$5 \\\\times 10^{-3}$\", \"$10^{-2}$\", \"$5 \\\\times 10^{-2}$\", \"$10^{-1}$\", \"$5 \\\\times 10^{-1}$\", \"$1$\"],\n",
    "    fontsize=16\n",
    ")\n",
    "plt.savefig(\"cmva_test_training_perf_roc_ttjets.pdf\")"
   ]
  },
  {
   "cell_type": "markdown",
   "metadata": {},
   "source": [
    "Here we compare the shapes of the test and training distributions."
   ]
  },
  {
   "cell_type": "code",
   "execution_count": null,
   "metadata": {
    "collapsed": false
   },
   "outputs": [],
   "source": [
    "for k in [\"b\", \"c\", \"l\"]:\n",
    "    h_ts[k].Rebin(5)\n",
    "    h_tr[k].Rebin(5)\n",
    "    h_ts[k].Divide(h_tr[k])\n",
    "    \n",
    "h_ts[\"b\"].color = \"red\"\n",
    "h_ts[\"c\"].color = \"blue\"\n",
    "h_ts[\"l\"].color = \"green\""
   ]
  },
  {
   "cell_type": "code",
   "execution_count": null,
   "metadata": {
    "collapsed": false
   },
   "outputs": [],
   "source": [
    "plt.figure(figsize=(6,6))\n",
    "rplt.errorbar(h_ts[\"b\"], label=\"b-jets\")\n",
    "rplt.errorbar(h_ts[\"c\"], label=\"charm jets\")\n",
    "rplt.errorbar(h_ts[\"l\"], label=\"light jets\")\n",
    "\n",
    "plt.ylim(0.8,1.2)\n",
    "plt.axhline(1.0, color=\"black\")\n",
    "plt.grid()\n",
    "plt.xlabel(\"cMVA v2\", fontsize=16)\n",
    "plt.ylabel(\"test/train ratio\", fontsize=16)\n",
    "plt.legend(numpoints=1)\n",
    "plt.savefig(\"cmva_test_training_shape.pdf\")"
   ]
  },
  {
   "cell_type": "code",
   "execution_count": null,
   "metadata": {
    "collapsed": false,
    "scrolled": false
   },
   "outputs": [],
   "source": [
    "plt.figure(figsize=(10,10))\n",
    "ax = plt.axes()\n",
    "plt.grid()\n",
    "r = draw_rocs([\n",
    "    #(h01[\"b\"], h01[\"l\"], \"AVR\", {\"color\":\"red\"}),\n",
    "    (h02[\"b\"], h02[\"l\"], \"IVF\", {\"color\":\"red\"}),\n",
    "    #(h04[\"b\"], h04[\"l\"], \"cMVA\", {\"color\":\"orange\", \"lw\":2}),\n",
    "    (h05[\"b\"], h05[\"l\"], \"cMVA V2\", {\"color\":\"darkblue\", \"lw\":2, \"ls\":\"--\"}),\n",
    "    #(h04[\"b\"], h04[\"l\"], \"tmva\", {\"color\":\"orange\"}),\n",
    "    (ha[\"b\"], ha[\"l\"], \"IVF bdt\", {\"color\": \"darkred\", \"lw\":1}),\n",
    "    (h0[\"b\"], h0[\"l\"], \"IVF+SoftLep\", {\"color\": \"green\", \"lw\":1}),\n",
    "    (h1[\"b\"], h1[\"l\"], \"IVF+JP+SoftLep\", {\"color\": \"grey\", \"lw\":1}),\n",
    "    (h2[\"b\"], h2[\"l\"], \"IVF+AVR+JP+SoftLep\", {\"color\": \"black\", \"lw\":1}),\n",
    "    (h3[\"b\"], h3[\"l\"], \"IVF+AVR+JP+JBP+SoftLep\", {\"color\": \"purple\", \"lw\":1}),\n",
    "    (h4[\"b\"], h4[\"l\"], \"retraining\", {\"color\": \"cyan\", \"lw\":1}),\n",
    "    #(h5[\"b\"], h5[\"l\"], \"c5\", {\"color\": \"gray\", \"lw\":1}),\n",
    "])\n",
    "\n",
    "plt.legend(loc=\"best\")\n",
    "r = draw_rocs([\n",
    "    #(h01[\"b\"], h01[\"c\"], \"AVR\", {\"color\":\"red\"}),\n",
    "    (h02[\"b\"], h02[\"c\"], \"IVF\", {\"color\":\"red\"}),\n",
    "    #(h04[\"b\"], h04[\"c\"], \"cMVA\", {\"color\":\"orange\", \"lw\":2}),\n",
    "    (h05[\"b\"], h05[\"c\"], \"cMVA V2\", {\"color\":\"darkblue\", \"lw\":2, \"ls\":\"--\"}),\n",
    "    #(h04[\"b\"], h04[\"c\"], \"tmva\", {\"color\":\"orange\"}),\n",
    "    (ha[\"b\"], ha[\"c\"], \"IVF bdt\", {\"color\": \"darkred\", \"lw\":1}),\n",
    "    (h0[\"b\"], h0[\"c\"], \"IVF+SoftLep\", {\"color\": \"green\", \"lw\":1}),\n",
    "    (h1[\"b\"], h1[\"c\"], \"IVF+JP+SoftLep\", {\"color\": \"grey\", \"lw\":1}),\n",
    "    (h2[\"b\"], h2[\"c\"], \"IVF+AVR+JP+SoftEl\", {\"color\": \"black\", \"lw\":1}),\n",
    "    (h3[\"b\"], h3[\"c\"], \"IVF+AVR+JP+JBP+SoftEl\", {\"color\": \"purple\", \"lw\":1}),\n",
    "    (h4[\"b\"], h4[\"c\"], \"retraining\", {\"color\": \"cyan\", \"lw\":1}),\n",
    "    #(h5[\"b\"], h5[\"c\"], \"c5\", {\"color\": \"gray\", \"lw\":1}),\n",
    "])\n",
    "\n",
    "plt.yscale(\"log\")\n",
    "\n",
    "a = [0.5, 1.0]\n",
    "a = [0.001, 0.005, 0.01, 0.05, 0.1] + list(a)\n",
    "plt.yticks(a, a)\n",
    "plt.xlim(0.4,1.0)\n",
    "plt.ylim(0.001,1.0)\n",
    "plt.axhline(0.01, color=\"black\", ls=\"--\")\n",
    "plt.axhline(0.1, color=\"black\", ls=\"--\")\n",
    "\n",
    "plt.xticks(np.linspace(0.4,1.0,7), fontsize=16)\n",
    "plt.ylabel(\"udsg(c)-jet efficiency\", fontsize=16)\n",
    "plt.xlabel(\"b jet efficiency\", fontsize=16)\n",
    "plt.title(u\"cMVA performance in $t\\\\bar{t}$+jets\", fontsize=14)\n",
    "ax.set_yticklabels(\n",
    "    [\"$10^{-3}$\", \"$5 \\\\times 10^{-3}$\", \"$10^{-2}$\", \"$5 \\\\times 10^{-2}$\", \"$10^{-1}$\", \"$5 \\\\times 10^{-1}$\", \"$1$\"],\n",
    "    fontsize=16\n",
    ")\n",
    "plt.savefig(\"mva_separate_trainings_ttjets.pdf\")"
   ]
  },
  {
   "cell_type": "code",
   "execution_count": null,
   "metadata": {
    "collapsed": false
   },
   "outputs": [],
   "source": [
    "plt.figure(figsize=(6,6))\n",
    "ax = plt.axes()\n",
    "plt.grid()\n",
    "r = draw_rocs([\n",
    "    #(h01[\"b\"], h01[\"l\"], \"AVR\", {\"color\":\"red\"}),\n",
    "    #(h02[\"b\"], h02[\"l\"], \"IVF\", {\"color\":\"red\"}),\n",
    "    (h04[\"b\"], h04[\"l\"], \"cMVA\", {\"color\":\"orange\"}),\n",
    "    (h05[\"b\"], h05[\"l\"], \"cMVA V2\", {\"color\":\"darkblue\", \"lw\":2, \"ls\":\"--\"}),\n",
    "    #(h04[\"b\"], h04[\"l\"], \"tmva\", {\"color\":\"orange\"}),\n",
    "    #(ha[\"b\"], ha[\"l\"], \"IVF bdt\", {\"color\": \"darkred\", \"lw\":1}),\n",
    "    #(h0[\"b\"], h0[\"l\"], \"IVF+SoftLep\", {\"color\": \"green\", \"lw\":1}),\n",
    "    #(h1[\"b\"], h1[\"l\"], \"IVF+JP+SoftLep\", {\"color\": \"grey\", \"lw\":1}),\n",
    "    #(h2[\"b\"], h2[\"l\"], \"IVF+AVR+JP+SoftLep\", {\"color\": \"black\", \"lw\":1}),\n",
    "    #(h3[\"b\"], h3[\"l\"], \"IVF+AVR+JP+JBP+SoftLep\", {\"color\": \"purple\", \"lw\":1}),\n",
    "    #(h4[\"b\"], h4[\"l\"], \"retraining\", {\"color\": \"cyan\", \"lw\":1}),\n",
    "    #(h5[\"b\"], h5[\"l\"], \"c5\", {\"color\": \"gray\", \"lw\":1}),\n",
    "])\n",
    "\n",
    "plt.legend(loc=\"best\")\n",
    "r = draw_rocs([\n",
    "    #(h01[\"b\"], h01[\"c\"], \"AVR\", {\"color\":\"red\"}),\n",
    "    #(h02[\"b\"], h02[\"c\"], \"IVF\", {\"color\":\"red\"}),\n",
    "    (h04[\"b\"], h04[\"c\"], \"cMVA\", {\"color\":\"orange\"}),\n",
    "    (h05[\"b\"], h05[\"c\"], \"cMVA V2\", {\"color\":\"darkblue\", \"lw\":2, \"ls\":\"--\"}),\n",
    "    #(h04[\"b\"], h04[\"c\"], \"tmva\", {\"color\":\"orange\"}),\n",
    "    #(ha[\"b\"], ha[\"c\"], \"IVF bdt\", {\"color\": \"darkred\", \"lw\":1}),\n",
    "    #(h0[\"b\"], h0[\"c\"], \"IVF+SoftLep\", {\"color\": \"green\", \"lw\":1}),\n",
    "    #(h1[\"b\"], h1[\"c\"], \"IVF+JP+SoftLep\", {\"color\": \"grey\", \"lw\":1}),\n",
    "    #(h2[\"b\"], h2[\"c\"], \"IVF+AVR+JP+SoftEl\", {\"color\": \"black\", \"lw\":1}),\n",
    "    #(h3[\"b\"], h3[\"c\"], \"IVF+AVR+JP+JBP+SoftEl\", {\"color\": \"purple\", \"lw\":1}),\n",
    "    #(h4[\"b\"], h4[\"c\"], \"retraining\", {\"color\": \"cyan\", \"lw\":1}),\n",
    "    #(h5[\"b\"], h5[\"c\"], \"c5\", {\"color\": \"gray\", \"lw\":1}),\n",
    "])\n",
    "\n",
    "plt.yscale(\"log\")\n",
    "\n",
    "a = [0.5, 1.0]\n",
    "a = [0.001, 0.005, 0.01, 0.05, 0.1] + list(a)\n",
    "plt.yticks(a, a)\n",
    "plt.xlim(0.4,1.0)\n",
    "plt.ylim(0.001,1.0)\n",
    "plt.axhline(0.01, color=\"black\", ls=\"--\")\n",
    "plt.axhline(0.1, color=\"black\", ls=\"--\")\n",
    "\n",
    "plt.xticks(np.linspace(0.4,1.0,7), fontsize=16)\n",
    "plt.ylabel(\"udsg(c)-jet efficiency\", fontsize=16)\n",
    "plt.xlabel(\"b jet efficiency\", fontsize=16)\n",
    "plt.title(u\"cMVA performance in $t\\\\bar{t}$+jets\", fontsize=14)\n",
    "ax.set_yticklabels(\n",
    "    [\"$10^{-3}$\", \"$5 \\\\times 10^{-3}$\", \"$10^{-2}$\", \"$5 \\\\times 10^{-2}$\", \"$10^{-1}$\", \"$5 \\\\times 10^{-1}$\", \"$1$\"],\n",
    "    fontsize=16\n",
    ")\n",
    "plt.savefig(\"cmva_vs_cmvav2_roc_perf_ttjets.pdf\")"
   ]
  },
  {
   "cell_type": "markdown",
   "metadata": {},
   "source": [
    "### Performance in QCD"
   ]
  },
  {
   "cell_type": "code",
   "execution_count": null,
   "metadata": {
    "collapsed": true
   },
   "outputs": [],
   "source": [
    "md = {\"b\":d_qcd[d_qcd[\"id\"]==2], \"l\":d_qcd[d_qcd[\"id\"]==0], \"c\":d_qcd[d_qcd[\"id\"]==1]}\n",
    "h01_qcd = cls_c1.hists((250,0,1), md, lambda d: d[\"Jet_CSV\"].as_matrix(), lambda d: d[\"w\"].as_matrix())\n",
    "h02_qcd = cls_c1.hists((250,0,1), md, lambda d: d[\"Jet_CSVIVF\"].as_matrix(), lambda d: d[\"w\"].as_matrix())\n",
    "h03_qcd = cls_c1.hists((250,0,1), md, lambda d: d[\"Jet_CombMVA\"].as_matrix(), lambda d: d[\"w\"].as_matrix())\n",
    "h04_qcd = cls_c1.hists((250,0,1), md, lambda d: d[\"Jet_CombMVANEW\"].as_matrix(), lambda d: d[\"w\"].as_matrix())\n",
    "h05_qcd = cls_c1.hists((250,-1,1), md, lambda d: d[\"Jet_CombMVAETH\"].as_matrix(), lambda d: d[\"w\"].as_matrix())\n",
    "\n",
    "#h04 = cls_c3.hists((100,0,1), lambda d: d[\"tmva\"].as_matrix(), md)\n",
    "\n",
    "#h2 = cls_c3.hists_cls((100,0,1), {\"b\":d_training[d_training[\"id\"]==2], \"l\":d_training[d_training[\"id\"]!=2]})\n",
    "h1_qcd = cls_c1.hists_cls((250,-1,1), md)\n",
    "h2_qcd = cls_c2.hists_cls((250,-1,1), md)\n",
    "h3_qcd = cls_c3.hists_cls((250,-1,1), md)\n",
    "h4_qcd = cls_c4.hists_cls((250,-1,1), md)\n"
   ]
  },
  {
   "cell_type": "code",
   "execution_count": null,
   "metadata": {
    "collapsed": false
   },
   "outputs": [],
   "source": [
    "plt.figure(figsize=(6,6))\n",
    "ax = plt.axes()\n",
    "plt.grid()\n",
    "r = draw_rocs([\n",
    "    #(h01_qcd[\"b\"], h01_qcd[\"l\"], \"AVR\", {\"color\":\"red\"}),\n",
    "    #(h02_qcd[\"b\"], h02_qcd[\"l\"], \"IVF\", {\"color\":\"green\"}),\n",
    "    (h04_qcd[\"b\"], h04_qcd[\"l\"], \"cMVA\", {\"color\":\"orange\", \"lw\":2}),\n",
    "    (h05_qcd[\"b\"], h05_qcd[\"l\"], \"cMVA v2\", {\"color\":\"darkblue\", \"lw\":2, \"ls\":\"--\"}),\n",
    "    #(h04[\"b\"], h04[\"l\"], \"tmva\", {\"color\":\"orange\"}),\n",
    "    #(h1[\"b\"], h1[\"l\"], \"c1\", {\"color\": \"grey\", \"lw\":1}),\n",
    "    #(h2[\"b\"], h2[\"l\"], \"c2\", {\"color\": \"black\", \"lw\":1}),\n",
    "    #(h3[\"b\"], h3[\"l\"], \"cMVA (scikit-learn)\", {\"color\": \"purple\", \"lw\":1}),\n",
    "    #(h4[\"b\"], h4[\"l\"], \"c4\", {\"color\": \"cyan\", \"lw\":1}),\n",
    "])\n",
    "\n",
    "plt.legend(loc=4)\n",
    "r = draw_rocs([\n",
    "    #(h01_qcd[\"b\"], h01_qcd[\"c\"], \"AVR\", {\"color\":\"red\"}),\n",
    "    #(h02_qcd[\"b\"], h02_qcd[\"c\"], \"IVF\", {\"color\":\"green\"}),\n",
    "    (h04_qcd[\"b\"], h04_qcd[\"c\"], \"cMVA\", {\"color\":\"orange\", \"lw\":2}),\n",
    "    (h05_qcd[\"b\"], h05_qcd[\"c\"], \"cMVA v2\", {\"color\":\"darkblue\", \"lw\":2, \"ls\":\"--\"}),\n",
    "    #(h04[\"b\"], h04[\"c\"], \"tmva\", {\"color\":\"orange\"}),\n",
    "    #(h1[\"b\"], h1[\"c\"], \"c1\", {\"color\": \"grey\", \"lw\":1}),\n",
    "    #(h2[\"b\"], h2[\"c\"], \"c2\", {\"color\": \"black\", \"lw\":1}),\n",
    "    #(h3_qcd[\"b\"], h3_qcd[\"c\"], \"cMVA (scikit-learn)\", {\"color\": \"purple\", \"lw\":1}),\n",
    "    #(h4[\"b\"], h4[\"c\"], \"c4\", {\"color\": \"cyan\", \"lw\":1}),\n",
    "])\n",
    "\n",
    "plt.yscale(\"log\")\n",
    "\n",
    "a = [0.5, 1.0]\n",
    "a = [0.001, 0.005, 0.01, 0.05, 0.1] + list(a)\n",
    "plt.yticks(a, a)\n",
    "plt.xlim(0.4,1.0)\n",
    "plt.ylim(0.001,1.0)\n",
    "plt.axhline(0.01, color=\"black\", ls=\"--\")\n",
    "plt.axhline(0.1, color=\"black\", ls=\"--\")\n",
    "\n",
    "plt.xticks(np.linspace(0.4,1.0,7), fontsize=16)\n",
    "plt.ylabel(\"udsg(c)-jet efficiency\", fontsize=16)\n",
    "plt.xlabel(\"b jet efficiency\", fontsize=16)\n",
    "plt.title(u\"cMVA performance in QCD\", fontsize=14)\n",
    "ax.set_yticklabels(\n",
    "    [\"$10^{-3}$\", \"$5 \\\\times 10^{-3}$\", \"$10^{-2}$\", \"$5 \\\\times 10^{-2}$\", \"$10^{-1}$\", \"$5 \\\\times 10^{-1}$\", \"$1$\"],\n",
    "    fontsize=16\n",
    ")\n",
    "plt.savefig(\"cmva_vs_cmvav2_roc_perf_qcd.pdf\")"
   ]
  },
  {
   "cell_type": "markdown",
   "metadata": {},
   "source": [
    "### BDT distributions."
   ]
  },
  {
   "cell_type": "code",
   "execution_count": null,
   "metadata": {
    "collapsed": false,
    "scrolled": false
   },
   "outputs": [],
   "source": [
    "def plot_distributions(h1, h2, h3, rebin=1):\n",
    "    plt.figure(figsize=(6,6))\n",
    "    plt.grid()\n",
    "    h1 = h1.Clone()\n",
    "    h2 = h2.Clone()\n",
    "    h3 = h3.Clone()\n",
    "    for h in [h1, h2, h3]:\n",
    "        h.Scale(1.0 / h.Integral())\n",
    "        h.Rebin(rebin)\n",
    "    h1.color = \"red\"\n",
    "    h2.color = \"blue\"\n",
    "    h3.color = \"green\"\n",
    "\n",
    "    rplt.errorbar(h1, label=\"b\", lw=1)\n",
    "    rplt.errorbar(h2, label=\"c\", lw=1)\n",
    "    rplt.errorbar(h3, label=\"l\", lw=1)\n",
    "    plt.legend(loc=\"best\")\n",
    "    rplt.hist(h1, label=\"b\", lw=2)\n",
    "    rplt.hist(h2, label=\"c\", lw=2)\n",
    "    rplt.hist(h3, label=\"l\", lw=2)\n"
   ]
  },
  {
   "cell_type": "code",
   "execution_count": null,
   "metadata": {
    "collapsed": false
   },
   "outputs": [],
   "source": [
    "plot_distributions(h01[\"b\"], h01[\"c\"], h01[\"l\"], rebin=5)"
   ]
  },
  {
   "cell_type": "code",
   "execution_count": null,
   "metadata": {
    "collapsed": false
   },
   "outputs": [],
   "source": [
    "plot_distributions(h02[\"b\"], h02[\"c\"], h02[\"l\"], rebin=5)"
   ]
  },
  {
   "cell_type": "code",
   "execution_count": null,
   "metadata": {
    "collapsed": false
   },
   "outputs": [],
   "source": [
    "plot_distributions(h03[\"b\"], h03[\"c\"], h03[\"l\"], rebin=5)\n",
    "plt.yscale(\"log\")\n",
    "plt.ylim(0.0001, 1.0)\n",
    "plt.xlabel(\"cMVA\")"
   ]
  },
  {
   "cell_type": "code",
   "execution_count": null,
   "metadata": {
    "collapsed": false
   },
   "outputs": [],
   "source": [
    "plot_distributions(h05[\"b\"], h05[\"c\"], h05[\"l\"], rebin=5)\n",
    "plt.yscale(\"log\")\n",
    "plt.ylim(0.0001, 1.0)\n",
    "plt.xlabel(\"cMVA v2\")"
   ]
  },
  {
   "cell_type": "code",
   "execution_count": null,
   "metadata": {
    "collapsed": false
   },
   "outputs": [],
   "source": [
    "plot_distributions(h1[\"b\"], h1[\"c\"], h1[\"l\"], rebin=10)\n",
    "plt.yscale(\"log\")\n",
    "plt.ylim(0.0001, 1.0)"
   ]
  },
  {
   "cell_type": "code",
   "execution_count": null,
   "metadata": {
    "collapsed": false
   },
   "outputs": [],
   "source": [
    "plot_distributions(h2[\"b\"], h2[\"c\"], h2[\"l\"], rebin=5)\n",
    "plt.yscale(\"log\")\n",
    "plt.ylim(0.0001, 1.0)"
   ]
  },
  {
   "cell_type": "code",
   "execution_count": null,
   "metadata": {
    "collapsed": false
   },
   "outputs": [],
   "source": [
    "plot_distributions(h3[\"b\"], h3[\"c\"], h3[\"l\"], rebin=5)\n",
    "plt.yscale(\"log\")\n",
    "plt.ylim(0.0001, 1.0)"
   ]
  },
  {
   "cell_type": "code",
   "execution_count": null,
   "metadata": {
    "collapsed": false
   },
   "outputs": [],
   "source": [
    "plot_distributions(h4[\"b\"], h4[\"c\"], h4[\"l\"], rebin=5)\n",
    "plt.yscale(\"log\")\n",
    "plt.ylim(0.0001, 1.0)"
   ]
  },
  {
   "cell_type": "code",
   "execution_count": null,
   "metadata": {
    "collapsed": true
   },
   "outputs": [],
   "source": [
    "def get_eff_at(a, b, x):\n",
    "    idx = a.searchsorted(x)\n",
    "    return b[idx]"
   ]
  },
  {
   "cell_type": "code",
   "execution_count": null,
   "metadata": {
    "collapsed": false
   },
   "outputs": [],
   "source": [
    "def cls_ds_metrics(clss, d1, d2):\n",
    "    \n",
    "    hists = {}\n",
    "    for cls in clss:\n",
    "        ca = cum(cls.evaluate(d1))\n",
    "        cb = cum(cls.evaluate(d2))\n",
    "        hists[cls.name] = (ca, cb)\n",
    "\n",
    "    for v in [\"Jet_CSV\", \"Jet_CSVIVF\", \"Jet_CombMVANEW\", \"Jet_CombMVAETH\"]:\n",
    "        ca = cum(d1[v])\n",
    "        cb = cum(d2[v])\n",
    "        hists[v] = (ca, cb)\n",
    "    ret = {}\n",
    "    for v in hists.keys():\n",
    "        ret[v] = {}\n",
    "        ret[v][\"AUC\"] = 1.0 - metrics.auc(hists[v][0], hists[v][1])\n",
    "        ret[v][\"e50\"] = 1.0 - get_eff_at(hists[v][0], hists[v][1], 1.0 - 0.5)\n",
    "        ret[v][\"e90\"] = 1.0 - get_eff_at(hists[v][0], hists[v][1], 1.0 - 0.9)\n",
    "\n",
    "        ret[v][\"f0.01\"] = 1.0 - get_eff_at(hists[v][1], hists[v][0], 1.0 - 0.01)\n",
    "        ret[v][\"f0.1\"] = 1.0 - get_eff_at(hists[v][1], hists[v][0], 1.0 - 0.1)\n",
    "        ret[v][\"f0.3\"] = 1.0 - get_eff_at(hists[v][1], hists[v][0], 1.0 - 0.3)\n",
    "\n",
    "    return ret"
   ]
  },
  {
   "cell_type": "code",
   "execution_count": null,
   "metadata": {
    "collapsed": true
   },
   "outputs": [],
   "source": [
    "gpt1 = d_qcd.groupby(\"ptbin2\")\n",
    "gpt2 = d_qcd.groupby(\"etabin2\")"
   ]
  },
  {
   "cell_type": "code",
   "execution_count": null,
   "metadata": {
    "collapsed": false
   },
   "outputs": [],
   "source": [
    "gpt1 = d.groupby(\"ptbin2\")\n",
    "gpt2 = d.groupby(\"etabin2\")\n",
    "\n",
    "#gpt2 = df_tt_testing_shuf.groupby(\"ptbin\")\n",
    "#gpt3 = df_qcd_training.groupby(\"ptbin\")"
   ]
  },
  {
   "cell_type": "code",
   "execution_count": null,
   "metadata": {
    "collapsed": false
   },
   "outputs": [],
   "source": [
    "xs_l = gpt1.apply(lambda d: cls_ds_metrics([cls_c4], d[d[\"id\"]==2], d[d[\"id\"]==0]))\n",
    "xs_c = gpt1.apply(lambda d: cls_ds_metrics([cls_c4], d[d[\"id\"]==2], d[d[\"id\"]==1]))"
   ]
  },
  {
   "cell_type": "code",
   "execution_count": null,
   "metadata": {
    "collapsed": false
   },
   "outputs": [],
   "source": [
    "xs_l2 = gpt2.apply(lambda d: cls_ds_metrics([cls_c1, cls_c2, cls_c3, cls_c4], d[d[\"id\"]==2], d[d[\"id\"]==0]))\n",
    "xs_c2 = gpt2.apply(lambda d: cls_ds_metrics([cls_c1, cls_c2, cls_c3, cls_c4], d[d[\"id\"]==2], d[d[\"id\"]==1]))"
   ]
  },
  {
   "cell_type": "code",
   "execution_count": null,
   "metadata": {
    "collapsed": false
   },
   "outputs": [],
   "source": [
    "def draw_comparison(xs1, bins, xlabel, ylabel, v):\n",
    "    plt.figure(figsize=(6,6))\n",
    "\n",
    "    ax = plt.axes([0,0.52,1.0,0.5])\n",
    "    ax.grid()\n",
    "    \n",
    "    #ax.plot(bins[xs1.keys()-1], [x[\"c1\"][v] for x in xs1], label=\"c1\", ms=0, marker=\"x\", lw=1, color=\"gray\")\n",
    "    #ax.plot(bins[xs1.keys()-1], [x[\"c2\"][v] for x in xs1], label=\"c2\", ms=0, marker=\"x\", lw=1, color=\"purple\")\n",
    "    #ax.plot(bins[xs1.keys()-1], [x[\"c3\"][v] for x in xs1], label=\"c3\", ms=0, marker=\"x\", lw=1, color=\"blue\")\n",
    "    #ax.plot(bins[xs1.keys()-1], [x[\"c4\"][v] for x in xs1], label=\"c4\", ms=0, marker=\"x\", lw=1, color=\"cyan\")\n",
    "    #ax.plot(bins[xs1.keys()-1], [x[\"Jet_CSV\"][v] for x in xs1], label=\"AVR\", ms=0, marker=\"o\", lw=1, color=\"red\")\n",
    "    ax.plot(bins[xs1.keys()-1], [x[\"Jet_CSVIVF\"][v] for x in xs1], label=\"IVF\", ms=0, marker=\"^\", lw=1, color=\"green\")\n",
    "    ax.plot(bins[xs1.keys()-1], [x[\"Jet_CombMVANEW\"][v] for x in xs1], label=\"cMVA\", ms=0, marker=\"^\", lw=2, color=\"orange\")\n",
    "    ax.plot(bins[xs1.keys()-1], [x[\"Jet_CombMVAETH\"][v] for x in xs1], label=\"cMVA v2\", ms=0, marker=\"^\", lw=2, color=\"darkblue\", ls=\"--\")\n",
    "    ax.legend(loc=\"best\")\n",
    "\n",
    "    ax.set_ylabel(ylabel, fontsize=16)\n",
    "\n",
    "    ax = plt.axes([0,0.0,1.0,0.48], sharex=ax)\n",
    "    ax.grid()\n",
    "\n",
    "    ax.set_xlabel(xlabel, fontsize=16)\n",
    "    ax.set_ylabel(\"classifier wrt. cMVA\", fontsize=16)\n",
    "\n",
    "    #ax.plot(bins[xs1.keys()-1], [x[\"Jet_CSV\"][v]/ x[\"Jet_CombMVANEW\"][v] for x in xs1], ms=0, marker=\"^\", lw=1, color=\"red\")\n",
    "    ax.plot(bins[xs1.keys()-1], [x[\"Jet_CSVIVF\"][v]/ x[\"Jet_CombMVANEW\"][v] for x in xs1], ms=0, marker=\"^\", lw=2, color=\"green\")\n",
    "    ax.plot(bins[xs1.keys()-1], [x[\"Jet_CombMVAETH\"][v]/ x[\"Jet_CombMVANEW\"][v] for x in xs1], ms=0, marker=\"^\", lw=2, color=\"darkblue\", ls=\"--\")\n",
    "\n",
    "    #ax.plot(bins[xs1.keys()-1], [x[\"c1\"][v]/ x[\"Jet_CombMVANEW\"][v] for x in xs1], ms=0, marker=\"^\", lw=1, color=\"gray\")\n",
    "    #ax.plot(bins[xs1.keys()-1], [x[\"c2\"][v]/ x[\"Jet_CombMVANEW\"][v] for x in xs1], ms=0, marker=\"^\", lw=1, color=\"purple\")\n",
    "    #ax.plot(bins[xs1.keys()-1], [x[\"c3\"][v]/ x[\"Jet_CombMVANEW\"][v] for x in xs1], ms=0, marker=\"^\", lw=1, color=\"blue\")\n",
    "    #ax.plot(bins[xs1.keys()-1], [x[\"c4\"][v]/ x[\"Jet_CombMVANEW\"][v] for x in xs1], ms=0, marker=\"^\", lw=1, color=\"cyan\")\n",
    "    ax.axhline(1.0, color=\"orange\", lw=2)\n",
    "    #ax.set_ylim(top=1.2)"
   ]
  },
  {
   "cell_type": "code",
   "execution_count": null,
   "metadata": {
    "collapsed": false
   },
   "outputs": [],
   "source": [
    "draw_comparison(xs_l, ptbins2,\n",
    "    \"jet $p_T$ [GeV]\",\n",
    "    \"AUC light\",\n",
    "    \"AUC\"\n",
    ")\n",
    "plt.savefig(\"discr_comparison_pt_auc_light.pdf\")"
   ]
  },
  {
   "cell_type": "code",
   "execution_count": null,
   "metadata": {
    "collapsed": false
   },
   "outputs": [],
   "source": [
    "draw_comparison(xs_l2, etabins2,\n",
    "    \"jet $|\\eta|$\",\n",
    "    \"AUC light\",\n",
    "    \"AUC\"\n",
    ")\n",
    "plt.savefig(\"discr_comparison_eta_auc_light.pdf\")"
   ]
  },
  {
   "cell_type": "code",
   "execution_count": null,
   "metadata": {
    "collapsed": false
   },
   "outputs": [],
   "source": [
    "draw_comparison(xs_c, ptbins2,\n",
    "    \"jet $p_T$ [GeV]\",\n",
    "    \"AUC charm\",\n",
    "    \"AUC\"\n",
    ")\n",
    "plt.savefig(\"discr_comparison_pt_auc_charm.pdf\")"
   ]
  },
  {
   "cell_type": "code",
   "execution_count": null,
   "metadata": {
    "collapsed": false
   },
   "outputs": [],
   "source": [
    "draw_comparison(xs_c2, etabins2,\n",
    "    \"jet $|\\eta|$\",\n",
    "    \"AUC charm\",\n",
    "    \"AUC\"\n",
    ")\n",
    "plt.savefig(\"discr_comparison_eta_auc_charm.pdf\")"
   ]
  },
  {
   "cell_type": "code",
   "execution_count": null,
   "metadata": {
    "collapsed": false
   },
   "outputs": [],
   "source": [
    "draw_comparison(xs_l, ptbins2,\n",
    "    \"jet $p_T$ [GeV]\",\n",
    "    \"udsg eff. at 50% b-eff.\",\n",
    "    \"e50\"\n",
    ")\n",
    "plt.savefig(\"discr_comparison_pt_e50_light.pdf\")"
   ]
  },
  {
   "cell_type": "code",
   "execution_count": null,
   "metadata": {
    "collapsed": false
   },
   "outputs": [],
   "source": [
    "draw_comparison(xs_l2, etabins2,\n",
    "    \"jet $|\\eta|$\",\n",
    "    \"udsg eff. at 50% b-eff\",\n",
    "    \"e50\"\n",
    ")\n",
    "plt.savefig(\"discr_comparison_eta_e50_light.pdf\")"
   ]
  },
  {
   "cell_type": "code",
   "execution_count": null,
   "metadata": {
    "collapsed": false
   },
   "outputs": [],
   "source": [
    "draw_comparison(xs_l, ptbins2,\n",
    "    \"jet $p_T$ [GeV]\",\n",
    "    \"udsg eff. at 90% b eff.\",\n",
    "    \"e90\"\n",
    ")\n",
    "plt.savefig(\"discr_comparison_pt_e90_light.pdf\")"
   ]
  },
  {
   "cell_type": "code",
   "execution_count": null,
   "metadata": {
    "collapsed": false
   },
   "outputs": [],
   "source": [
    "draw_comparison(xs_l2, etabins2,\n",
    "    \"jet $|\\eta|$\",\n",
    "    \"udsg eff. at 90% b eff.\",\n",
    "    \"e90\"\n",
    ")\n",
    "plt.savefig(\"discr_comparison_eta_e90_light.pdf\")"
   ]
  },
  {
   "cell_type": "code",
   "execution_count": null,
   "metadata": {
    "collapsed": false
   },
   "outputs": [],
   "source": [
    "draw_comparison(xs_c, ptbins2,\n",
    "    \"jet $p_T$ [GeV]\",\n",
    "    \"c eff. at 50% b eff.\",\n",
    "    \"e50\"\n",
    ")\n",
    "plt.savefig(\"discr_comparison_pt_e50_charm.pdf\")"
   ]
  },
  {
   "cell_type": "code",
   "execution_count": null,
   "metadata": {
    "collapsed": false
   },
   "outputs": [],
   "source": [
    "draw_comparison(xs_c2, etabins2,\n",
    "    \"jet $|\\eta|$\",\n",
    "    \"c eff. at 50% b eff.\",\n",
    "    \"e50\"\n",
    ")\n",
    "plt.savefig(\"discr_comparison_eta_e50_charm.pdf\")"
   ]
  },
  {
   "cell_type": "code",
   "execution_count": null,
   "metadata": {
    "collapsed": false
   },
   "outputs": [],
   "source": [
    "draw_comparison(xs_c, ptbins2,\n",
    "    \"jet $p_T$ [GeV]\",\n",
    "    \"c eff. at 90% b eff.\",\n",
    "    \"e90\"\n",
    ")\n",
    "plt.savefig(\"discr_comparison_pt_e90_charm.pdf\")"
   ]
  },
  {
   "cell_type": "code",
   "execution_count": null,
   "metadata": {
    "collapsed": false
   },
   "outputs": [],
   "source": [
    "draw_comparison(xs_c2, etabins2,\n",
    "    \"jet $|\\eta|$\",\n",
    "    \"c eff. at 90% b eff.\",\n",
    "    \"e90\"\n",
    ")\n",
    "plt.savefig(\"discr_comparison_eta_e90_charm.pdf\")"
   ]
  },
  {
   "cell_type": "code",
   "execution_count": null,
   "metadata": {
    "collapsed": false
   },
   "outputs": [],
   "source": [
    "draw_comparison(xs_l, ptbins2,\n",
    "    \"jet $p_T$ [GeV]\",\n",
    "    \"b eff. at 10% udsg eff.\",\n",
    "    \"f0.1\"\n",
    ")\n",
    "plt.savefig(\"discr_comparison_pt_beff_udsg01.pdf\")"
   ]
  },
  {
   "cell_type": "code",
   "execution_count": null,
   "metadata": {
    "collapsed": false
   },
   "outputs": [],
   "source": [
    "draw_comparison(xs_l, ptbins2,\n",
    "    \"jet $p_T$ [GeV]\",\n",
    "    \"b eff. at 1% udsg eff.\",\n",
    "    \"f0.01\"\n",
    ")\n",
    "plt.savefig(\"discr_comparison_pt_beff_udsg001.pdf\")"
   ]
  },
  {
   "cell_type": "code",
   "execution_count": null,
   "metadata": {
    "collapsed": false
   },
   "outputs": [],
   "source": [
    "draw_comparison(xs_c, ptbins2,\n",
    "    \"jet $p_T$ [GeV]\",\n",
    "    \"b eff at 30% c eff.\",\n",
    "    \"f0.3\"\n",
    ")\n",
    "plt.savefig(\"discr_comparison_pt_beff_c03.pdf\")"
   ]
  },
  {
   "cell_type": "code",
   "execution_count": 165,
   "metadata": {
    "collapsed": false
   },
   "outputs": [
    {
     "name": "stdout",
     "output_type": "stream",
     "text": [
      "721692\n"
     ]
    },
    {
     "data": {
      "text/plain": [
       "<matplotlib.text.Text at 0x7f1550c62e50>"
      ]
     },
     "execution_count": 165,
     "metadata": {},
     "output_type": "execute_result"
    },
    {
     "data": {
      "image/png": "[encoded data removed]",
      "text/plain": [
       "<matplotlib.figure.Figure at 0x7f1536278750>"
      ]
     },
     "metadata": {},
     "output_type": "display_data"
    }
   ],
   "source": [
    "plt.figure(figsize=(6,5))\n",
    "xx, yy = np.meshgrid(np.linspace(0, 1, 1000), np.linspace(0, 1, 1000))\n",
    "N = len(xx.ravel())\n",
    "a = np.c_[xx.ravel(), yy.ravel()]\n",
    "b = np.zeros((N, 6))\n",
    "b[:, 0:2] = a[:, :]\n",
    "bd_jp = 0.4\n",
    "bd_sel = 0.0\n",
    "bd_smu = 0.0\n",
    "vtxcat = 0\n",
    "b[:, 2] = bd_jp\n",
    "b[:, 3] = bd_sel\n",
    "b[:, 4] = bd_smu\n",
    "b[:, 5] = bd_smu\n",
    "\n",
    "\n",
    "Z = cls_c3.cls.predict_proba(b)\n",
    "z = Z[:, 1]\n",
    "z = z.reshape(xx.shape)\n",
    "cont = plt.contourf(xx, yy, z, alpha=1, cmap=\"coolwarm\")\n",
    "plt.colorbar(cont, label=\"discriminator\")\n",
    "Nplot = 100\n",
    "sel = (\n",
    "    (d_testing[\"Jet_JP\"]>bd_jp-0.1) & (d_testing[\"Jet_JP\"]<bd_jp+0.1) &\n",
    "    (d_testing[\"Jet_SoftEl\"]>bd_sel-0.1) & (d_testing[\"Jet_SoftEl\"]<bd_sel+0.1) &\n",
    "    (d_testing[\"Jet_SoftMu\"]>bd_smu-0.1) & (d_testing[\"Jet_SoftMu\"]<bd_smu+0.1) & \n",
    "    abs(d_testing[\"Jet_CSV\"] - d_testing[\"Jet_CSVIVF\"])>0.00001\n",
    ")\n",
    "\n",
    "print sum(sel)\n",
    "s1 = d_testing[\"id\"]==2\n",
    "s2 = d_testing[\"id\"]==0\n",
    "s3 = d_testing[\"id\"]==1\n",
    "\n",
    "plt.scatter(\n",
    "    d_testing[sel & s1][:Nplot][\"Jet_CSV\"],\n",
    "    d_testing[sel & s1][:Nplot][\"Jet_CSVIVF\"],\n",
    "    marker=\"o\", alpha=1.0, color=\"black\",\n",
    "    label=\"b\"\n",
    ")\n",
    "\n",
    "plt.scatter(\n",
    "    d_testing[sel & s2][:Nplot][\"Jet_CSV\"],\n",
    "    d_testing[sel & s2][:Nplot][\"Jet_CSVIVF\"],\n",
    "    marker=\"x\", alpha=1.0, color=\"red\",\n",
    "    label=\"udsg\"\n",
    ")\n",
    "\n",
    "plt.scatter(\n",
    "    d_testing[sel & s3][:Nplot][\"Jet_CSV\"],\n",
    "    d_testing[sel & s3][:Nplot][\"Jet_CSVIVF\"],\n",
    "    marker=\"^\", alpha=1.0, color=\"green\",\n",
    "    label=\"c\"\n",
    ")\n",
    "plt.legend(numpoints=1, loc=3)\n",
    "plt.xlim(0,1)\n",
    "plt.ylim(0,1)\n",
    "\n",
    "plt.xlabel(\"CSV AVR\", fontsize=16)\n",
    "plt.ylabel(\"CSV IVF\", fontsize=16)"
   ]
  },
  {
   "cell_type": "code",
   "execution_count": null,
   "metadata": {
    "collapsed": false
   },
   "outputs": [],
   "source": [
    "# evaluate_tmva(d, \"CombinedMVAETH.weights.xml\", cls_c3.variables)"
   ]
  }
 ],
 "metadata": {
  "kernelspec": {
   "display_name": "Python 2",
   "language": "python",
   "name": "python2"
  },
  "language_info": {
   "codemirror_mode": {
    "name": "ipython",
    "version": 2
   },
   "file_extension": ".py",
   "mimetype": "text/x-python",
   "name": "python",
   "nbconvert_exporter": "python",
   "pygments_lexer": "ipython2",
   "version": "2.7.10"
  }
 },
 "nbformat": 4,
 "nbformat_minor": 0
}
