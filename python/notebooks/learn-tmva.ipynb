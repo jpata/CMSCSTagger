{
 "cells": [
  {
   "cell_type": "code",
   "execution_count": 84,
   "metadata": {
    "collapsed": true
   },
   "outputs": [],
   "source": [
    "import ROOT\n",
    "import numpy as np\n",
    "ROOT.gROOT.SetBatch(True)\n",
    "%matplotlib inline\n",
    "import matplotlib.pyplot as plt"
   ]
  },
  {
   "cell_type": "code",
   "execution_count": 2,
   "metadata": {
    "collapsed": false
   },
   "outputs": [],
   "source": [
    "import sys\n",
    "sys.path.insert(0, \"/Users/joosep/Documents/heplot/\")\n",
    "sys.path.insert(0, \"/Users/joosep/Documents/btv/SuperTagger/python/\")"
   ]
  },
  {
   "cell_type": "code",
   "execution_count": 3,
   "metadata": {
    "collapsed": true
   },
   "outputs": [],
   "source": [
    "import rootpy"
   ]
  },
  {
   "cell_type": "code",
   "execution_count": 4,
   "metadata": {
    "collapsed": true
   },
   "outputs": [],
   "source": [
    "import supertagger_train"
   ]
  },
  {
   "cell_type": "code",
   "execution_count": 115,
   "metadata": {
    "collapsed": true
   },
   "outputs": [],
   "source": [
    "d1 = supertagger_train.ROOTData(filename=\"data/ttjets_b_testing.root\", treename=\"tree_b\")\n",
    "d2 = supertagger_train.ROOTData(filename=\"data/ttjets_c_testing.root\", treename=\"tree_c\")"
   ]
  },
  {
   "cell_type": "code",
   "execution_count": 116,
   "metadata": {
    "collapsed": false
   },
   "outputs": [],
   "source": [
    "d1_cls = supertagger_train.ROOTData(filename=\"SuperTagger/ttjets_b_testing.root\", treename=\"tree\")\n",
    "d2_cls = supertagger_train.ROOTData(filename=\"SuperTagger/ttjets_c_testing.root\", treename=\"tree\")"
   ]
  },
  {
   "cell_type": "code",
   "execution_count": 117,
   "metadata": {
    "collapsed": false
   },
   "outputs": [],
   "source": [
    "d1.load()\n",
    "d2.load()\n",
    "d1_cls.load()\n",
    "d2_cls.load()"
   ]
  },
  {
   "cell_type": "code",
   "execution_count": 118,
   "metadata": {
    "collapsed": false
   },
   "outputs": [
    {
     "data": {
      "text/plain": [
       "<ROOT.TFriendElement object (\"tree\") at 0x7f922e0e8b90>"
      ]
     },
     "execution_count": 118,
     "metadata": {},
     "output_type": "execute_result"
    }
   ],
   "source": [
    "d1.tree.AddFriend(d1_cls.tree)"
   ]
  },
  {
   "cell_type": "code",
   "execution_count": 119,
   "metadata": {
    "collapsed": false
   },
   "outputs": [
    {
     "data": {
      "text/plain": [
       "<ROOT.TFriendElement object (\"tree\") at 0x7f922e0f3710>"
      ]
     },
     "execution_count": 119,
     "metadata": {},
     "output_type": "execute_result"
    }
   ],
   "source": [
    "d2.tree.AddFriend(d2_cls.tree)"
   ]
  },
  {
   "cell_type": "code",
   "execution_count": 135,
   "metadata": {
    "collapsed": true
   },
   "outputs": [],
   "source": [
    "def roc(h1, h2):\n",
    "    h1 = h1.Clone()\n",
    "    h2 = h2.Clone()\n",
    "    h1.Scale(1.0 / h1.Integral())\n",
    "    h2.Scale(1.0 / h2.Integral())\n",
    "    c1 = h1.GetCumulative()\n",
    "    c2 = h2.GetCumulative()\n",
    "    nb = c1.GetNbinsX()\n",
    "    ret = np.zeros((nb, 2))\n",
    "    err = np.zeros((nb, 2))\n",
    "    for i in range(nb):\n",
    "        ret[i,0] = c1.GetBinContent(i+1) \n",
    "        ret[i,1] = c2.GetBinContent(i+1)\n",
    "        err[i,0] = 0.0*c1.GetBinError(i+1) \n",
    "        err[i,1] = 0.0*c2.GetBinError(i+1)\n",
    "    return ret, err"
   ]
  },
  {
   "cell_type": "code",
   "execution_count": 136,
   "metadata": {
    "collapsed": false
   },
   "outputs": [
    {
     "name": "stdout",
     "output_type": "stream",
     "text": [
      "821830\n",
      "624637\n"
     ]
    }
   ],
   "source": [
    "h1 = d1.hist(\"cls1\", (1000,-1,1), \"1\").Clone(\"h1\")\n",
    "h2 = d2.hist(\"cls1\", (1000,-1,1), \"1\").Clone(\"h2\")\n",
    "rc1, ec1 = roc(h1, h2)"
   ]
  },
  {
   "cell_type": "code",
   "execution_count": 137,
   "metadata": {
    "collapsed": false
   },
   "outputs": [
    {
     "name": "stdout",
     "output_type": "stream",
     "text": [
      "821830\n",
      "624637\n"
     ]
    }
   ],
   "source": [
    "h1 = d1.hist(\"cls2\", (1000,-1,1), \"1\").Clone(\"h1\")\n",
    "h2 = d2.hist(\"cls2\", (1000,-1,1), \"1\").Clone(\"h2\")\n",
    "rc2, ec2 = roc(h1, h2)"
   ]
  },
  {
   "cell_type": "code",
   "execution_count": 138,
   "metadata": {
    "collapsed": false
   },
   "outputs": [
    {
     "name": "stdout",
     "output_type": "stream",
     "text": [
      "821830\n",
      "624637\n"
     ]
    }
   ],
   "source": [
    "h1 = d1.hist(\"bd_csv1\", (1000,-10,10), \"1\").Clone(\"h1\")\n",
    "h2 = d2.hist(\"bd_csv1\", (1000,-10,10), \"1\").Clone(\"h2\")\n",
    "rc_csv1, ec_csv1 = roc(h1, h2)"
   ]
  },
  {
   "cell_type": "code",
   "execution_count": 139,
   "metadata": {
    "collapsed": false
   },
   "outputs": [
    {
     "name": "stdout",
     "output_type": "stream",
     "text": [
      "821830\n",
      "624637\n"
     ]
    }
   ],
   "source": [
    "h1 = d1.hist(\"bd_csv2\", (1000,-10,10), \"1\").Clone(\"h1\")\n",
    "h2 = d2.hist(\"bd_csv2\", (1000,-10,10), \"1\").Clone(\"h2\")\n",
    "rc_csv2, ec_csv2 = roc(h1, h2)"
   ]
  },
  {
   "cell_type": "code",
   "execution_count": 143,
   "metadata": {
    "collapsed": false
   },
   "outputs": [
    {
     "data": {
      "image/png": "[encoded data removed]",
      "text/plain": [
       "<matplotlib.figure.Figure at 0x11fdd3cd0>"
      ]
     },
     "metadata": {},
     "output_type": "display_data"
    }
   ],
   "source": [
    "plt.figure(figsize=(6,6))\n",
    "#plt.grid(dashes=[])\n",
    "# plt.errorbar(rc1[:, 1], rc1[:, 0], xerr=ec1[:, 0], yerr=ec1[:, 1])\n",
    "# plt.errorbar(rc2[:, 1], rc2[:, 0], xerr=ec2[:, 0], yerr=ec2[:, 1])\n",
    "# plt.errorbar(rc_csv1[:, 1], rc_csv1[:, 0], xerr=ec_csv1[:, 0], yerr=ec_csv1[:, 1])\n",
    "# plt.errorbar(rc_csv2[:, 1], rc_csv2[:, 0], xerr=ec_csv2[:, 0], yerr=ec_csv2[:, 1])\n",
    "\n",
    "plt.plot(rc1[:, 1], rc1[:, 0])\n",
    "plt.plot(rc2[:, 1], rc2[:, 0])\n",
    "plt.plot(rc_csv1[:, 1], rc_csv1[:, 0], ls=\"--\")\n",
    "plt.plot(rc_csv2[:, 1], rc_csv2[:, 0], ls=\"--\")\n",
    "\n",
    "\n",
    "plt.xlim(0,1)\n",
    "plt.ylim(0,1)\n",
    "plt.yscale(\"log\")\n",
    "plt.ylim(0.001,0.2)\n",
    "plt.yticks(np.linspace(0.001,1.0,21));"
   ]
  },
  {
   "cell_type": "code",
   "execution_count": null,
   "metadata": {
    "collapsed": true
   },
   "outputs": [],
   "source": []
  }
 ],
 "metadata": {
  "kernelspec": {
   "display_name": "Python 2",
   "language": "python",
   "name": "python2"
  },
  "language_info": {
   "codemirror_mode": {
    "name": "ipython",
    "version": 2
   },
   "file_extension": ".py",
   "mimetype": "text/x-python",
   "name": "python",
   "nbconvert_exporter": "python",
   "pygments_lexer": "ipython2",
   "version": "2.7.9"
  }
 },
 "nbformat": 4,
 "nbformat_minor": 0
}
